{
  "cells": [
    {
      "cell_type": "markdown",
      "metadata": {
        "id": "k8rdlDWkOCTL"
      },
      "source": [
        "## Подключение модулей и получение входных данных\n"
      ]
    },
    {
      "cell_type": "code",
      "execution_count": null,
      "metadata": {
        "colab": {
          "base_uri": "https://localhost:8080/"
        },
        "id": "95-_1LgHX-XK",
        "outputId": "0964daae-97be-4fa0-a62d-9d725cab993d"
      },
      "outputs": [
        {
          "name": "stdout",
          "output_type": "stream",
          "text": [
            "[['113244', 'drive/MyDrive/data/113244/001/neurovisor_2025-04-14_13-40-50.edf'], ['093056', 'drive/MyDrive/data/093056/001/neurovisor_2025-04-02_14-45-14.edf'], ['146831', 'drive/MyDrive/data/146831/001/neurovisor_2025-04-23_16-30-31.edf'], ['054051', 'drive/MyDrive/data/054051/001/neurovisor_2025-04-03_10-47-46.edf'], ['054051', 'drive/MyDrive/data/054051/002/neurovisor_2025-04-03_11-43-00.edf'], ['120125', 'drive/MyDrive/data/120125/001/neurovisor_2025-04-19_13-56-16.edf'], ['045286', 'drive/MyDrive/data/045286_err/neurovisor_2025-04-04_15-24-30.edf'], ['155121', 'drive/MyDrive/data/155121/001/neurovisor_2025-04-19_16-49-10.edf'], ['135304', 'drive/MyDrive/data/135304/001/neurovisor_2025-04-24_16-59-30.edf'], ['105832', 'drive/MyDrive/data/105832/neurovisor_2025-03-22_16-05-32.edf'], ['076658', 'drive/MyDrive/data/076658/001/neurovisor_2025-04-28_16-38-32.edf'], ['344772', 'drive/MyDrive/data/344772/001/neurovisor_2025-04-21_16-14-32.edf'], ['208114', 'drive/MyDrive/data/208114/001/neurovisor_2025-04-16_13-57-55.edf'], ['195499', 'drive/MyDrive/data/195499/001/neurovisor_2025-04-17_16-41-56.edf'], ['355835', 'drive/MyDrive/data/355835/002/neurovisor_2025-04-22_17-07-13.edf'], ['355835', 'drive/MyDrive/data/355835/001/neurovisor_2025-04-22_16-50-57.edf'], ['355835', 'drive/MyDrive/data/355835/003/neurovisor_2025-04-22_17-49-20.edf'], ['319924', 'drive/MyDrive/data/319924/001/neurovisor_2025-04-24_13-20-32.edf'], ['300279', 'drive/MyDrive/data/300279/001/neurovisor_2025-04-25_10-53-38.edf'], ['325017', 'drive/MyDrive/data/325017_err/001/neurovisor_2025-04-03_15-38-15.edf'], ['241446', 'drive/MyDrive/data/241446/001/neurovisor_2025-04-19_10-55-43.edf'], ['265094', 'drive/MyDrive/data/265094/001/neurovisor_2025-04-05_10-51-45.edf'], ['333752', 'drive/MyDrive/data/333752/003/neurovisor_2025-04-18_11-41-43.edf'], ['333752', 'drive/MyDrive/data/333752/001/neurovisor_2025-04-18_10-29-10.edf'], ['333752', 'drive/MyDrive/data/333752/002/neurovisor_2025-04-18_10-59-14.edf'], ['447885', 'drive/MyDrive/data/447885/001/neurovisor_2025-04-25_13-47-10.edf'], ['489107', 'drive/MyDrive/data/489107/001/neurovisor_2025-04-29_16-44-41.edf'], ['557394', 'drive/MyDrive/data/557394/001/neurovisor_2025-04-18_16-17-23.edf'], ['475645', 'drive/MyDrive/data/475645/001/neurovisor_2025-04-20_16-37-32.edf'], ['527415', 'drive/MyDrive/data/527415/001/neurovisor_2025-04-15_16-26-09.edf'], ['373596', 'drive/MyDrive/data/373596/001/neurovisor_2025-04-28_13-44-33.edf'], ['365415', 'drive/MyDrive/data/365415/001/neurovisor_2025-04-27_13-10-17.edf'], ['443408', 'drive/MyDrive/data/443408/001/neurovisor_2025-04-25_17-05-12.edf'], ['483009', 'drive/MyDrive/data/483009/001/neurovisor_2025-04-16_16-39-39.edf'], ['446415', 'drive/MyDrive/data/446415/001/neurovisor_2025-04-29_14-02-20.edf'], ['666522', 'drive/MyDrive/data/666522/001/neurovisor_2025-04-18_13-52-27.edf'], ['710022', 'drive/MyDrive/data/710022/001/neurovisor_2025-04-14_17-00-55.edf'], ['710022', 'drive/MyDrive/data/710022/002/neurovisor_2025-04-14_17-21-18.edf'], ['710022', 'drive/MyDrive/data/710022/003/neurovisor_2025-04-14_18-03-09.edf'], ['679594', 'drive/MyDrive/data/679594/001/neurovisor_2025-04-07_14-14-33.edf'], ['820694', 'drive/MyDrive/data/820694/002/neurovisor_2025-04-22_14-36-11.edf'], ['820694', 'drive/MyDrive/data/820694/001/neurovisor_2025-04-22_13-35-56.edf'], ['648208', 'drive/MyDrive/data/648208/001/neurovisor_2025-04-17_14-31-17.edf'], ['735684', 'drive/MyDrive/data/735684/003/neurovisor_2025-04-20_14-47-10.edf'], ['735684', 'drive/MyDrive/data/735684/001/neurovisor_2025-04-20_13-35-11.edf'], ['735684', 'drive/MyDrive/data/735684/002/neurovisor_2025-04-20_14-05-22.edf'], ['761404', 'drive/MyDrive/data/761404/001/neurovisor_2025-04-23_11-17-45.edf'], ['587707', 'drive/MyDrive/data/587707/001/neurovisor_2025-04-21_13-37-40.edf'], ['814770', 'drive/MyDrive/data/814770/001/neurovisor_2025-04-15_13-56-24.edf'], ['907623', 'drive/MyDrive/data/907623/001/neurovisor_2025-04-22_10-54-12.edf'], ['885292', 'drive/MyDrive/data/885292/001/neurovisor_2025-04-24_11-16-23.edf'], ['841045', 'drive/MyDrive/data/841045/001/neurovisor_2025-04-23_14-03-28.edf'], ['825526', 'drive/MyDrive/data/825526/001/neurovisor_2025-05-03_14-28-11.edf'], ['902176', 'drive/MyDrive/data/902176/001/neurovisor_2025-04-07_10-13-09.edf'], ['862274', 'drive/MyDrive/data/862274_err/001/neurovisor_2025-04-04_10-38-13.edf'], ['913071', 'drive/MyDrive/data/913071/001/neurovisor_2025-04-27_16-48-10.edf'], ['845926', 'drive/MyDrive/data/845926/001/neurovisor_2025-05-03_11-03-15.edf'], ['834979', 'drive/MyDrive/data/834979/001/neurovisor_2025-04-28_11-10-48.edf'], ['863463', 'drive/MyDrive/data/863463/003/neurovisor_2025-04-21_11-50-04.edf'], ['863463', 'drive/MyDrive/data/863463/002/neurovisor_2025-04-21_11-06-16.edf'], ['863463', 'drive/MyDrive/data/863463/001/neurovisor_1_2025-04-21_10-47-48.edf'], ['971006', 'drive/MyDrive/data/971006/001/neurovisor_2025-04-20_10-55-26.edf']]\n"
          ]
        }
      ],
      "source": [
        "import mne\n",
        "from pathlib import Path\n",
        "import os\n",
        "import matplotlib.pyplot as plt\n",
        "import numpy as np\n",
        "\n",
        "#path to data folder\n",
        "BASEPATH = \"/data/\"\n",
        "\n",
        "def search_datafile(path, paths_list):\n",
        "  for filename in os.listdir(path):\n",
        "    new_path = path + \"/\" + filename\n",
        "    if (os.path.isfile(new_path) and filename[0:11] == \"neurovisor_\"):\n",
        "        folder_offset = len(BASEPATH);\n",
        "        paths_list.append([new_path[folder_offset + 1:folder_offset + 7], new_path])\n",
        "    elif (os.path.isdir(new_path)):\n",
        "        search_datafile(new_path, paths_list)\n",
        "\n",
        "paths_list = []\n",
        "search_datafile(BASEPATH, paths_list)\n",
        "\n",
        "print(paths_list)"
      ]
    },
    {
      "cell_type": "markdown",
      "metadata": {
        "id": "45TtEWL8rFH-"
      },
      "source": [
        "## Извлекём метки классов\n",
        "**0 - мужчина, 1 - женщина**"
      ]
    },
    {
      "cell_type": "code",
      "execution_count": 8,
      "metadata": {
        "colab": {
          "base_uri": "https://localhost:8080/"
        },
        "id": "uJHpJzV1rJdT",
        "outputId": "9428ebe0-a027-4c99-d6bf-040f82cd57fd"
      },
      "outputs": [
        {
          "name": "stdout",
          "output_type": "stream",
          "text": [
            "[['076658', 0], ['333752', 0], ['325017', 0], ['365415', 0], ['902176', 0], ['885292', 0], ['195499', 0], ['146831', 0], ['845926', 1], ['913071', 0], ['735684', 0], ['834979', 0], ['443408', 0], ['648208', 1], ['841045', 0], ['373596', 0], ['113244', 0], ['045286', 1], ['862274', 0], ['761404', 0], ['557394', 0], ['632847', 0], ['054051', 0], ['710022', 0], ['120125', 1], ['814770', 0], ['483009', 0], ['155121', 0], ['679594', 0], ['135304', 1], ['447885', 0], ['355835', 1], ['587707', 0], ['105832', 0], ['265094', 1], ['093056', 0], ['527415', 1], ['825526', 0], ['907623', 0], ['971006', 0], ['489107', 0], ['863463', 0], ['241446', 0], ['820694', 0], ['475645', 0], ['319924', 0], ['208114', 0], ['300279', 0], ['446415', 0], ['666522', 0], ['344772', 0]]\n",
            "[[0, 'drive/MyDrive/data/076658/001/neurovisor_2025-04-28_16-38-32.edf'], [0, 'drive/MyDrive/data/333752/003/neurovisor_2025-04-18_11-41-43.edf'], [0, 'drive/MyDrive/data/333752/001/neurovisor_2025-04-18_10-29-10.edf'], [0, 'drive/MyDrive/data/333752/002/neurovisor_2025-04-18_10-59-14.edf'], [0, 'drive/MyDrive/data/325017_err/001/neurovisor_2025-04-03_15-38-15.edf'], [0, 'drive/MyDrive/data/365415/001/neurovisor_2025-04-27_13-10-17.edf'], [0, 'drive/MyDrive/data/902176/001/neurovisor_2025-04-07_10-13-09.edf'], [0, 'drive/MyDrive/data/885292/001/neurovisor_2025-04-24_11-16-23.edf'], [0, 'drive/MyDrive/data/195499/001/neurovisor_2025-04-17_16-41-56.edf'], [0, 'drive/MyDrive/data/146831/001/neurovisor_2025-04-23_16-30-31.edf'], [1, 'drive/MyDrive/data/845926/001/neurovisor_2025-05-03_11-03-15.edf'], [0, 'drive/MyDrive/data/913071/001/neurovisor_2025-04-27_16-48-10.edf'], [0, 'drive/MyDrive/data/735684/003/neurovisor_2025-04-20_14-47-10.edf'], [0, 'drive/MyDrive/data/735684/001/neurovisor_2025-04-20_13-35-11.edf'], [0, 'drive/MyDrive/data/735684/002/neurovisor_2025-04-20_14-05-22.edf'], [0, 'drive/MyDrive/data/834979/001/neurovisor_2025-04-28_11-10-48.edf'], [0, 'drive/MyDrive/data/443408/001/neurovisor_2025-04-25_17-05-12.edf'], [1, 'drive/MyDrive/data/648208/001/neurovisor_2025-04-17_14-31-17.edf'], [0, 'drive/MyDrive/data/841045/001/neurovisor_2025-04-23_14-03-28.edf'], [0, 'drive/MyDrive/data/373596/001/neurovisor_2025-04-28_13-44-33.edf'], [0, 'drive/MyDrive/data/113244/001/neurovisor_2025-04-14_13-40-50.edf'], [1, 'drive/MyDrive/data/045286_err/neurovisor_2025-04-04_15-24-30.edf'], [0, 'drive/MyDrive/data/862274_err/001/neurovisor_2025-04-04_10-38-13.edf'], [0, 'drive/MyDrive/data/761404/001/neurovisor_2025-04-23_11-17-45.edf'], [0, 'drive/MyDrive/data/557394/001/neurovisor_2025-04-18_16-17-23.edf'], [0, 'drive/MyDrive/data/054051/001/neurovisor_2025-04-03_10-47-46.edf'], [0, 'drive/MyDrive/data/054051/002/neurovisor_2025-04-03_11-43-00.edf'], [0, 'drive/MyDrive/data/710022/001/neurovisor_2025-04-14_17-00-55.edf'], [0, 'drive/MyDrive/data/710022/002/neurovisor_2025-04-14_17-21-18.edf'], [0, 'drive/MyDrive/data/710022/003/neurovisor_2025-04-14_18-03-09.edf'], [1, 'drive/MyDrive/data/120125/001/neurovisor_2025-04-19_13-56-16.edf'], [0, 'drive/MyDrive/data/814770/001/neurovisor_2025-04-15_13-56-24.edf'], [0, 'drive/MyDrive/data/483009/001/neurovisor_2025-04-16_16-39-39.edf'], [0, 'drive/MyDrive/data/155121/001/neurovisor_2025-04-19_16-49-10.edf'], [0, 'drive/MyDrive/data/679594/001/neurovisor_2025-04-07_14-14-33.edf'], [1, 'drive/MyDrive/data/135304/001/neurovisor_2025-04-24_16-59-30.edf'], [0, 'drive/MyDrive/data/447885/001/neurovisor_2025-04-25_13-47-10.edf'], [1, 'drive/MyDrive/data/355835/002/neurovisor_2025-04-22_17-07-13.edf'], [1, 'drive/MyDrive/data/355835/001/neurovisor_2025-04-22_16-50-57.edf'], [1, 'drive/MyDrive/data/355835/003/neurovisor_2025-04-22_17-49-20.edf'], [0, 'drive/MyDrive/data/587707/001/neurovisor_2025-04-21_13-37-40.edf'], [0, 'drive/MyDrive/data/105832/neurovisor_2025-03-22_16-05-32.edf'], [1, 'drive/MyDrive/data/265094/001/neurovisor_2025-04-05_10-51-45.edf'], [0, 'drive/MyDrive/data/093056/001/neurovisor_2025-04-02_14-45-14.edf'], [1, 'drive/MyDrive/data/527415/001/neurovisor_2025-04-15_16-26-09.edf'], [0, 'drive/MyDrive/data/825526/001/neurovisor_2025-05-03_14-28-11.edf'], [0, 'drive/MyDrive/data/907623/001/neurovisor_2025-04-22_10-54-12.edf'], [0, 'drive/MyDrive/data/971006/001/neurovisor_2025-04-20_10-55-26.edf'], [0, 'drive/MyDrive/data/489107/001/neurovisor_2025-04-29_16-44-41.edf'], [0, 'drive/MyDrive/data/863463/003/neurovisor_2025-04-21_11-50-04.edf'], [0, 'drive/MyDrive/data/863463/002/neurovisor_2025-04-21_11-06-16.edf'], [0, 'drive/MyDrive/data/863463/001/neurovisor_1_2025-04-21_10-47-48.edf'], [0, 'drive/MyDrive/data/241446/001/neurovisor_2025-04-19_10-55-43.edf'], [0, 'drive/MyDrive/data/820694/002/neurovisor_2025-04-22_14-36-11.edf'], [0, 'drive/MyDrive/data/820694/001/neurovisor_2025-04-22_13-35-56.edf'], [0, 'drive/MyDrive/data/475645/001/neurovisor_2025-04-20_16-37-32.edf'], [0, 'drive/MyDrive/data/319924/001/neurovisor_2025-04-24_13-20-32.edf'], [0, 'drive/MyDrive/data/208114/001/neurovisor_2025-04-16_13-57-55.edf'], [0, 'drive/MyDrive/data/300279/001/neurovisor_2025-04-25_10-53-38.edf'], [0, 'drive/MyDrive/data/446415/001/neurovisor_2025-04-29_14-02-20.edf'], [0, 'drive/MyDrive/data/666522/001/neurovisor_2025-04-18_13-52-27.edf'], [0, 'drive/MyDrive/data/344772/001/neurovisor_2025-04-21_16-14-32.edf']]\n"
          ]
        }
      ],
      "source": [
        "marks = []\n",
        "with open(\"mark.txt\", \"r\") as file:\n",
        "  lines = file.readlines()\n",
        "  for line in lines:\n",
        "    user, s = line.split(' ')\n",
        "    sn = 1\n",
        "    if (s == \"m\\n\"):\n",
        "      sn = 0\n",
        "    marks.append([user, sn])\n",
        "\n",
        "evaluation = []\n",
        "for mark_s, sn in marks:\n",
        "  for mark_d, path in paths_list:\n",
        "    if (mark_s == mark_d):\n",
        "      evaluation.append([sn, path])\n",
        "print(marks)\n",
        "print(evaluation)"
      ]
    },
    {
      "cell_type": "markdown",
      "metadata": {
        "id": "Q-2ZSfK3DQTA"
      },
      "source": [
        "## Подготовка входных данных\n",
        "**Удалим канал ecg и проведём фильтрацию по частотам, разобъём данные каналов на равные части, а также найдём средние и частотные признаки** (по 5 сек на каждый)"
      ]
    },
    {
      "cell_type": "code",
      "execution_count": 6,
      "metadata": {
        "colab": {
          "base_uri": "https://localhost:8080/",
          "height": 1000
        },
        "id": "fvLhwVH6DP0Y",
        "outputId": "61a47feb-cf1b-4cf6-c781-365b54d5df72"
      },
      "outputs": [
        {
          "name": "stdout",
          "output_type": "stream",
          "text": [
            "Extracting EDF parameters from /content/drive/MyDrive/data/195499/001/neurovisor_2025-04-17_16-41-56.edf...\n",
            "EDF file detected\n",
            "Setting channel info structure...\n",
            "Creating raw.info structure...\n"
          ]
        },
        {
          "name": "stderr",
          "output_type": "stream",
          "text": [
            "/tmp/ipython-input-6-2211535387.py:16: RuntimeWarning: Channels contain different highpass filters. Highest filter setting will be stored.\n",
            "  raw = mne.io.read_raw_edf(evaluation[8][1], preload=True)\n",
            "/tmp/ipython-input-6-2211535387.py:16: RuntimeWarning: Channels contain different lowpass filters. Lowest filter setting will be stored.\n",
            "  raw = mne.io.read_raw_edf(evaluation[8][1], preload=True)\n"
          ]
        },
        {
          "name": "stdout",
          "output_type": "stream",
          "text": [
            "Reading 0 ... 3884999  =      0.000 ...  3884.999 secs...\n",
            "Filtering raw data in 1 contiguous segment\n",
            "Setting up band-pass filter from 0.5 - 40 Hz\n",
            "\n",
            "FIR filter parameters\n",
            "---------------------\n",
            "Designing a one-pass, zero-phase, non-causal bandpass filter:\n",
            "- Windowed time-domain design (firwin) method\n",
            "- Hamming window with 0.0194 passband ripple and 53 dB stopband attenuation\n",
            "- Lower passband edge: 0.50\n",
            "- Lower transition bandwidth: 0.50 Hz (-6 dB cutoff frequency: 0.25 Hz)\n",
            "- Upper passband edge: 40.00 Hz\n",
            "- Upper transition bandwidth: 10.00 Hz (-6 dB cutoff frequency: 45.00 Hz)\n",
            "- Filter length: 6601 samples (6.601 s)\n",
            "\n"
          ]
        },
        {
          "name": "stderr",
          "output_type": "stream",
          "text": [
            "[Parallel(n_jobs=1)]: Done  17 tasks      | elapsed:    0.4s\n"
          ]
        },
        {
          "name": "stdout",
          "output_type": "stream",
          "text": [
            "Not setting metadata\n",
            "120 matching events found\n",
            "No baseline correction applied\n",
            "0 projection items activated\n",
            "Using data from preloaded Raw for 120 events and 5000 original time points ...\n"
          ]
        },
        {
          "name": "stderr",
          "output_type": "stream",
          "text": [
            "[Parallel(n_jobs=1)]: Done  34 out of  34 | elapsed:    0.8s finished\n"
          ]
        },
        {
          "name": "stdout",
          "output_type": "stream",
          "text": [
            "0 bad epochs dropped\n"
          ]
        },
        {
          "data": {
            "image/png": "[encoded data removed]",
            "text/plain": [
              "<Figure size 1500x600 with 1 Axes>"
            ]
          },
          "metadata": {},
          "output_type": "display_data"
        }
      ],
      "source": [
        "DURATION = 5\n",
        "MAX = 600\n",
        "\n",
        "def get_epochs(raw, duration, max):\n",
        "  if (max != -1):\n",
        "    raw.crop(tmin=0, tmax=max)\n",
        "  raw.drop_channels(['ECG V3-V1'])\n",
        "\n",
        "  raw.filter(l_freq=0.5, h_freq=40)\n",
        "  epochs = mne.make_fixed_length_epochs(raw, duration=duration, preload=True)\n",
        "  epoch_data = epochs.get_data()\n",
        "\n",
        "  return epoch_data\n",
        "\n",
        "\n",
        "raw = mne.io.read_raw_edf(evaluation[8][1], preload=True)\n",
        "epoch_data = get_epochs(raw, DURATION, MAX)\n",
        "# Визуализация первых 5 секунд данных (одна эпоха) для всех каналов\n",
        "\n",
        "n_epochs, n_channels, n_samples = epoch_data.shape\n",
        "data_normalized = np.zeros_like(epoch_data)\n",
        "for i in range(epoch_data.shape[0]):  # По всем эпохам\n",
        "    mean = np.mean(epoch_data[i], axis=1, keepdims=True)  # Среднее по времени для каждого канала\n",
        "    std = np.std(epoch_data[i], axis=1, keepdims=True)    # Стандартное отклонение по времени\n",
        "    data_normalized[i] = (epoch_data[i] - mean) / std\n",
        "\n",
        "\n",
        "plt.figure(figsize=(15, 6))\n",
        "\n",
        "data, times = raw[:]\n",
        "freq = raw.info['sfreq']\n",
        "start = int(5 * freq)\n",
        "end = int(10 * freq)\n",
        "\n",
        "plt.plot(times[start:end], data_normalized[1].T)\n",
        "plt.title(f\"EEG Time Series: {Path(paths_list[0][1]).name}\")\n",
        "plt.xlabel(\"Time (s)\")\n",
        "plt.ylabel(\"Amplitude (µV)\")\n",
        "plt.legend(raw.ch_names, loc='upper right', bbox_to_anchor=(1.15, 1))\n",
        "plt.tight_layout()\n",
        "plt.show()"
      ]
    },
    {
      "cell_type": "markdown",
      "metadata": {
        "id": "7awZ5_NhGMd2"
      },
      "source": [
        "##Извлечём нужные признаки и нормализуем их"
      ]
    },
    {
      "cell_type": "code",
      "execution_count": 9,
      "metadata": {
        "colab": {
          "base_uri": "https://localhost:8080/"
        },
        "id": "CsOhOiHRO8wF",
        "outputId": "96d0c86b-3414-4c34-b3fa-887cdc45ade4"
      },
      "outputs": [
        {
          "name": "stdout",
          "output_type": "stream",
          "text": [
            "Extracting EDF parameters from /content/drive/MyDrive/data/076658/001/neurovisor_2025-04-28_16-38-32.edf...\n",
            "EDF file detected\n",
            "Setting channel info structure...\n",
            "Creating raw.info structure...\n",
            "Reading 0 ... 3942999  =      0.000 ...  3942.999 secs...\n"
          ]
        },
        {
          "name": "stderr",
          "output_type": "stream",
          "text": [
            "/tmp/ipython-input-9-407938800.py:8: RuntimeWarning: Channels contain different highpass filters. Highest filter setting will be stored.\n",
            "  raw = mne.io.read_raw_edf(path, preload=True)\n",
            "/tmp/ipython-input-9-407938800.py:8: RuntimeWarning: Channels contain different lowpass filters. Lowest filter setting will be stored.\n",
            "  raw = mne.io.read_raw_edf(path, preload=True)\n"
          ]
        },
        {
          "name": "stdout",
          "output_type": "stream",
          "text": [
            "Filtering raw data in 1 contiguous segment\n",
            "Setting up band-pass filter from 0.5 - 40 Hz\n",
            "\n",
            "FIR filter parameters\n",
            "---------------------\n",
            "Designing a one-pass, zero-phase, non-causal bandpass filter:\n",
            "- Windowed time-domain design (firwin) method\n",
            "- Hamming window with 0.0194 passband ripple and 53 dB stopband attenuation\n",
            "- Lower passband edge: 0.50\n",
            "- Lower transition bandwidth: 0.50 Hz (-6 dB cutoff frequency: 0.25 Hz)\n",
            "- Upper passband edge: 40.00 Hz\n",
            "- Upper transition bandwidth: 10.00 Hz (-6 dB cutoff frequency: 45.00 Hz)\n",
            "- Filter length: 6601 samples (6.601 s)\n",
            "\n"
          ]
        },
        {
          "name": "stderr",
          "output_type": "stream",
          "text": [
            "[Parallel(n_jobs=1)]: Done  17 tasks      | elapsed:    0.4s\n"
          ]
        },
        {
          "name": "stdout",
          "output_type": "stream",
          "text": [
            "Not setting metadata\n",
            "120 matching events found\n",
            "No baseline correction applied\n",
            "0 projection items activated\n",
            "Using data from preloaded Raw for 120 events and 5000 original time points ...\n",
            "0 bad epochs dropped\n"
          ]
        },
        {
          "name": "stderr",
          "output_type": "stream",
          "text": [
            "[Parallel(n_jobs=1)]: Done  34 out of  34 | elapsed:    0.8s finished\n",
            "/tmp/ipython-input-9-407938800.py:34: DeprecationWarning: `trapz` is deprecated. Use `trapezoid` instead, or one of the numerical integration functions in `scipy.integrate`.\n",
            "  delta_power = np.trapz(psd[(f >= 0.5) & (f <= 4)], f[(f >= 0.5) & (f <= 4)])\n",
            "/tmp/ipython-input-9-407938800.py:35: DeprecationWarning: `trapz` is deprecated. Use `trapezoid` instead, or one of the numerical integration functions in `scipy.integrate`.\n",
            "  theta_power = np.trapz(psd[(f >= 4) & (f <= 8)], f[(f >= 4) & (f <= 8)])\n",
            "/tmp/ipython-input-9-407938800.py:36: DeprecationWarning: `trapz` is deprecated. Use `trapezoid` instead, or one of the numerical integration functions in `scipy.integrate`.\n",
            "  alpha_power = np.trapz(psd[(f >= 8) & (f <= 13)], f[(f >= 8) & (f <= 13)])\n",
            "/tmp/ipython-input-9-407938800.py:37: DeprecationWarning: `trapz` is deprecated. Use `trapezoid` instead, or one of the numerical integration functions in `scipy.integrate`.\n",
            "  beta_power = np.trapz(psd[(f >= 13) & (f <= 30)], f[(f >= 13) & (f <= 30)])\n"
          ]
        },
        {
          "name": "stdout",
          "output_type": "stream",
          "text": [
            "+++++++++++++++ 1/62 файл обработан +++++++++++++++\n",
            "Extracting EDF parameters from /content/drive/MyDrive/data/333752/003/neurovisor_2025-04-18_11-41-43.edf...\n",
            "EDF file detected\n",
            "Setting channel info structure...\n",
            "Creating raw.info structure...\n",
            "Reading 0 ... 750999  =      0.000 ...   750.999 secs...\n"
          ]
        },
        {
          "name": "stderr",
          "output_type": "stream",
          "text": [
            "/tmp/ipython-input-9-407938800.py:8: RuntimeWarning: Channels contain different highpass filters. Highest filter setting will be stored.\n",
            "  raw = mne.io.read_raw_edf(path, preload=True)\n",
            "/tmp/ipython-input-9-407938800.py:8: RuntimeWarning: Channels contain different lowpass filters. Lowest filter setting will be stored.\n",
            "  raw = mne.io.read_raw_edf(path, preload=True)\n"
          ]
        },
        {
          "name": "stdout",
          "output_type": "stream",
          "text": [
            "Filtering raw data in 1 contiguous segment\n",
            "Setting up band-pass filter from 0.5 - 40 Hz\n",
            "\n",
            "FIR filter parameters\n",
            "---------------------\n",
            "Designing a one-pass, zero-phase, non-causal bandpass filter:\n",
            "- Windowed time-domain design (firwin) method\n",
            "- Hamming window with 0.0194 passband ripple and 53 dB stopband attenuation\n",
            "- Lower passband edge: 0.50\n",
            "- Lower transition bandwidth: 0.50 Hz (-6 dB cutoff frequency: 0.25 Hz)\n",
            "- Upper passband edge: 40.00 Hz\n",
            "- Upper transition bandwidth: 10.00 Hz (-6 dB cutoff frequency: 45.00 Hz)\n",
            "- Filter length: 6601 samples (6.601 s)\n",
            "\n"
          ]
        },
        {
          "name": "stderr",
          "output_type": "stream",
          "text": [
            "[Parallel(n_jobs=1)]: Done  17 tasks      | elapsed:    0.4s\n"
          ]
        },
        {
          "name": "stdout",
          "output_type": "stream",
          "text": [
            "Not setting metadata\n",
            "120 matching events found\n",
            "No baseline correction applied\n",
            "0 projection items activated\n",
            "Using data from preloaded Raw for 120 events and 5000 original time points ...\n",
            "0 bad epochs dropped\n"
          ]
        },
        {
          "name": "stderr",
          "output_type": "stream",
          "text": [
            "[Parallel(n_jobs=1)]: Done  34 out of  34 | elapsed:    0.8s finished\n",
            "/tmp/ipython-input-9-407938800.py:34: DeprecationWarning: `trapz` is deprecated. Use `trapezoid` instead, or one of the numerical integration functions in `scipy.integrate`.\n",
            "  delta_power = np.trapz(psd[(f >= 0.5) & (f <= 4)], f[(f >= 0.5) & (f <= 4)])\n",
            "/tmp/ipython-input-9-407938800.py:35: DeprecationWarning: `trapz` is deprecated. Use `trapezoid` instead, or one of the numerical integration functions in `scipy.integrate`.\n",
            "  theta_power = np.trapz(psd[(f >= 4) & (f <= 8)], f[(f >= 4) & (f <= 8)])\n",
            "/tmp/ipython-input-9-407938800.py:36: DeprecationWarning: `trapz` is deprecated. Use `trapezoid` instead, or one of the numerical integration functions in `scipy.integrate`.\n",
            "  alpha_power = np.trapz(psd[(f >= 8) & (f <= 13)], f[(f >= 8) & (f <= 13)])\n",
            "/tmp/ipython-input-9-407938800.py:37: DeprecationWarning: `trapz` is deprecated. Use `trapezoid` instead, or one of the numerical integration functions in `scipy.integrate`.\n",
            "  beta_power = np.trapz(psd[(f >= 13) & (f <= 30)], f[(f >= 13) & (f <= 30)])\n"
          ]
        },
        {
          "name": "stdout",
          "output_type": "stream",
          "text": [
            "+++++++++++++++ 2/62 файл обработан +++++++++++++++\n",
            "Extracting EDF parameters from /content/drive/MyDrive/data/333752/001/neurovisor_2025-04-18_10-29-10.edf...\n",
            "EDF file detected\n",
            "Setting channel info structure...\n",
            "Creating raw.info structure...\n",
            "Reading 0 ... 825999  =      0.000 ...   825.999 secs...\n"
          ]
        },
        {
          "name": "stderr",
          "output_type": "stream",
          "text": [
            "/tmp/ipython-input-9-407938800.py:8: RuntimeWarning: Channels contain different highpass filters. Highest filter setting will be stored.\n",
            "  raw = mne.io.read_raw_edf(path, preload=True)\n",
            "/tmp/ipython-input-9-407938800.py:8: RuntimeWarning: Channels contain different lowpass filters. Lowest filter setting will be stored.\n",
            "  raw = mne.io.read_raw_edf(path, preload=True)\n"
          ]
        },
        {
          "name": "stdout",
          "output_type": "stream",
          "text": [
            "Filtering raw data in 1 contiguous segment\n",
            "Setting up band-pass filter from 0.5 - 40 Hz\n",
            "\n",
            "FIR filter parameters\n",
            "---------------------\n",
            "Designing a one-pass, zero-phase, non-causal bandpass filter:\n",
            "- Windowed time-domain design (firwin) method\n",
            "- Hamming window with 0.0194 passband ripple and 53 dB stopband attenuation\n",
            "- Lower passband edge: 0.50\n",
            "- Lower transition bandwidth: 0.50 Hz (-6 dB cutoff frequency: 0.25 Hz)\n",
            "- Upper passband edge: 40.00 Hz\n",
            "- Upper transition bandwidth: 10.00 Hz (-6 dB cutoff frequency: 45.00 Hz)\n",
            "- Filter length: 6601 samples (6.601 s)\n",
            "\n"
          ]
        },
        {
          "name": "stderr",
          "output_type": "stream",
          "text": [
            "[Parallel(n_jobs=1)]: Done  17 tasks      | elapsed:    0.4s\n"
          ]
        },
        {
          "name": "stdout",
          "output_type": "stream",
          "text": [
            "Not setting metadata\n",
            "120 matching events found\n",
            "No baseline correction applied\n",
            "0 projection items activated\n",
            "Using data from preloaded Raw for 120 events and 5000 original time points ...\n",
            "0 bad epochs dropped\n"
          ]
        },
        {
          "name": "stderr",
          "output_type": "stream",
          "text": [
            "[Parallel(n_jobs=1)]: Done  34 out of  34 | elapsed:    0.8s finished\n",
            "/tmp/ipython-input-9-407938800.py:34: DeprecationWarning: `trapz` is deprecated. Use `trapezoid` instead, or one of the numerical integration functions in `scipy.integrate`.\n",
            "  delta_power = np.trapz(psd[(f >= 0.5) & (f <= 4)], f[(f >= 0.5) & (f <= 4)])\n",
            "/tmp/ipython-input-9-407938800.py:35: DeprecationWarning: `trapz` is deprecated. Use `trapezoid` instead, or one of the numerical integration functions in `scipy.integrate`.\n",
            "  theta_power = np.trapz(psd[(f >= 4) & (f <= 8)], f[(f >= 4) & (f <= 8)])\n",
            "/tmp/ipython-input-9-407938800.py:36: DeprecationWarning: `trapz` is deprecated. Use `trapezoid` instead, or one of the numerical integration functions in `scipy.integrate`.\n",
            "  alpha_power = np.trapz(psd[(f >= 8) & (f <= 13)], f[(f >= 8) & (f <= 13)])\n",
            "/tmp/ipython-input-9-407938800.py:37: DeprecationWarning: `trapz` is deprecated. Use `trapezoid` instead, or one of the numerical integration functions in `scipy.integrate`.\n",
            "  beta_power = np.trapz(psd[(f >= 13) & (f <= 30)], f[(f >= 13) & (f <= 30)])\n"
          ]
        },
        {
          "name": "stdout",
          "output_type": "stream",
          "text": [
            "+++++++++++++++ 3/62 файл обработан +++++++++++++++\n",
            "Extracting EDF parameters from /content/drive/MyDrive/data/333752/002/neurovisor_2025-04-18_10-59-14.edf...\n",
            "EDF file detected\n",
            "Setting channel info structure...\n",
            "Creating raw.info structure...\n",
            "Reading 0 ... 2427999  =      0.000 ...  2427.999 secs...\n"
          ]
        },
        {
          "name": "stderr",
          "output_type": "stream",
          "text": [
            "/tmp/ipython-input-9-407938800.py:8: RuntimeWarning: Channels contain different highpass filters. Highest filter setting will be stored.\n",
            "  raw = mne.io.read_raw_edf(path, preload=True)\n",
            "/tmp/ipython-input-9-407938800.py:8: RuntimeWarning: Channels contain different lowpass filters. Lowest filter setting will be stored.\n",
            "  raw = mne.io.read_raw_edf(path, preload=True)\n"
          ]
        },
        {
          "name": "stdout",
          "output_type": "stream",
          "text": [
            "Filtering raw data in 1 contiguous segment\n",
            "Setting up band-pass filter from 0.5 - 40 Hz\n",
            "\n",
            "FIR filter parameters\n",
            "---------------------\n",
            "Designing a one-pass, zero-phase, non-causal bandpass filter:\n",
            "- Windowed time-domain design (firwin) method\n",
            "- Hamming window with 0.0194 passband ripple and 53 dB stopband attenuation\n",
            "- Lower passband edge: 0.50\n",
            "- Lower transition bandwidth: 0.50 Hz (-6 dB cutoff frequency: 0.25 Hz)\n",
            "- Upper passband edge: 40.00 Hz\n",
            "- Upper transition bandwidth: 10.00 Hz (-6 dB cutoff frequency: 45.00 Hz)\n",
            "- Filter length: 6601 samples (6.601 s)\n",
            "\n"
          ]
        },
        {
          "name": "stderr",
          "output_type": "stream",
          "text": [
            "[Parallel(n_jobs=1)]: Done  17 tasks      | elapsed:    0.6s\n"
          ]
        },
        {
          "name": "stdout",
          "output_type": "stream",
          "text": [
            "Not setting metadata\n",
            "120 matching events found\n",
            "No baseline correction applied\n",
            "0 projection items activated\n",
            "Using data from preloaded Raw for 120 events and 5000 original time points ...\n",
            "0 bad epochs dropped\n"
          ]
        },
        {
          "name": "stderr",
          "output_type": "stream",
          "text": [
            "[Parallel(n_jobs=1)]: Done  34 out of  34 | elapsed:    1.2s finished\n",
            "/tmp/ipython-input-9-407938800.py:34: DeprecationWarning: `trapz` is deprecated. Use `trapezoid` instead, or one of the numerical integration functions in `scipy.integrate`.\n",
            "  delta_power = np.trapz(psd[(f >= 0.5) & (f <= 4)], f[(f >= 0.5) & (f <= 4)])\n",
            "/tmp/ipython-input-9-407938800.py:35: DeprecationWarning: `trapz` is deprecated. Use `trapezoid` instead, or one of the numerical integration functions in `scipy.integrate`.\n",
            "  theta_power = np.trapz(psd[(f >= 4) & (f <= 8)], f[(f >= 4) & (f <= 8)])\n",
            "/tmp/ipython-input-9-407938800.py:36: DeprecationWarning: `trapz` is deprecated. Use `trapezoid` instead, or one of the numerical integration functions in `scipy.integrate`.\n",
            "  alpha_power = np.trapz(psd[(f >= 8) & (f <= 13)], f[(f >= 8) & (f <= 13)])\n",
            "/tmp/ipython-input-9-407938800.py:37: DeprecationWarning: `trapz` is deprecated. Use `trapezoid` instead, or one of the numerical integration functions in `scipy.integrate`.\n",
            "  beta_power = np.trapz(psd[(f >= 13) & (f <= 30)], f[(f >= 13) & (f <= 30)])\n"
          ]
        },
        {
          "name": "stdout",
          "output_type": "stream",
          "text": [
            "+++++++++++++++ 4/62 файл обработан +++++++++++++++\n",
            "Extracting EDF parameters from /content/drive/MyDrive/data/325017_err/001/neurovisor_2025-04-03_15-38-15.edf...\n",
            "EDF file detected\n",
            "Setting channel info structure...\n",
            "Creating raw.info structure...\n",
            "Reading 0 ... 3941999  =      0.000 ...  3941.999 secs...\n"
          ]
        },
        {
          "name": "stderr",
          "output_type": "stream",
          "text": [
            "/tmp/ipython-input-9-407938800.py:8: RuntimeWarning: Channels contain different highpass filters. Highest filter setting will be stored.\n",
            "  raw = mne.io.read_raw_edf(path, preload=True)\n",
            "/tmp/ipython-input-9-407938800.py:8: RuntimeWarning: Channels contain different lowpass filters. Lowest filter setting will be stored.\n",
            "  raw = mne.io.read_raw_edf(path, preload=True)\n"
          ]
        },
        {
          "name": "stdout",
          "output_type": "stream",
          "text": [
            "Filtering raw data in 1 contiguous segment\n",
            "Setting up band-pass filter from 0.5 - 40 Hz\n",
            "\n",
            "FIR filter parameters\n",
            "---------------------\n",
            "Designing a one-pass, zero-phase, non-causal bandpass filter:\n",
            "- Windowed time-domain design (firwin) method\n",
            "- Hamming window with 0.0194 passband ripple and 53 dB stopband attenuation\n",
            "- Lower passband edge: 0.50\n",
            "- Lower transition bandwidth: 0.50 Hz (-6 dB cutoff frequency: 0.25 Hz)\n",
            "- Upper passband edge: 40.00 Hz\n",
            "- Upper transition bandwidth: 10.00 Hz (-6 dB cutoff frequency: 45.00 Hz)\n",
            "- Filter length: 6601 samples (6.601 s)\n",
            "\n"
          ]
        },
        {
          "name": "stderr",
          "output_type": "stream",
          "text": [
            "[Parallel(n_jobs=1)]: Done  17 tasks      | elapsed:    0.4s\n"
          ]
        },
        {
          "name": "stdout",
          "output_type": "stream",
          "text": [
            "Not setting metadata\n",
            "120 matching events found\n",
            "No baseline correction applied\n",
            "0 projection items activated\n",
            "Using data from preloaded Raw for 120 events and 5000 original time points ...\n",
            "0 bad epochs dropped\n"
          ]
        },
        {
          "name": "stderr",
          "output_type": "stream",
          "text": [
            "[Parallel(n_jobs=1)]: Done  34 out of  34 | elapsed:    0.8s finished\n",
            "/tmp/ipython-input-9-407938800.py:34: DeprecationWarning: `trapz` is deprecated. Use `trapezoid` instead, or one of the numerical integration functions in `scipy.integrate`.\n",
            "  delta_power = np.trapz(psd[(f >= 0.5) & (f <= 4)], f[(f >= 0.5) & (f <= 4)])\n",
            "/tmp/ipython-input-9-407938800.py:35: DeprecationWarning: `trapz` is deprecated. Use `trapezoid` instead, or one of the numerical integration functions in `scipy.integrate`.\n",
            "  theta_power = np.trapz(psd[(f >= 4) & (f <= 8)], f[(f >= 4) & (f <= 8)])\n",
            "/tmp/ipython-input-9-407938800.py:36: DeprecationWarning: `trapz` is deprecated. Use `trapezoid` instead, or one of the numerical integration functions in `scipy.integrate`.\n",
            "  alpha_power = np.trapz(psd[(f >= 8) & (f <= 13)], f[(f >= 8) & (f <= 13)])\n",
            "/tmp/ipython-input-9-407938800.py:37: DeprecationWarning: `trapz` is deprecated. Use `trapezoid` instead, or one of the numerical integration functions in `scipy.integrate`.\n",
            "  beta_power = np.trapz(psd[(f >= 13) & (f <= 30)], f[(f >= 13) & (f <= 30)])\n"
          ]
        },
        {
          "name": "stdout",
          "output_type": "stream",
          "text": [
            "+++++++++++++++ 5/62 файл обработан +++++++++++++++\n",
            "Extracting EDF parameters from /content/drive/MyDrive/data/365415/001/neurovisor_2025-04-27_13-10-17.edf...\n",
            "EDF file detected\n",
            "Setting channel info structure...\n",
            "Creating raw.info structure...\n",
            "Reading 0 ... 3932999  =      0.000 ...  3932.999 secs...\n"
          ]
        },
        {
          "name": "stderr",
          "output_type": "stream",
          "text": [
            "/tmp/ipython-input-9-407938800.py:8: RuntimeWarning: Channels contain different highpass filters. Highest filter setting will be stored.\n",
            "  raw = mne.io.read_raw_edf(path, preload=True)\n",
            "/tmp/ipython-input-9-407938800.py:8: RuntimeWarning: Channels contain different lowpass filters. Lowest filter setting will be stored.\n",
            "  raw = mne.io.read_raw_edf(path, preload=True)\n"
          ]
        },
        {
          "name": "stdout",
          "output_type": "stream",
          "text": [
            "Filtering raw data in 1 contiguous segment\n",
            "Setting up band-pass filter from 0.5 - 40 Hz\n",
            "\n",
            "FIR filter parameters\n",
            "---------------------\n",
            "Designing a one-pass, zero-phase, non-causal bandpass filter:\n",
            "- Windowed time-domain design (firwin) method\n",
            "- Hamming window with 0.0194 passband ripple and 53 dB stopband attenuation\n",
            "- Lower passband edge: 0.50\n",
            "- Lower transition bandwidth: 0.50 Hz (-6 dB cutoff frequency: 0.25 Hz)\n",
            "- Upper passband edge: 40.00 Hz\n",
            "- Upper transition bandwidth: 10.00 Hz (-6 dB cutoff frequency: 45.00 Hz)\n",
            "- Filter length: 6601 samples (6.601 s)\n",
            "\n"
          ]
        },
        {
          "name": "stderr",
          "output_type": "stream",
          "text": [
            "[Parallel(n_jobs=1)]: Done  17 tasks      | elapsed:    0.4s\n"
          ]
        },
        {
          "name": "stdout",
          "output_type": "stream",
          "text": [
            "Not setting metadata\n",
            "120 matching events found\n",
            "No baseline correction applied\n",
            "0 projection items activated\n",
            "Using data from preloaded Raw for 120 events and 5000 original time points ...\n",
            "0 bad epochs dropped\n"
          ]
        },
        {
          "name": "stderr",
          "output_type": "stream",
          "text": [
            "[Parallel(n_jobs=1)]: Done  34 out of  34 | elapsed:    0.8s finished\n",
            "/tmp/ipython-input-9-407938800.py:34: DeprecationWarning: `trapz` is deprecated. Use `trapezoid` instead, or one of the numerical integration functions in `scipy.integrate`.\n",
            "  delta_power = np.trapz(psd[(f >= 0.5) & (f <= 4)], f[(f >= 0.5) & (f <= 4)])\n",
            "/tmp/ipython-input-9-407938800.py:35: DeprecationWarning: `trapz` is deprecated. Use `trapezoid` instead, or one of the numerical integration functions in `scipy.integrate`.\n",
            "  theta_power = np.trapz(psd[(f >= 4) & (f <= 8)], f[(f >= 4) & (f <= 8)])\n",
            "/tmp/ipython-input-9-407938800.py:36: DeprecationWarning: `trapz` is deprecated. Use `trapezoid` instead, or one of the numerical integration functions in `scipy.integrate`.\n",
            "  alpha_power = np.trapz(psd[(f >= 8) & (f <= 13)], f[(f >= 8) & (f <= 13)])\n",
            "/tmp/ipython-input-9-407938800.py:37: DeprecationWarning: `trapz` is deprecated. Use `trapezoid` instead, or one of the numerical integration functions in `scipy.integrate`.\n",
            "  beta_power = np.trapz(psd[(f >= 13) & (f <= 30)], f[(f >= 13) & (f <= 30)])\n"
          ]
        },
        {
          "name": "stdout",
          "output_type": "stream",
          "text": [
            "+++++++++++++++ 6/62 файл обработан +++++++++++++++\n",
            "Extracting EDF parameters from /content/drive/MyDrive/data/902176/001/neurovisor_2025-04-07_10-13-09.edf...\n",
            "EDF file detected\n",
            "Setting channel info structure...\n",
            "Creating raw.info structure...\n",
            "Reading 0 ... 3884999  =      0.000 ...  3884.999 secs...\n"
          ]
        },
        {
          "name": "stderr",
          "output_type": "stream",
          "text": [
            "/tmp/ipython-input-9-407938800.py:8: RuntimeWarning: Channels contain different highpass filters. Highest filter setting will be stored.\n",
            "  raw = mne.io.read_raw_edf(path, preload=True)\n",
            "/tmp/ipython-input-9-407938800.py:8: RuntimeWarning: Channels contain different lowpass filters. Lowest filter setting will be stored.\n",
            "  raw = mne.io.read_raw_edf(path, preload=True)\n"
          ]
        },
        {
          "name": "stdout",
          "output_type": "stream",
          "text": [
            "Filtering raw data in 1 contiguous segment\n",
            "Setting up band-pass filter from 0.5 - 40 Hz\n",
            "\n",
            "FIR filter parameters\n",
            "---------------------\n",
            "Designing a one-pass, zero-phase, non-causal bandpass filter:\n",
            "- Windowed time-domain design (firwin) method\n",
            "- Hamming window with 0.0194 passband ripple and 53 dB stopband attenuation\n",
            "- Lower passband edge: 0.50\n",
            "- Lower transition bandwidth: 0.50 Hz (-6 dB cutoff frequency: 0.25 Hz)\n",
            "- Upper passband edge: 40.00 Hz\n",
            "- Upper transition bandwidth: 10.00 Hz (-6 dB cutoff frequency: 45.00 Hz)\n",
            "- Filter length: 6601 samples (6.601 s)\n",
            "\n"
          ]
        },
        {
          "name": "stderr",
          "output_type": "stream",
          "text": [
            "[Parallel(n_jobs=1)]: Done  17 tasks      | elapsed:    0.4s\n"
          ]
        },
        {
          "name": "stdout",
          "output_type": "stream",
          "text": [
            "Not setting metadata\n",
            "120 matching events found\n",
            "No baseline correction applied\n",
            "0 projection items activated\n",
            "Using data from preloaded Raw for 120 events and 5000 original time points ...\n",
            "0 bad epochs dropped\n"
          ]
        },
        {
          "name": "stderr",
          "output_type": "stream",
          "text": [
            "[Parallel(n_jobs=1)]: Done  34 out of  34 | elapsed:    0.8s finished\n",
            "/tmp/ipython-input-9-407938800.py:34: DeprecationWarning: `trapz` is deprecated. Use `trapezoid` instead, or one of the numerical integration functions in `scipy.integrate`.\n",
            "  delta_power = np.trapz(psd[(f >= 0.5) & (f <= 4)], f[(f >= 0.5) & (f <= 4)])\n",
            "/tmp/ipython-input-9-407938800.py:35: DeprecationWarning: `trapz` is deprecated. Use `trapezoid` instead, or one of the numerical integration functions in `scipy.integrate`.\n",
            "  theta_power = np.trapz(psd[(f >= 4) & (f <= 8)], f[(f >= 4) & (f <= 8)])\n",
            "/tmp/ipython-input-9-407938800.py:36: DeprecationWarning: `trapz` is deprecated. Use `trapezoid` instead, or one of the numerical integration functions in `scipy.integrate`.\n",
            "  alpha_power = np.trapz(psd[(f >= 8) & (f <= 13)], f[(f >= 8) & (f <= 13)])\n",
            "/tmp/ipython-input-9-407938800.py:37: DeprecationWarning: `trapz` is deprecated. Use `trapezoid` instead, or one of the numerical integration functions in `scipy.integrate`.\n",
            "  beta_power = np.trapz(psd[(f >= 13) & (f <= 30)], f[(f >= 13) & (f <= 30)])\n"
          ]
        },
        {
          "name": "stdout",
          "output_type": "stream",
          "text": [
            "+++++++++++++++ 7/62 файл обработан +++++++++++++++\n",
            "Extracting EDF parameters from /content/drive/MyDrive/data/885292/001/neurovisor_2025-04-24_11-16-23.edf...\n",
            "EDF file detected\n",
            "Setting channel info structure...\n",
            "Creating raw.info structure...\n",
            "Reading 0 ... 3917999  =      0.000 ...  3917.999 secs...\n"
          ]
        },
        {
          "name": "stderr",
          "output_type": "stream",
          "text": [
            "/tmp/ipython-input-9-407938800.py:8: RuntimeWarning: Channels contain different highpass filters. Highest filter setting will be stored.\n",
            "  raw = mne.io.read_raw_edf(path, preload=True)\n",
            "/tmp/ipython-input-9-407938800.py:8: RuntimeWarning: Channels contain different lowpass filters. Lowest filter setting will be stored.\n",
            "  raw = mne.io.read_raw_edf(path, preload=True)\n"
          ]
        },
        {
          "name": "stdout",
          "output_type": "stream",
          "text": [
            "Filtering raw data in 1 contiguous segment\n",
            "Setting up band-pass filter from 0.5 - 40 Hz\n",
            "\n",
            "FIR filter parameters\n",
            "---------------------\n",
            "Designing a one-pass, zero-phase, non-causal bandpass filter:\n",
            "- Windowed time-domain design (firwin) method\n",
            "- Hamming window with 0.0194 passband ripple and 53 dB stopband attenuation\n",
            "- Lower passband edge: 0.50\n",
            "- Lower transition bandwidth: 0.50 Hz (-6 dB cutoff frequency: 0.25 Hz)\n",
            "- Upper passband edge: 40.00 Hz\n",
            "- Upper transition bandwidth: 10.00 Hz (-6 dB cutoff frequency: 45.00 Hz)\n",
            "- Filter length: 6601 samples (6.601 s)\n",
            "\n"
          ]
        },
        {
          "name": "stderr",
          "output_type": "stream",
          "text": [
            "[Parallel(n_jobs=1)]: Done  17 tasks      | elapsed:    0.5s\n"
          ]
        },
        {
          "name": "stdout",
          "output_type": "stream",
          "text": [
            "Not setting metadata\n",
            "120 matching events found\n",
            "No baseline correction applied\n",
            "0 projection items activated\n",
            "Using data from preloaded Raw for 120 events and 5000 original time points ...\n"
          ]
        },
        {
          "name": "stderr",
          "output_type": "stream",
          "text": [
            "[Parallel(n_jobs=1)]: Done  34 out of  34 | elapsed:    1.0s finished\n"
          ]
        },
        {
          "name": "stdout",
          "output_type": "stream",
          "text": [
            "0 bad epochs dropped\n"
          ]
        },
        {
          "name": "stderr",
          "output_type": "stream",
          "text": [
            "/tmp/ipython-input-9-407938800.py:34: DeprecationWarning: `trapz` is deprecated. Use `trapezoid` instead, or one of the numerical integration functions in `scipy.integrate`.\n",
            "  delta_power = np.trapz(psd[(f >= 0.5) & (f <= 4)], f[(f >= 0.5) & (f <= 4)])\n",
            "/tmp/ipython-input-9-407938800.py:35: DeprecationWarning: `trapz` is deprecated. Use `trapezoid` instead, or one of the numerical integration functions in `scipy.integrate`.\n",
            "  theta_power = np.trapz(psd[(f >= 4) & (f <= 8)], f[(f >= 4) & (f <= 8)])\n",
            "/tmp/ipython-input-9-407938800.py:36: DeprecationWarning: `trapz` is deprecated. Use `trapezoid` instead, or one of the numerical integration functions in `scipy.integrate`.\n",
            "  alpha_power = np.trapz(psd[(f >= 8) & (f <= 13)], f[(f >= 8) & (f <= 13)])\n",
            "/tmp/ipython-input-9-407938800.py:37: DeprecationWarning: `trapz` is deprecated. Use `trapezoid` instead, or one of the numerical integration functions in `scipy.integrate`.\n",
            "  beta_power = np.trapz(psd[(f >= 13) & (f <= 30)], f[(f >= 13) & (f <= 30)])\n"
          ]
        },
        {
          "name": "stdout",
          "output_type": "stream",
          "text": [
            "+++++++++++++++ 8/62 файл обработан +++++++++++++++\n",
            "Extracting EDF parameters from /content/drive/MyDrive/data/195499/001/neurovisor_2025-04-17_16-41-56.edf...\n",
            "EDF file detected\n",
            "Setting channel info structure...\n",
            "Creating raw.info structure...\n",
            "Reading 0 ... 3884999  =      0.000 ...  3884.999 secs...\n"
          ]
        },
        {
          "name": "stderr",
          "output_type": "stream",
          "text": [
            "/tmp/ipython-input-9-407938800.py:8: RuntimeWarning: Channels contain different highpass filters. Highest filter setting will be stored.\n",
            "  raw = mne.io.read_raw_edf(path, preload=True)\n",
            "/tmp/ipython-input-9-407938800.py:8: RuntimeWarning: Channels contain different lowpass filters. Lowest filter setting will be stored.\n",
            "  raw = mne.io.read_raw_edf(path, preload=True)\n"
          ]
        },
        {
          "name": "stdout",
          "output_type": "stream",
          "text": [
            "Filtering raw data in 1 contiguous segment\n",
            "Setting up band-pass filter from 0.5 - 40 Hz\n",
            "\n",
            "FIR filter parameters\n",
            "---------------------\n",
            "Designing a one-pass, zero-phase, non-causal bandpass filter:\n",
            "- Windowed time-domain design (firwin) method\n",
            "- Hamming window with 0.0194 passband ripple and 53 dB stopband attenuation\n",
            "- Lower passband edge: 0.50\n",
            "- Lower transition bandwidth: 0.50 Hz (-6 dB cutoff frequency: 0.25 Hz)\n",
            "- Upper passband edge: 40.00 Hz\n",
            "- Upper transition bandwidth: 10.00 Hz (-6 dB cutoff frequency: 45.00 Hz)\n",
            "- Filter length: 6601 samples (6.601 s)\n",
            "\n"
          ]
        },
        {
          "name": "stderr",
          "output_type": "stream",
          "text": [
            "[Parallel(n_jobs=1)]: Done  17 tasks      | elapsed:    0.6s\n"
          ]
        },
        {
          "name": "stdout",
          "output_type": "stream",
          "text": [
            "Not setting metadata\n",
            "120 matching events found\n",
            "No baseline correction applied\n",
            "0 projection items activated\n",
            "Using data from preloaded Raw for 120 events and 5000 original time points ...\n",
            "0 bad epochs dropped\n"
          ]
        },
        {
          "name": "stderr",
          "output_type": "stream",
          "text": [
            "[Parallel(n_jobs=1)]: Done  34 out of  34 | elapsed:    1.2s finished\n",
            "/tmp/ipython-input-9-407938800.py:34: DeprecationWarning: `trapz` is deprecated. Use `trapezoid` instead, or one of the numerical integration functions in `scipy.integrate`.\n",
            "  delta_power = np.trapz(psd[(f >= 0.5) & (f <= 4)], f[(f >= 0.5) & (f <= 4)])\n",
            "/tmp/ipython-input-9-407938800.py:35: DeprecationWarning: `trapz` is deprecated. Use `trapezoid` instead, or one of the numerical integration functions in `scipy.integrate`.\n",
            "  theta_power = np.trapz(psd[(f >= 4) & (f <= 8)], f[(f >= 4) & (f <= 8)])\n",
            "/tmp/ipython-input-9-407938800.py:36: DeprecationWarning: `trapz` is deprecated. Use `trapezoid` instead, or one of the numerical integration functions in `scipy.integrate`.\n",
            "  alpha_power = np.trapz(psd[(f >= 8) & (f <= 13)], f[(f >= 8) & (f <= 13)])\n",
            "/tmp/ipython-input-9-407938800.py:37: DeprecationWarning: `trapz` is deprecated. Use `trapezoid` instead, or one of the numerical integration functions in `scipy.integrate`.\n",
            "  beta_power = np.trapz(psd[(f >= 13) & (f <= 30)], f[(f >= 13) & (f <= 30)])\n"
          ]
        },
        {
          "name": "stdout",
          "output_type": "stream",
          "text": [
            "+++++++++++++++ 9/62 файл обработан +++++++++++++++\n",
            "Extracting EDF parameters from /content/drive/MyDrive/data/146831/001/neurovisor_2025-04-23_16-30-31.edf...\n",
            "EDF file detected\n",
            "Setting channel info structure...\n",
            "Creating raw.info structure...\n",
            "Reading 0 ... 3917999  =      0.000 ...  3917.999 secs...\n"
          ]
        },
        {
          "name": "stderr",
          "output_type": "stream",
          "text": [
            "/tmp/ipython-input-9-407938800.py:8: RuntimeWarning: Channels contain different highpass filters. Highest filter setting will be stored.\n",
            "  raw = mne.io.read_raw_edf(path, preload=True)\n",
            "/tmp/ipython-input-9-407938800.py:8: RuntimeWarning: Channels contain different lowpass filters. Lowest filter setting will be stored.\n",
            "  raw = mne.io.read_raw_edf(path, preload=True)\n"
          ]
        },
        {
          "name": "stdout",
          "output_type": "stream",
          "text": [
            "Filtering raw data in 1 contiguous segment\n",
            "Setting up band-pass filter from 0.5 - 40 Hz\n",
            "\n",
            "FIR filter parameters\n",
            "---------------------\n",
            "Designing a one-pass, zero-phase, non-causal bandpass filter:\n",
            "- Windowed time-domain design (firwin) method\n",
            "- Hamming window with 0.0194 passband ripple and 53 dB stopband attenuation\n",
            "- Lower passband edge: 0.50\n",
            "- Lower transition bandwidth: 0.50 Hz (-6 dB cutoff frequency: 0.25 Hz)\n",
            "- Upper passband edge: 40.00 Hz\n",
            "- Upper transition bandwidth: 10.00 Hz (-6 dB cutoff frequency: 45.00 Hz)\n",
            "- Filter length: 6601 samples (6.601 s)\n",
            "\n"
          ]
        },
        {
          "name": "stderr",
          "output_type": "stream",
          "text": [
            "[Parallel(n_jobs=1)]: Done  17 tasks      | elapsed:    0.4s\n"
          ]
        },
        {
          "name": "stdout",
          "output_type": "stream",
          "text": [
            "Not setting metadata\n",
            "120 matching events found\n",
            "No baseline correction applied\n",
            "0 projection items activated\n",
            "Using data from preloaded Raw for 120 events and 5000 original time points ...\n",
            "0 bad epochs dropped\n"
          ]
        },
        {
          "name": "stderr",
          "output_type": "stream",
          "text": [
            "[Parallel(n_jobs=1)]: Done  34 out of  34 | elapsed:    0.8s finished\n",
            "/tmp/ipython-input-9-407938800.py:34: DeprecationWarning: `trapz` is deprecated. Use `trapezoid` instead, or one of the numerical integration functions in `scipy.integrate`.\n",
            "  delta_power = np.trapz(psd[(f >= 0.5) & (f <= 4)], f[(f >= 0.5) & (f <= 4)])\n",
            "/tmp/ipython-input-9-407938800.py:35: DeprecationWarning: `trapz` is deprecated. Use `trapezoid` instead, or one of the numerical integration functions in `scipy.integrate`.\n",
            "  theta_power = np.trapz(psd[(f >= 4) & (f <= 8)], f[(f >= 4) & (f <= 8)])\n",
            "/tmp/ipython-input-9-407938800.py:36: DeprecationWarning: `trapz` is deprecated. Use `trapezoid` instead, or one of the numerical integration functions in `scipy.integrate`.\n",
            "  alpha_power = np.trapz(psd[(f >= 8) & (f <= 13)], f[(f >= 8) & (f <= 13)])\n",
            "/tmp/ipython-input-9-407938800.py:37: DeprecationWarning: `trapz` is deprecated. Use `trapezoid` instead, or one of the numerical integration functions in `scipy.integrate`.\n",
            "  beta_power = np.trapz(psd[(f >= 13) & (f <= 30)], f[(f >= 13) & (f <= 30)])\n"
          ]
        },
        {
          "name": "stdout",
          "output_type": "stream",
          "text": [
            "+++++++++++++++ 10/62 файл обработан +++++++++++++++\n",
            "Extracting EDF parameters from /content/drive/MyDrive/data/845926/001/neurovisor_2025-05-03_11-03-15.edf...\n",
            "EDF file detected\n",
            "Setting channel info structure...\n",
            "Creating raw.info structure...\n",
            "Reading 0 ... 3955999  =      0.000 ...  3955.999 secs...\n"
          ]
        },
        {
          "name": "stderr",
          "output_type": "stream",
          "text": [
            "/tmp/ipython-input-9-407938800.py:8: RuntimeWarning: Channels contain different highpass filters. Highest filter setting will be stored.\n",
            "  raw = mne.io.read_raw_edf(path, preload=True)\n",
            "/tmp/ipython-input-9-407938800.py:8: RuntimeWarning: Channels contain different lowpass filters. Lowest filter setting will be stored.\n",
            "  raw = mne.io.read_raw_edf(path, preload=True)\n"
          ]
        },
        {
          "name": "stdout",
          "output_type": "stream",
          "text": [
            "Filtering raw data in 1 contiguous segment\n",
            "Setting up band-pass filter from 0.5 - 40 Hz\n",
            "\n",
            "FIR filter parameters\n",
            "---------------------\n",
            "Designing a one-pass, zero-phase, non-causal bandpass filter:\n",
            "- Windowed time-domain design (firwin) method\n",
            "- Hamming window with 0.0194 passband ripple and 53 dB stopband attenuation\n",
            "- Lower passband edge: 0.50\n",
            "- Lower transition bandwidth: 0.50 Hz (-6 dB cutoff frequency: 0.25 Hz)\n",
            "- Upper passband edge: 40.00 Hz\n",
            "- Upper transition bandwidth: 10.00 Hz (-6 dB cutoff frequency: 45.00 Hz)\n",
            "- Filter length: 6601 samples (6.601 s)\n",
            "\n"
          ]
        },
        {
          "name": "stderr",
          "output_type": "stream",
          "text": [
            "[Parallel(n_jobs=1)]: Done  17 tasks      | elapsed:    2.6s\n",
            "[Parallel(n_jobs=1)]: Done  34 out of  34 | elapsed:    5.3s finished\n"
          ]
        },
        {
          "name": "stdout",
          "output_type": "stream",
          "text": [
            "Not setting metadata\n",
            "791 matching events found\n",
            "No baseline correction applied\n",
            "0 projection items activated\n",
            "Using data from preloaded Raw for 791 events and 5000 original time points ...\n",
            "0 bad epochs dropped\n"
          ]
        },
        {
          "name": "stderr",
          "output_type": "stream",
          "text": [
            "/tmp/ipython-input-9-407938800.py:34: DeprecationWarning: `trapz` is deprecated. Use `trapezoid` instead, or one of the numerical integration functions in `scipy.integrate`.\n",
            "  delta_power = np.trapz(psd[(f >= 0.5) & (f <= 4)], f[(f >= 0.5) & (f <= 4)])\n",
            "/tmp/ipython-input-9-407938800.py:35: DeprecationWarning: `trapz` is deprecated. Use `trapezoid` instead, or one of the numerical integration functions in `scipy.integrate`.\n",
            "  theta_power = np.trapz(psd[(f >= 4) & (f <= 8)], f[(f >= 4) & (f <= 8)])\n",
            "/tmp/ipython-input-9-407938800.py:36: DeprecationWarning: `trapz` is deprecated. Use `trapezoid` instead, or one of the numerical integration functions in `scipy.integrate`.\n",
            "  alpha_power = np.trapz(psd[(f >= 8) & (f <= 13)], f[(f >= 8) & (f <= 13)])\n",
            "/tmp/ipython-input-9-407938800.py:37: DeprecationWarning: `trapz` is deprecated. Use `trapezoid` instead, or one of the numerical integration functions in `scipy.integrate`.\n",
            "  beta_power = np.trapz(psd[(f >= 13) & (f <= 30)], f[(f >= 13) & (f <= 30)])\n"
          ]
        },
        {
          "name": "stdout",
          "output_type": "stream",
          "text": [
            "+++++++++++++++ 11/62 файл обработан +++++++++++++++\n",
            "Extracting EDF parameters from /content/drive/MyDrive/data/913071/001/neurovisor_2025-04-27_16-48-10.edf...\n",
            "EDF file detected\n",
            "Setting channel info structure...\n",
            "Creating raw.info structure...\n",
            "Reading 0 ... 3963999  =      0.000 ...  3963.999 secs...\n"
          ]
        },
        {
          "name": "stderr",
          "output_type": "stream",
          "text": [
            "/tmp/ipython-input-9-407938800.py:8: RuntimeWarning: Channels contain different highpass filters. Highest filter setting will be stored.\n",
            "  raw = mne.io.read_raw_edf(path, preload=True)\n",
            "/tmp/ipython-input-9-407938800.py:8: RuntimeWarning: Channels contain different lowpass filters. Lowest filter setting will be stored.\n",
            "  raw = mne.io.read_raw_edf(path, preload=True)\n"
          ]
        },
        {
          "name": "stdout",
          "output_type": "stream",
          "text": [
            "Filtering raw data in 1 contiguous segment\n",
            "Setting up band-pass filter from 0.5 - 40 Hz\n",
            "\n",
            "FIR filter parameters\n",
            "---------------------\n",
            "Designing a one-pass, zero-phase, non-causal bandpass filter:\n",
            "- Windowed time-domain design (firwin) method\n",
            "- Hamming window with 0.0194 passband ripple and 53 dB stopband attenuation\n",
            "- Lower passband edge: 0.50\n",
            "- Lower transition bandwidth: 0.50 Hz (-6 dB cutoff frequency: 0.25 Hz)\n",
            "- Upper passband edge: 40.00 Hz\n",
            "- Upper transition bandwidth: 10.00 Hz (-6 dB cutoff frequency: 45.00 Hz)\n",
            "- Filter length: 6601 samples (6.601 s)\n",
            "\n"
          ]
        },
        {
          "name": "stderr",
          "output_type": "stream",
          "text": [
            "[Parallel(n_jobs=1)]: Done  17 tasks      | elapsed:    0.6s\n"
          ]
        },
        {
          "name": "stdout",
          "output_type": "stream",
          "text": [
            "Not setting metadata\n",
            "120 matching events found\n",
            "No baseline correction applied\n",
            "0 projection items activated\n",
            "Using data from preloaded Raw for 120 events and 5000 original time points ...\n",
            "0 bad epochs dropped\n"
          ]
        },
        {
          "name": "stderr",
          "output_type": "stream",
          "text": [
            "[Parallel(n_jobs=1)]: Done  34 out of  34 | elapsed:    1.0s finished\n",
            "/tmp/ipython-input-9-407938800.py:34: DeprecationWarning: `trapz` is deprecated. Use `trapezoid` instead, or one of the numerical integration functions in `scipy.integrate`.\n",
            "  delta_power = np.trapz(psd[(f >= 0.5) & (f <= 4)], f[(f >= 0.5) & (f <= 4)])\n",
            "/tmp/ipython-input-9-407938800.py:35: DeprecationWarning: `trapz` is deprecated. Use `trapezoid` instead, or one of the numerical integration functions in `scipy.integrate`.\n",
            "  theta_power = np.trapz(psd[(f >= 4) & (f <= 8)], f[(f >= 4) & (f <= 8)])\n",
            "/tmp/ipython-input-9-407938800.py:36: DeprecationWarning: `trapz` is deprecated. Use `trapezoid` instead, or one of the numerical integration functions in `scipy.integrate`.\n",
            "  alpha_power = np.trapz(psd[(f >= 8) & (f <= 13)], f[(f >= 8) & (f <= 13)])\n",
            "/tmp/ipython-input-9-407938800.py:37: DeprecationWarning: `trapz` is deprecated. Use `trapezoid` instead, or one of the numerical integration functions in `scipy.integrate`.\n",
            "  beta_power = np.trapz(psd[(f >= 13) & (f <= 30)], f[(f >= 13) & (f <= 30)])\n"
          ]
        },
        {
          "name": "stdout",
          "output_type": "stream",
          "text": [
            "+++++++++++++++ 12/62 файл обработан +++++++++++++++\n",
            "Extracting EDF parameters from /content/drive/MyDrive/data/735684/003/neurovisor_2025-04-20_14-47-10.edf...\n",
            "EDF file detected\n",
            "Setting channel info structure...\n",
            "Creating raw.info structure...\n",
            "Reading 0 ... 735999  =      0.000 ...   735.999 secs...\n"
          ]
        },
        {
          "name": "stderr",
          "output_type": "stream",
          "text": [
            "/tmp/ipython-input-9-407938800.py:8: RuntimeWarning: Channels contain different highpass filters. Highest filter setting will be stored.\n",
            "  raw = mne.io.read_raw_edf(path, preload=True)\n",
            "/tmp/ipython-input-9-407938800.py:8: RuntimeWarning: Channels contain different lowpass filters. Lowest filter setting will be stored.\n",
            "  raw = mne.io.read_raw_edf(path, preload=True)\n"
          ]
        },
        {
          "name": "stdout",
          "output_type": "stream",
          "text": [
            "Filtering raw data in 1 contiguous segment\n",
            "Setting up band-pass filter from 0.5 - 40 Hz\n",
            "\n",
            "FIR filter parameters\n",
            "---------------------\n",
            "Designing a one-pass, zero-phase, non-causal bandpass filter:\n",
            "- Windowed time-domain design (firwin) method\n",
            "- Hamming window with 0.0194 passband ripple and 53 dB stopband attenuation\n",
            "- Lower passband edge: 0.50\n",
            "- Lower transition bandwidth: 0.50 Hz (-6 dB cutoff frequency: 0.25 Hz)\n",
            "- Upper passband edge: 40.00 Hz\n",
            "- Upper transition bandwidth: 10.00 Hz (-6 dB cutoff frequency: 45.00 Hz)\n",
            "- Filter length: 6601 samples (6.601 s)\n",
            "\n"
          ]
        },
        {
          "name": "stderr",
          "output_type": "stream",
          "text": [
            "[Parallel(n_jobs=1)]: Done  17 tasks      | elapsed:    0.4s\n"
          ]
        },
        {
          "name": "stdout",
          "output_type": "stream",
          "text": [
            "Not setting metadata\n",
            "120 matching events found\n",
            "No baseline correction applied\n",
            "0 projection items activated\n",
            "Using data from preloaded Raw for 120 events and 5000 original time points ...\n",
            "0 bad epochs dropped\n"
          ]
        },
        {
          "name": "stderr",
          "output_type": "stream",
          "text": [
            "[Parallel(n_jobs=1)]: Done  34 out of  34 | elapsed:    0.8s finished\n",
            "/tmp/ipython-input-9-407938800.py:34: DeprecationWarning: `trapz` is deprecated. Use `trapezoid` instead, or one of the numerical integration functions in `scipy.integrate`.\n",
            "  delta_power = np.trapz(psd[(f >= 0.5) & (f <= 4)], f[(f >= 0.5) & (f <= 4)])\n",
            "/tmp/ipython-input-9-407938800.py:35: DeprecationWarning: `trapz` is deprecated. Use `trapezoid` instead, or one of the numerical integration functions in `scipy.integrate`.\n",
            "  theta_power = np.trapz(psd[(f >= 4) & (f <= 8)], f[(f >= 4) & (f <= 8)])\n",
            "/tmp/ipython-input-9-407938800.py:36: DeprecationWarning: `trapz` is deprecated. Use `trapezoid` instead, or one of the numerical integration functions in `scipy.integrate`.\n",
            "  alpha_power = np.trapz(psd[(f >= 8) & (f <= 13)], f[(f >= 8) & (f <= 13)])\n",
            "/tmp/ipython-input-9-407938800.py:37: DeprecationWarning: `trapz` is deprecated. Use `trapezoid` instead, or one of the numerical integration functions in `scipy.integrate`.\n",
            "  beta_power = np.trapz(psd[(f >= 13) & (f <= 30)], f[(f >= 13) & (f <= 30)])\n"
          ]
        },
        {
          "name": "stdout",
          "output_type": "stream",
          "text": [
            "+++++++++++++++ 13/62 файл обработан +++++++++++++++\n",
            "Extracting EDF parameters from /content/drive/MyDrive/data/735684/001/neurovisor_2025-04-20_13-35-11.edf...\n",
            "EDF file detected\n",
            "Setting channel info structure...\n",
            "Creating raw.info structure...\n",
            "Reading 0 ... 1277999  =      0.000 ...  1277.999 secs...\n"
          ]
        },
        {
          "name": "stderr",
          "output_type": "stream",
          "text": [
            "/tmp/ipython-input-9-407938800.py:8: RuntimeWarning: Channels contain different highpass filters. Highest filter setting will be stored.\n",
            "  raw = mne.io.read_raw_edf(path, preload=True)\n",
            "/tmp/ipython-input-9-407938800.py:8: RuntimeWarning: Channels contain different lowpass filters. Lowest filter setting will be stored.\n",
            "  raw = mne.io.read_raw_edf(path, preload=True)\n"
          ]
        },
        {
          "name": "stdout",
          "output_type": "stream",
          "text": [
            "Filtering raw data in 1 contiguous segment\n",
            "Setting up band-pass filter from 0.5 - 40 Hz\n",
            "\n",
            "FIR filter parameters\n",
            "---------------------\n",
            "Designing a one-pass, zero-phase, non-causal bandpass filter:\n",
            "- Windowed time-domain design (firwin) method\n",
            "- Hamming window with 0.0194 passband ripple and 53 dB stopband attenuation\n",
            "- Lower passband edge: 0.50\n",
            "- Lower transition bandwidth: 0.50 Hz (-6 dB cutoff frequency: 0.25 Hz)\n",
            "- Upper passband edge: 40.00 Hz\n",
            "- Upper transition bandwidth: 10.00 Hz (-6 dB cutoff frequency: 45.00 Hz)\n",
            "- Filter length: 6601 samples (6.601 s)\n",
            "\n"
          ]
        },
        {
          "name": "stderr",
          "output_type": "stream",
          "text": [
            "[Parallel(n_jobs=1)]: Done  17 tasks      | elapsed:    0.4s\n"
          ]
        },
        {
          "name": "stdout",
          "output_type": "stream",
          "text": [
            "Not setting metadata\n",
            "120 matching events found\n",
            "No baseline correction applied\n",
            "0 projection items activated\n",
            "Using data from preloaded Raw for 120 events and 5000 original time points ...\n",
            "0 bad epochs dropped\n"
          ]
        },
        {
          "name": "stderr",
          "output_type": "stream",
          "text": [
            "[Parallel(n_jobs=1)]: Done  34 out of  34 | elapsed:    0.8s finished\n",
            "/tmp/ipython-input-9-407938800.py:34: DeprecationWarning: `trapz` is deprecated. Use `trapezoid` instead, or one of the numerical integration functions in `scipy.integrate`.\n",
            "  delta_power = np.trapz(psd[(f >= 0.5) & (f <= 4)], f[(f >= 0.5) & (f <= 4)])\n",
            "/tmp/ipython-input-9-407938800.py:35: DeprecationWarning: `trapz` is deprecated. Use `trapezoid` instead, or one of the numerical integration functions in `scipy.integrate`.\n",
            "  theta_power = np.trapz(psd[(f >= 4) & (f <= 8)], f[(f >= 4) & (f <= 8)])\n",
            "/tmp/ipython-input-9-407938800.py:36: DeprecationWarning: `trapz` is deprecated. Use `trapezoid` instead, or one of the numerical integration functions in `scipy.integrate`.\n",
            "  alpha_power = np.trapz(psd[(f >= 8) & (f <= 13)], f[(f >= 8) & (f <= 13)])\n",
            "/tmp/ipython-input-9-407938800.py:37: DeprecationWarning: `trapz` is deprecated. Use `trapezoid` instead, or one of the numerical integration functions in `scipy.integrate`.\n",
            "  beta_power = np.trapz(psd[(f >= 13) & (f <= 30)], f[(f >= 13) & (f <= 30)])\n"
          ]
        },
        {
          "name": "stdout",
          "output_type": "stream",
          "text": [
            "+++++++++++++++ 14/62 файл обработан +++++++++++++++\n",
            "Extracting EDF parameters from /content/drive/MyDrive/data/735684/002/neurovisor_2025-04-20_14-05-22.edf...\n",
            "EDF file detected\n",
            "Setting channel info structure...\n",
            "Creating raw.info structure...\n",
            "Reading 0 ... 2431999  =      0.000 ...  2431.999 secs...\n"
          ]
        },
        {
          "name": "stderr",
          "output_type": "stream",
          "text": [
            "/tmp/ipython-input-9-407938800.py:8: RuntimeWarning: Channels contain different highpass filters. Highest filter setting will be stored.\n",
            "  raw = mne.io.read_raw_edf(path, preload=True)\n",
            "/tmp/ipython-input-9-407938800.py:8: RuntimeWarning: Channels contain different lowpass filters. Lowest filter setting will be stored.\n",
            "  raw = mne.io.read_raw_edf(path, preload=True)\n"
          ]
        },
        {
          "name": "stdout",
          "output_type": "stream",
          "text": [
            "Filtering raw data in 1 contiguous segment\n",
            "Setting up band-pass filter from 0.5 - 40 Hz\n",
            "\n",
            "FIR filter parameters\n",
            "---------------------\n",
            "Designing a one-pass, zero-phase, non-causal bandpass filter:\n",
            "- Windowed time-domain design (firwin) method\n",
            "- Hamming window with 0.0194 passband ripple and 53 dB stopband attenuation\n",
            "- Lower passband edge: 0.50\n",
            "- Lower transition bandwidth: 0.50 Hz (-6 dB cutoff frequency: 0.25 Hz)\n",
            "- Upper passband edge: 40.00 Hz\n",
            "- Upper transition bandwidth: 10.00 Hz (-6 dB cutoff frequency: 45.00 Hz)\n",
            "- Filter length: 6601 samples (6.601 s)\n",
            "\n"
          ]
        },
        {
          "name": "stderr",
          "output_type": "stream",
          "text": [
            "[Parallel(n_jobs=1)]: Done  17 tasks      | elapsed:    0.4s\n"
          ]
        },
        {
          "name": "stdout",
          "output_type": "stream",
          "text": [
            "Not setting metadata\n",
            "120 matching events found\n",
            "No baseline correction applied\n",
            "0 projection items activated\n",
            "Using data from preloaded Raw for 120 events and 5000 original time points ...\n",
            "0 bad epochs dropped\n"
          ]
        },
        {
          "name": "stderr",
          "output_type": "stream",
          "text": [
            "[Parallel(n_jobs=1)]: Done  34 out of  34 | elapsed:    0.9s finished\n",
            "/tmp/ipython-input-9-407938800.py:34: DeprecationWarning: `trapz` is deprecated. Use `trapezoid` instead, or one of the numerical integration functions in `scipy.integrate`.\n",
            "  delta_power = np.trapz(psd[(f >= 0.5) & (f <= 4)], f[(f >= 0.5) & (f <= 4)])\n",
            "/tmp/ipython-input-9-407938800.py:35: DeprecationWarning: `trapz` is deprecated. Use `trapezoid` instead, or one of the numerical integration functions in `scipy.integrate`.\n",
            "  theta_power = np.trapz(psd[(f >= 4) & (f <= 8)], f[(f >= 4) & (f <= 8)])\n",
            "/tmp/ipython-input-9-407938800.py:36: DeprecationWarning: `trapz` is deprecated. Use `trapezoid` instead, or one of the numerical integration functions in `scipy.integrate`.\n",
            "  alpha_power = np.trapz(psd[(f >= 8) & (f <= 13)], f[(f >= 8) & (f <= 13)])\n",
            "/tmp/ipython-input-9-407938800.py:37: DeprecationWarning: `trapz` is deprecated. Use `trapezoid` instead, or one of the numerical integration functions in `scipy.integrate`.\n",
            "  beta_power = np.trapz(psd[(f >= 13) & (f <= 30)], f[(f >= 13) & (f <= 30)])\n"
          ]
        },
        {
          "name": "stdout",
          "output_type": "stream",
          "text": [
            "+++++++++++++++ 15/62 файл обработан +++++++++++++++\n",
            "Extracting EDF parameters from /content/drive/MyDrive/data/834979/001/neurovisor_2025-04-28_11-10-48.edf...\n",
            "EDF file detected\n",
            "Setting channel info structure...\n",
            "Creating raw.info structure...\n",
            "Reading 0 ... 3952999  =      0.000 ...  3952.999 secs...\n"
          ]
        },
        {
          "name": "stderr",
          "output_type": "stream",
          "text": [
            "/tmp/ipython-input-9-407938800.py:8: RuntimeWarning: Channels contain different highpass filters. Highest filter setting will be stored.\n",
            "  raw = mne.io.read_raw_edf(path, preload=True)\n",
            "/tmp/ipython-input-9-407938800.py:8: RuntimeWarning: Channels contain different lowpass filters. Lowest filter setting will be stored.\n",
            "  raw = mne.io.read_raw_edf(path, preload=True)\n"
          ]
        },
        {
          "name": "stdout",
          "output_type": "stream",
          "text": [
            "Filtering raw data in 1 contiguous segment\n",
            "Setting up band-pass filter from 0.5 - 40 Hz\n",
            "\n",
            "FIR filter parameters\n",
            "---------------------\n",
            "Designing a one-pass, zero-phase, non-causal bandpass filter:\n",
            "- Windowed time-domain design (firwin) method\n",
            "- Hamming window with 0.0194 passband ripple and 53 dB stopband attenuation\n",
            "- Lower passband edge: 0.50\n",
            "- Lower transition bandwidth: 0.50 Hz (-6 dB cutoff frequency: 0.25 Hz)\n",
            "- Upper passband edge: 40.00 Hz\n",
            "- Upper transition bandwidth: 10.00 Hz (-6 dB cutoff frequency: 45.00 Hz)\n",
            "- Filter length: 6601 samples (6.601 s)\n",
            "\n"
          ]
        },
        {
          "name": "stderr",
          "output_type": "stream",
          "text": [
            "[Parallel(n_jobs=1)]: Done  17 tasks      | elapsed:    0.4s\n"
          ]
        },
        {
          "name": "stdout",
          "output_type": "stream",
          "text": [
            "Not setting metadata\n",
            "120 matching events found\n",
            "No baseline correction applied\n",
            "0 projection items activated\n",
            "Using data from preloaded Raw for 120 events and 5000 original time points ...\n",
            "0 bad epochs dropped\n"
          ]
        },
        {
          "name": "stderr",
          "output_type": "stream",
          "text": [
            "[Parallel(n_jobs=1)]: Done  34 out of  34 | elapsed:    0.8s finished\n",
            "/tmp/ipython-input-9-407938800.py:34: DeprecationWarning: `trapz` is deprecated. Use `trapezoid` instead, or one of the numerical integration functions in `scipy.integrate`.\n",
            "  delta_power = np.trapz(psd[(f >= 0.5) & (f <= 4)], f[(f >= 0.5) & (f <= 4)])\n",
            "/tmp/ipython-input-9-407938800.py:35: DeprecationWarning: `trapz` is deprecated. Use `trapezoid` instead, or one of the numerical integration functions in `scipy.integrate`.\n",
            "  theta_power = np.trapz(psd[(f >= 4) & (f <= 8)], f[(f >= 4) & (f <= 8)])\n",
            "/tmp/ipython-input-9-407938800.py:36: DeprecationWarning: `trapz` is deprecated. Use `trapezoid` instead, or one of the numerical integration functions in `scipy.integrate`.\n",
            "  alpha_power = np.trapz(psd[(f >= 8) & (f <= 13)], f[(f >= 8) & (f <= 13)])\n",
            "/tmp/ipython-input-9-407938800.py:37: DeprecationWarning: `trapz` is deprecated. Use `trapezoid` instead, or one of the numerical integration functions in `scipy.integrate`.\n",
            "  beta_power = np.trapz(psd[(f >= 13) & (f <= 30)], f[(f >= 13) & (f <= 30)])\n"
          ]
        },
        {
          "name": "stdout",
          "output_type": "stream",
          "text": [
            "+++++++++++++++ 16/62 файл обработан +++++++++++++++\n",
            "Extracting EDF parameters from /content/drive/MyDrive/data/443408/001/neurovisor_2025-04-25_17-05-12.edf...\n",
            "EDF file detected\n",
            "Setting channel info structure...\n",
            "Creating raw.info structure...\n",
            "Reading 0 ... 3948999  =      0.000 ...  3948.999 secs...\n"
          ]
        },
        {
          "name": "stderr",
          "output_type": "stream",
          "text": [
            "/tmp/ipython-input-9-407938800.py:8: RuntimeWarning: Channels contain different highpass filters. Highest filter setting will be stored.\n",
            "  raw = mne.io.read_raw_edf(path, preload=True)\n",
            "/tmp/ipython-input-9-407938800.py:8: RuntimeWarning: Channels contain different lowpass filters. Lowest filter setting will be stored.\n",
            "  raw = mne.io.read_raw_edf(path, preload=True)\n"
          ]
        },
        {
          "name": "stdout",
          "output_type": "stream",
          "text": [
            "Filtering raw data in 1 contiguous segment\n",
            "Setting up band-pass filter from 0.5 - 40 Hz\n",
            "\n",
            "FIR filter parameters\n",
            "---------------------\n",
            "Designing a one-pass, zero-phase, non-causal bandpass filter:\n",
            "- Windowed time-domain design (firwin) method\n",
            "- Hamming window with 0.0194 passband ripple and 53 dB stopband attenuation\n",
            "- Lower passband edge: 0.50\n",
            "- Lower transition bandwidth: 0.50 Hz (-6 dB cutoff frequency: 0.25 Hz)\n",
            "- Upper passband edge: 40.00 Hz\n",
            "- Upper transition bandwidth: 10.00 Hz (-6 dB cutoff frequency: 45.00 Hz)\n",
            "- Filter length: 6601 samples (6.601 s)\n",
            "\n"
          ]
        },
        {
          "name": "stderr",
          "output_type": "stream",
          "text": [
            "[Parallel(n_jobs=1)]: Done  17 tasks      | elapsed:    0.4s\n"
          ]
        },
        {
          "name": "stdout",
          "output_type": "stream",
          "text": [
            "Not setting metadata\n",
            "120 matching events found\n",
            "No baseline correction applied\n",
            "0 projection items activated\n",
            "Using data from preloaded Raw for 120 events and 5000 original time points ...\n",
            "0 bad epochs dropped\n"
          ]
        },
        {
          "name": "stderr",
          "output_type": "stream",
          "text": [
            "[Parallel(n_jobs=1)]: Done  34 out of  34 | elapsed:    0.8s finished\n",
            "/tmp/ipython-input-9-407938800.py:34: DeprecationWarning: `trapz` is deprecated. Use `trapezoid` instead, or one of the numerical integration functions in `scipy.integrate`.\n",
            "  delta_power = np.trapz(psd[(f >= 0.5) & (f <= 4)], f[(f >= 0.5) & (f <= 4)])\n",
            "/tmp/ipython-input-9-407938800.py:35: DeprecationWarning: `trapz` is deprecated. Use `trapezoid` instead, or one of the numerical integration functions in `scipy.integrate`.\n",
            "  theta_power = np.trapz(psd[(f >= 4) & (f <= 8)], f[(f >= 4) & (f <= 8)])\n",
            "/tmp/ipython-input-9-407938800.py:36: DeprecationWarning: `trapz` is deprecated. Use `trapezoid` instead, or one of the numerical integration functions in `scipy.integrate`.\n",
            "  alpha_power = np.trapz(psd[(f >= 8) & (f <= 13)], f[(f >= 8) & (f <= 13)])\n",
            "/tmp/ipython-input-9-407938800.py:37: DeprecationWarning: `trapz` is deprecated. Use `trapezoid` instead, or one of the numerical integration functions in `scipy.integrate`.\n",
            "  beta_power = np.trapz(psd[(f >= 13) & (f <= 30)], f[(f >= 13) & (f <= 30)])\n"
          ]
        },
        {
          "name": "stdout",
          "output_type": "stream",
          "text": [
            "+++++++++++++++ 17/62 файл обработан +++++++++++++++\n",
            "Extracting EDF parameters from /content/drive/MyDrive/data/648208/001/neurovisor_2025-04-17_14-31-17.edf...\n",
            "EDF file detected\n",
            "Setting channel info structure...\n",
            "Creating raw.info structure...\n",
            "Reading 0 ... 3868999  =      0.000 ...  3868.999 secs...\n"
          ]
        },
        {
          "name": "stderr",
          "output_type": "stream",
          "text": [
            "/tmp/ipython-input-9-407938800.py:8: RuntimeWarning: Channels contain different highpass filters. Highest filter setting will be stored.\n",
            "  raw = mne.io.read_raw_edf(path, preload=True)\n",
            "/tmp/ipython-input-9-407938800.py:8: RuntimeWarning: Channels contain different lowpass filters. Lowest filter setting will be stored.\n",
            "  raw = mne.io.read_raw_edf(path, preload=True)\n"
          ]
        },
        {
          "name": "stdout",
          "output_type": "stream",
          "text": [
            "Filtering raw data in 1 contiguous segment\n",
            "Setting up band-pass filter from 0.5 - 40 Hz\n",
            "\n",
            "FIR filter parameters\n",
            "---------------------\n",
            "Designing a one-pass, zero-phase, non-causal bandpass filter:\n",
            "- Windowed time-domain design (firwin) method\n",
            "- Hamming window with 0.0194 passband ripple and 53 dB stopband attenuation\n",
            "- Lower passband edge: 0.50\n",
            "- Lower transition bandwidth: 0.50 Hz (-6 dB cutoff frequency: 0.25 Hz)\n",
            "- Upper passband edge: 40.00 Hz\n",
            "- Upper transition bandwidth: 10.00 Hz (-6 dB cutoff frequency: 45.00 Hz)\n",
            "- Filter length: 6601 samples (6.601 s)\n",
            "\n"
          ]
        },
        {
          "name": "stderr",
          "output_type": "stream",
          "text": [
            "[Parallel(n_jobs=1)]: Done  17 tasks      | elapsed:    2.5s\n",
            "[Parallel(n_jobs=1)]: Done  34 out of  34 | elapsed:    5.9s finished\n"
          ]
        },
        {
          "name": "stdout",
          "output_type": "stream",
          "text": [
            "Not setting metadata\n",
            "773 matching events found\n",
            "No baseline correction applied\n",
            "0 projection items activated\n",
            "Using data from preloaded Raw for 773 events and 5000 original time points ...\n",
            "0 bad epochs dropped\n"
          ]
        },
        {
          "name": "stderr",
          "output_type": "stream",
          "text": [
            "/tmp/ipython-input-9-407938800.py:34: DeprecationWarning: `trapz` is deprecated. Use `trapezoid` instead, or one of the numerical integration functions in `scipy.integrate`.\n",
            "  delta_power = np.trapz(psd[(f >= 0.5) & (f <= 4)], f[(f >= 0.5) & (f <= 4)])\n",
            "/tmp/ipython-input-9-407938800.py:35: DeprecationWarning: `trapz` is deprecated. Use `trapezoid` instead, or one of the numerical integration functions in `scipy.integrate`.\n",
            "  theta_power = np.trapz(psd[(f >= 4) & (f <= 8)], f[(f >= 4) & (f <= 8)])\n",
            "/tmp/ipython-input-9-407938800.py:36: DeprecationWarning: `trapz` is deprecated. Use `trapezoid` instead, or one of the numerical integration functions in `scipy.integrate`.\n",
            "  alpha_power = np.trapz(psd[(f >= 8) & (f <= 13)], f[(f >= 8) & (f <= 13)])\n",
            "/tmp/ipython-input-9-407938800.py:37: DeprecationWarning: `trapz` is deprecated. Use `trapezoid` instead, or one of the numerical integration functions in `scipy.integrate`.\n",
            "  beta_power = np.trapz(psd[(f >= 13) & (f <= 30)], f[(f >= 13) & (f <= 30)])\n"
          ]
        },
        {
          "name": "stdout",
          "output_type": "stream",
          "text": [
            "+++++++++++++++ 18/62 файл обработан +++++++++++++++\n",
            "Extracting EDF parameters from /content/drive/MyDrive/data/841045/001/neurovisor_2025-04-23_14-03-28.edf...\n",
            "EDF file detected\n",
            "Setting channel info structure...\n",
            "Creating raw.info structure...\n",
            "Reading 0 ... 3953999  =      0.000 ...  3953.999 secs...\n"
          ]
        },
        {
          "name": "stderr",
          "output_type": "stream",
          "text": [
            "/tmp/ipython-input-9-407938800.py:8: RuntimeWarning: Channels contain different highpass filters. Highest filter setting will be stored.\n",
            "  raw = mne.io.read_raw_edf(path, preload=True)\n",
            "/tmp/ipython-input-9-407938800.py:8: RuntimeWarning: Channels contain different lowpass filters. Lowest filter setting will be stored.\n",
            "  raw = mne.io.read_raw_edf(path, preload=True)\n"
          ]
        },
        {
          "name": "stdout",
          "output_type": "stream",
          "text": [
            "Filtering raw data in 1 contiguous segment\n",
            "Setting up band-pass filter from 0.5 - 40 Hz\n",
            "\n",
            "FIR filter parameters\n",
            "---------------------\n",
            "Designing a one-pass, zero-phase, non-causal bandpass filter:\n",
            "- Windowed time-domain design (firwin) method\n",
            "- Hamming window with 0.0194 passband ripple and 53 dB stopband attenuation\n",
            "- Lower passband edge: 0.50\n",
            "- Lower transition bandwidth: 0.50 Hz (-6 dB cutoff frequency: 0.25 Hz)\n",
            "- Upper passband edge: 40.00 Hz\n",
            "- Upper transition bandwidth: 10.00 Hz (-6 dB cutoff frequency: 45.00 Hz)\n",
            "- Filter length: 6601 samples (6.601 s)\n",
            "\n"
          ]
        },
        {
          "name": "stderr",
          "output_type": "stream",
          "text": [
            "[Parallel(n_jobs=1)]: Done  17 tasks      | elapsed:    0.4s\n"
          ]
        },
        {
          "name": "stdout",
          "output_type": "stream",
          "text": [
            "Not setting metadata\n",
            "120 matching events found\n",
            "No baseline correction applied\n",
            "0 projection items activated\n",
            "Using data from preloaded Raw for 120 events and 5000 original time points ...\n",
            "0 bad epochs dropped\n"
          ]
        },
        {
          "name": "stderr",
          "output_type": "stream",
          "text": [
            "[Parallel(n_jobs=1)]: Done  34 out of  34 | elapsed:    0.8s finished\n",
            "/tmp/ipython-input-9-407938800.py:34: DeprecationWarning: `trapz` is deprecated. Use `trapezoid` instead, or one of the numerical integration functions in `scipy.integrate`.\n",
            "  delta_power = np.trapz(psd[(f >= 0.5) & (f <= 4)], f[(f >= 0.5) & (f <= 4)])\n",
            "/tmp/ipython-input-9-407938800.py:35: DeprecationWarning: `trapz` is deprecated. Use `trapezoid` instead, or one of the numerical integration functions in `scipy.integrate`.\n",
            "  theta_power = np.trapz(psd[(f >= 4) & (f <= 8)], f[(f >= 4) & (f <= 8)])\n",
            "/tmp/ipython-input-9-407938800.py:36: DeprecationWarning: `trapz` is deprecated. Use `trapezoid` instead, or one of the numerical integration functions in `scipy.integrate`.\n",
            "  alpha_power = np.trapz(psd[(f >= 8) & (f <= 13)], f[(f >= 8) & (f <= 13)])\n",
            "/tmp/ipython-input-9-407938800.py:37: DeprecationWarning: `trapz` is deprecated. Use `trapezoid` instead, or one of the numerical integration functions in `scipy.integrate`.\n",
            "  beta_power = np.trapz(psd[(f >= 13) & (f <= 30)], f[(f >= 13) & (f <= 30)])\n"
          ]
        },
        {
          "name": "stdout",
          "output_type": "stream",
          "text": [
            "+++++++++++++++ 19/62 файл обработан +++++++++++++++\n",
            "Extracting EDF parameters from /content/drive/MyDrive/data/373596/001/neurovisor_2025-04-28_13-44-33.edf...\n",
            "EDF file detected\n",
            "Setting channel info structure...\n",
            "Creating raw.info structure...\n",
            "Reading 0 ... 4053999  =      0.000 ...  4053.999 secs...\n"
          ]
        },
        {
          "name": "stderr",
          "output_type": "stream",
          "text": [
            "/tmp/ipython-input-9-407938800.py:8: RuntimeWarning: Channels contain different highpass filters. Highest filter setting will be stored.\n",
            "  raw = mne.io.read_raw_edf(path, preload=True)\n",
            "/tmp/ipython-input-9-407938800.py:8: RuntimeWarning: Channels contain different lowpass filters. Lowest filter setting will be stored.\n",
            "  raw = mne.io.read_raw_edf(path, preload=True)\n"
          ]
        },
        {
          "name": "stdout",
          "output_type": "stream",
          "text": [
            "Filtering raw data in 1 contiguous segment\n",
            "Setting up band-pass filter from 0.5 - 40 Hz\n",
            "\n",
            "FIR filter parameters\n",
            "---------------------\n",
            "Designing a one-pass, zero-phase, non-causal bandpass filter:\n",
            "- Windowed time-domain design (firwin) method\n",
            "- Hamming window with 0.0194 passband ripple and 53 dB stopband attenuation\n",
            "- Lower passband edge: 0.50\n",
            "- Lower transition bandwidth: 0.50 Hz (-6 dB cutoff frequency: 0.25 Hz)\n",
            "- Upper passband edge: 40.00 Hz\n",
            "- Upper transition bandwidth: 10.00 Hz (-6 dB cutoff frequency: 45.00 Hz)\n",
            "- Filter length: 6601 samples (6.601 s)\n",
            "\n"
          ]
        },
        {
          "name": "stderr",
          "output_type": "stream",
          "text": [
            "[Parallel(n_jobs=1)]: Done  17 tasks      | elapsed:    0.4s\n"
          ]
        },
        {
          "name": "stdout",
          "output_type": "stream",
          "text": [
            "Not setting metadata\n",
            "120 matching events found\n",
            "No baseline correction applied\n",
            "0 projection items activated\n",
            "Using data from preloaded Raw for 120 events and 5000 original time points ...\n",
            "0 bad epochs dropped\n"
          ]
        },
        {
          "name": "stderr",
          "output_type": "stream",
          "text": [
            "[Parallel(n_jobs=1)]: Done  34 out of  34 | elapsed:    0.8s finished\n",
            "/tmp/ipython-input-9-407938800.py:34: DeprecationWarning: `trapz` is deprecated. Use `trapezoid` instead, or one of the numerical integration functions in `scipy.integrate`.\n",
            "  delta_power = np.trapz(psd[(f >= 0.5) & (f <= 4)], f[(f >= 0.5) & (f <= 4)])\n",
            "/tmp/ipython-input-9-407938800.py:35: DeprecationWarning: `trapz` is deprecated. Use `trapezoid` instead, or one of the numerical integration functions in `scipy.integrate`.\n",
            "  theta_power = np.trapz(psd[(f >= 4) & (f <= 8)], f[(f >= 4) & (f <= 8)])\n",
            "/tmp/ipython-input-9-407938800.py:36: DeprecationWarning: `trapz` is deprecated. Use `trapezoid` instead, or one of the numerical integration functions in `scipy.integrate`.\n",
            "  alpha_power = np.trapz(psd[(f >= 8) & (f <= 13)], f[(f >= 8) & (f <= 13)])\n",
            "/tmp/ipython-input-9-407938800.py:37: DeprecationWarning: `trapz` is deprecated. Use `trapezoid` instead, or one of the numerical integration functions in `scipy.integrate`.\n",
            "  beta_power = np.trapz(psd[(f >= 13) & (f <= 30)], f[(f >= 13) & (f <= 30)])\n"
          ]
        },
        {
          "name": "stdout",
          "output_type": "stream",
          "text": [
            "+++++++++++++++ 20/62 файл обработан +++++++++++++++\n",
            "Extracting EDF parameters from /content/drive/MyDrive/data/113244/001/neurovisor_2025-04-14_13-40-50.edf...\n",
            "EDF file detected\n",
            "Setting channel info structure...\n",
            "Creating raw.info structure...\n",
            "Reading 0 ... 3883999  =      0.000 ...  3883.999 secs...\n"
          ]
        },
        {
          "name": "stderr",
          "output_type": "stream",
          "text": [
            "/tmp/ipython-input-9-407938800.py:8: RuntimeWarning: Channels contain different highpass filters. Highest filter setting will be stored.\n",
            "  raw = mne.io.read_raw_edf(path, preload=True)\n",
            "/tmp/ipython-input-9-407938800.py:8: RuntimeWarning: Channels contain different lowpass filters. Lowest filter setting will be stored.\n",
            "  raw = mne.io.read_raw_edf(path, preload=True)\n"
          ]
        },
        {
          "name": "stdout",
          "output_type": "stream",
          "text": [
            "Filtering raw data in 1 contiguous segment\n",
            "Setting up band-pass filter from 0.5 - 40 Hz\n",
            "\n",
            "FIR filter parameters\n",
            "---------------------\n",
            "Designing a one-pass, zero-phase, non-causal bandpass filter:\n",
            "- Windowed time-domain design (firwin) method\n",
            "- Hamming window with 0.0194 passband ripple and 53 dB stopband attenuation\n",
            "- Lower passband edge: 0.50\n",
            "- Lower transition bandwidth: 0.50 Hz (-6 dB cutoff frequency: 0.25 Hz)\n",
            "- Upper passband edge: 40.00 Hz\n",
            "- Upper transition bandwidth: 10.00 Hz (-6 dB cutoff frequency: 45.00 Hz)\n",
            "- Filter length: 6601 samples (6.601 s)\n",
            "\n"
          ]
        },
        {
          "name": "stderr",
          "output_type": "stream",
          "text": [
            "[Parallel(n_jobs=1)]: Done  17 tasks      | elapsed:    0.4s\n"
          ]
        },
        {
          "name": "stdout",
          "output_type": "stream",
          "text": [
            "Not setting metadata\n",
            "120 matching events found\n",
            "No baseline correction applied\n",
            "0 projection items activated\n",
            "Using data from preloaded Raw for 120 events and 5000 original time points ...\n",
            "0 bad epochs dropped\n"
          ]
        },
        {
          "name": "stderr",
          "output_type": "stream",
          "text": [
            "[Parallel(n_jobs=1)]: Done  34 out of  34 | elapsed:    0.8s finished\n",
            "/tmp/ipython-input-9-407938800.py:34: DeprecationWarning: `trapz` is deprecated. Use `trapezoid` instead, or one of the numerical integration functions in `scipy.integrate`.\n",
            "  delta_power = np.trapz(psd[(f >= 0.5) & (f <= 4)], f[(f >= 0.5) & (f <= 4)])\n",
            "/tmp/ipython-input-9-407938800.py:35: DeprecationWarning: `trapz` is deprecated. Use `trapezoid` instead, or one of the numerical integration functions in `scipy.integrate`.\n",
            "  theta_power = np.trapz(psd[(f >= 4) & (f <= 8)], f[(f >= 4) & (f <= 8)])\n",
            "/tmp/ipython-input-9-407938800.py:36: DeprecationWarning: `trapz` is deprecated. Use `trapezoid` instead, or one of the numerical integration functions in `scipy.integrate`.\n",
            "  alpha_power = np.trapz(psd[(f >= 8) & (f <= 13)], f[(f >= 8) & (f <= 13)])\n",
            "/tmp/ipython-input-9-407938800.py:37: DeprecationWarning: `trapz` is deprecated. Use `trapezoid` instead, or one of the numerical integration functions in `scipy.integrate`.\n",
            "  beta_power = np.trapz(psd[(f >= 13) & (f <= 30)], f[(f >= 13) & (f <= 30)])\n"
          ]
        },
        {
          "name": "stdout",
          "output_type": "stream",
          "text": [
            "+++++++++++++++ 21/62 файл обработан +++++++++++++++\n",
            "Extracting EDF parameters from /content/drive/MyDrive/data/045286_err/neurovisor_2025-04-04_15-24-30.edf...\n",
            "EDF file detected\n",
            "Setting channel info structure...\n",
            "Creating raw.info structure...\n",
            "Reading 0 ... 3855999  =      0.000 ...  3855.999 secs...\n"
          ]
        },
        {
          "name": "stderr",
          "output_type": "stream",
          "text": [
            "/tmp/ipython-input-9-407938800.py:8: RuntimeWarning: Channels contain different highpass filters. Highest filter setting will be stored.\n",
            "  raw = mne.io.read_raw_edf(path, preload=True)\n",
            "/tmp/ipython-input-9-407938800.py:8: RuntimeWarning: Channels contain different lowpass filters. Lowest filter setting will be stored.\n",
            "  raw = mne.io.read_raw_edf(path, preload=True)\n"
          ]
        },
        {
          "name": "stdout",
          "output_type": "stream",
          "text": [
            "Filtering raw data in 1 contiguous segment\n",
            "Setting up band-pass filter from 0.5 - 40 Hz\n",
            "\n",
            "FIR filter parameters\n",
            "---------------------\n",
            "Designing a one-pass, zero-phase, non-causal bandpass filter:\n",
            "- Windowed time-domain design (firwin) method\n",
            "- Hamming window with 0.0194 passband ripple and 53 dB stopband attenuation\n",
            "- Lower passband edge: 0.50\n",
            "- Lower transition bandwidth: 0.50 Hz (-6 dB cutoff frequency: 0.25 Hz)\n",
            "- Upper passband edge: 40.00 Hz\n",
            "- Upper transition bandwidth: 10.00 Hz (-6 dB cutoff frequency: 45.00 Hz)\n",
            "- Filter length: 6601 samples (6.601 s)\n",
            "\n"
          ]
        },
        {
          "name": "stderr",
          "output_type": "stream",
          "text": [
            "[Parallel(n_jobs=1)]: Done  17 tasks      | elapsed:    2.6s\n",
            "[Parallel(n_jobs=1)]: Done  34 out of  34 | elapsed:    5.0s finished\n"
          ]
        },
        {
          "name": "stdout",
          "output_type": "stream",
          "text": [
            "Not setting metadata\n",
            "771 matching events found\n",
            "No baseline correction applied\n",
            "0 projection items activated\n",
            "Using data from preloaded Raw for 771 events and 5000 original time points ...\n",
            "0 bad epochs dropped\n"
          ]
        },
        {
          "name": "stderr",
          "output_type": "stream",
          "text": [
            "/tmp/ipython-input-9-407938800.py:34: DeprecationWarning: `trapz` is deprecated. Use `trapezoid` instead, or one of the numerical integration functions in `scipy.integrate`.\n",
            "  delta_power = np.trapz(psd[(f >= 0.5) & (f <= 4)], f[(f >= 0.5) & (f <= 4)])\n",
            "/tmp/ipython-input-9-407938800.py:35: DeprecationWarning: `trapz` is deprecated. Use `trapezoid` instead, or one of the numerical integration functions in `scipy.integrate`.\n",
            "  theta_power = np.trapz(psd[(f >= 4) & (f <= 8)], f[(f >= 4) & (f <= 8)])\n",
            "/tmp/ipython-input-9-407938800.py:36: DeprecationWarning: `trapz` is deprecated. Use `trapezoid` instead, or one of the numerical integration functions in `scipy.integrate`.\n",
            "  alpha_power = np.trapz(psd[(f >= 8) & (f <= 13)], f[(f >= 8) & (f <= 13)])\n",
            "/tmp/ipython-input-9-407938800.py:37: DeprecationWarning: `trapz` is deprecated. Use `trapezoid` instead, or one of the numerical integration functions in `scipy.integrate`.\n",
            "  beta_power = np.trapz(psd[(f >= 13) & (f <= 30)], f[(f >= 13) & (f <= 30)])\n"
          ]
        },
        {
          "name": "stdout",
          "output_type": "stream",
          "text": [
            "+++++++++++++++ 22/62 файл обработан +++++++++++++++\n",
            "Extracting EDF parameters from /content/drive/MyDrive/data/862274_err/001/neurovisor_2025-04-04_10-38-13.edf...\n",
            "EDF file detected\n",
            "Setting channel info structure...\n",
            "Creating raw.info structure...\n",
            "Reading 0 ... 4055999  =      0.000 ...  4055.999 secs...\n"
          ]
        },
        {
          "name": "stderr",
          "output_type": "stream",
          "text": [
            "/tmp/ipython-input-9-407938800.py:8: RuntimeWarning: Channels contain different highpass filters. Highest filter setting will be stored.\n",
            "  raw = mne.io.read_raw_edf(path, preload=True)\n",
            "/tmp/ipython-input-9-407938800.py:8: RuntimeWarning: Channels contain different lowpass filters. Lowest filter setting will be stored.\n",
            "  raw = mne.io.read_raw_edf(path, preload=True)\n"
          ]
        },
        {
          "name": "stdout",
          "output_type": "stream",
          "text": [
            "Filtering raw data in 1 contiguous segment\n",
            "Setting up band-pass filter from 0.5 - 40 Hz\n",
            "\n",
            "FIR filter parameters\n",
            "---------------------\n",
            "Designing a one-pass, zero-phase, non-causal bandpass filter:\n",
            "- Windowed time-domain design (firwin) method\n",
            "- Hamming window with 0.0194 passband ripple and 53 dB stopband attenuation\n",
            "- Lower passband edge: 0.50\n",
            "- Lower transition bandwidth: 0.50 Hz (-6 dB cutoff frequency: 0.25 Hz)\n",
            "- Upper passband edge: 40.00 Hz\n",
            "- Upper transition bandwidth: 10.00 Hz (-6 dB cutoff frequency: 45.00 Hz)\n",
            "- Filter length: 6601 samples (6.601 s)\n",
            "\n"
          ]
        },
        {
          "name": "stderr",
          "output_type": "stream",
          "text": [
            "[Parallel(n_jobs=1)]: Done  17 tasks      | elapsed:    0.4s\n"
          ]
        },
        {
          "name": "stdout",
          "output_type": "stream",
          "text": [
            "Not setting metadata\n",
            "120 matching events found\n",
            "No baseline correction applied\n",
            "0 projection items activated\n",
            "Using data from preloaded Raw for 120 events and 5000 original time points ...\n",
            "0 bad epochs dropped\n"
          ]
        },
        {
          "name": "stderr",
          "output_type": "stream",
          "text": [
            "[Parallel(n_jobs=1)]: Done  34 out of  34 | elapsed:    1.1s finished\n",
            "/tmp/ipython-input-9-407938800.py:34: DeprecationWarning: `trapz` is deprecated. Use `trapezoid` instead, or one of the numerical integration functions in `scipy.integrate`.\n",
            "  delta_power = np.trapz(psd[(f >= 0.5) & (f <= 4)], f[(f >= 0.5) & (f <= 4)])\n",
            "/tmp/ipython-input-9-407938800.py:35: DeprecationWarning: `trapz` is deprecated. Use `trapezoid` instead, or one of the numerical integration functions in `scipy.integrate`.\n",
            "  theta_power = np.trapz(psd[(f >= 4) & (f <= 8)], f[(f >= 4) & (f <= 8)])\n",
            "/tmp/ipython-input-9-407938800.py:36: DeprecationWarning: `trapz` is deprecated. Use `trapezoid` instead, or one of the numerical integration functions in `scipy.integrate`.\n",
            "  alpha_power = np.trapz(psd[(f >= 8) & (f <= 13)], f[(f >= 8) & (f <= 13)])\n",
            "/tmp/ipython-input-9-407938800.py:37: DeprecationWarning: `trapz` is deprecated. Use `trapezoid` instead, or one of the numerical integration functions in `scipy.integrate`.\n",
            "  beta_power = np.trapz(psd[(f >= 13) & (f <= 30)], f[(f >= 13) & (f <= 30)])\n"
          ]
        },
        {
          "name": "stdout",
          "output_type": "stream",
          "text": [
            "+++++++++++++++ 23/62 файл обработан +++++++++++++++\n",
            "Extracting EDF parameters from /content/drive/MyDrive/data/761404/001/neurovisor_2025-04-23_11-17-45.edf...\n",
            "EDF file detected\n",
            "Setting channel info structure...\n",
            "Creating raw.info structure...\n",
            "Reading 0 ... 3884999  =      0.000 ...  3884.999 secs...\n"
          ]
        },
        {
          "name": "stderr",
          "output_type": "stream",
          "text": [
            "/tmp/ipython-input-9-407938800.py:8: RuntimeWarning: Channels contain different highpass filters. Highest filter setting will be stored.\n",
            "  raw = mne.io.read_raw_edf(path, preload=True)\n",
            "/tmp/ipython-input-9-407938800.py:8: RuntimeWarning: Channels contain different lowpass filters. Lowest filter setting will be stored.\n",
            "  raw = mne.io.read_raw_edf(path, preload=True)\n"
          ]
        },
        {
          "name": "stdout",
          "output_type": "stream",
          "text": [
            "Filtering raw data in 1 contiguous segment\n",
            "Setting up band-pass filter from 0.5 - 40 Hz\n",
            "\n",
            "FIR filter parameters\n",
            "---------------------\n",
            "Designing a one-pass, zero-phase, non-causal bandpass filter:\n",
            "- Windowed time-domain design (firwin) method\n",
            "- Hamming window with 0.0194 passband ripple and 53 dB stopband attenuation\n",
            "- Lower passband edge: 0.50\n",
            "- Lower transition bandwidth: 0.50 Hz (-6 dB cutoff frequency: 0.25 Hz)\n",
            "- Upper passband edge: 40.00 Hz\n",
            "- Upper transition bandwidth: 10.00 Hz (-6 dB cutoff frequency: 45.00 Hz)\n",
            "- Filter length: 6601 samples (6.601 s)\n",
            "\n"
          ]
        },
        {
          "name": "stderr",
          "output_type": "stream",
          "text": [
            "[Parallel(n_jobs=1)]: Done  17 tasks      | elapsed:    0.6s\n"
          ]
        },
        {
          "name": "stdout",
          "output_type": "stream",
          "text": [
            "Not setting metadata\n",
            "120 matching events found\n",
            "No baseline correction applied\n",
            "0 projection items activated\n",
            "Using data from preloaded Raw for 120 events and 5000 original time points ...\n"
          ]
        },
        {
          "name": "stderr",
          "output_type": "stream",
          "text": [
            "[Parallel(n_jobs=1)]: Done  34 out of  34 | elapsed:    1.2s finished\n"
          ]
        },
        {
          "name": "stdout",
          "output_type": "stream",
          "text": [
            "0 bad epochs dropped\n"
          ]
        },
        {
          "name": "stderr",
          "output_type": "stream",
          "text": [
            "/tmp/ipython-input-9-407938800.py:34: DeprecationWarning: `trapz` is deprecated. Use `trapezoid` instead, or one of the numerical integration functions in `scipy.integrate`.\n",
            "  delta_power = np.trapz(psd[(f >= 0.5) & (f <= 4)], f[(f >= 0.5) & (f <= 4)])\n",
            "/tmp/ipython-input-9-407938800.py:35: DeprecationWarning: `trapz` is deprecated. Use `trapezoid` instead, or one of the numerical integration functions in `scipy.integrate`.\n",
            "  theta_power = np.trapz(psd[(f >= 4) & (f <= 8)], f[(f >= 4) & (f <= 8)])\n",
            "/tmp/ipython-input-9-407938800.py:36: DeprecationWarning: `trapz` is deprecated. Use `trapezoid` instead, or one of the numerical integration functions in `scipy.integrate`.\n",
            "  alpha_power = np.trapz(psd[(f >= 8) & (f <= 13)], f[(f >= 8) & (f <= 13)])\n",
            "/tmp/ipython-input-9-407938800.py:37: DeprecationWarning: `trapz` is deprecated. Use `trapezoid` instead, or one of the numerical integration functions in `scipy.integrate`.\n",
            "  beta_power = np.trapz(psd[(f >= 13) & (f <= 30)], f[(f >= 13) & (f <= 30)])\n"
          ]
        },
        {
          "name": "stdout",
          "output_type": "stream",
          "text": [
            "+++++++++++++++ 24/62 файл обработан +++++++++++++++\n",
            "Extracting EDF parameters from /content/drive/MyDrive/data/557394/001/neurovisor_2025-04-18_16-17-23.edf...\n",
            "EDF file detected\n",
            "Setting channel info structure...\n",
            "Creating raw.info structure...\n",
            "Reading 0 ... 3864999  =      0.000 ...  3864.999 secs...\n"
          ]
        },
        {
          "name": "stderr",
          "output_type": "stream",
          "text": [
            "/tmp/ipython-input-9-407938800.py:8: RuntimeWarning: Channels contain different highpass filters. Highest filter setting will be stored.\n",
            "  raw = mne.io.read_raw_edf(path, preload=True)\n",
            "/tmp/ipython-input-9-407938800.py:8: RuntimeWarning: Channels contain different lowpass filters. Lowest filter setting will be stored.\n",
            "  raw = mne.io.read_raw_edf(path, preload=True)\n"
          ]
        },
        {
          "name": "stdout",
          "output_type": "stream",
          "text": [
            "Filtering raw data in 1 contiguous segment\n",
            "Setting up band-pass filter from 0.5 - 40 Hz\n",
            "\n",
            "FIR filter parameters\n",
            "---------------------\n",
            "Designing a one-pass, zero-phase, non-causal bandpass filter:\n",
            "- Windowed time-domain design (firwin) method\n",
            "- Hamming window with 0.0194 passband ripple and 53 dB stopband attenuation\n",
            "- Lower passband edge: 0.50\n",
            "- Lower transition bandwidth: 0.50 Hz (-6 dB cutoff frequency: 0.25 Hz)\n",
            "- Upper passband edge: 40.00 Hz\n",
            "- Upper transition bandwidth: 10.00 Hz (-6 dB cutoff frequency: 45.00 Hz)\n",
            "- Filter length: 6601 samples (6.601 s)\n",
            "\n"
          ]
        },
        {
          "name": "stderr",
          "output_type": "stream",
          "text": [
            "[Parallel(n_jobs=1)]: Done  17 tasks      | elapsed:    0.6s\n"
          ]
        },
        {
          "name": "stdout",
          "output_type": "stream",
          "text": [
            "Not setting metadata\n",
            "120 matching events found\n",
            "No baseline correction applied\n",
            "0 projection items activated\n",
            "Using data from preloaded Raw for 120 events and 5000 original time points ...\n",
            "0 bad epochs dropped\n"
          ]
        },
        {
          "name": "stderr",
          "output_type": "stream",
          "text": [
            "[Parallel(n_jobs=1)]: Done  34 out of  34 | elapsed:    1.2s finished\n",
            "/tmp/ipython-input-9-407938800.py:34: DeprecationWarning: `trapz` is deprecated. Use `trapezoid` instead, or one of the numerical integration functions in `scipy.integrate`.\n",
            "  delta_power = np.trapz(psd[(f >= 0.5) & (f <= 4)], f[(f >= 0.5) & (f <= 4)])\n",
            "/tmp/ipython-input-9-407938800.py:35: DeprecationWarning: `trapz` is deprecated. Use `trapezoid` instead, or one of the numerical integration functions in `scipy.integrate`.\n",
            "  theta_power = np.trapz(psd[(f >= 4) & (f <= 8)], f[(f >= 4) & (f <= 8)])\n",
            "/tmp/ipython-input-9-407938800.py:36: DeprecationWarning: `trapz` is deprecated. Use `trapezoid` instead, or one of the numerical integration functions in `scipy.integrate`.\n",
            "  alpha_power = np.trapz(psd[(f >= 8) & (f <= 13)], f[(f >= 8) & (f <= 13)])\n",
            "/tmp/ipython-input-9-407938800.py:37: DeprecationWarning: `trapz` is deprecated. Use `trapezoid` instead, or one of the numerical integration functions in `scipy.integrate`.\n",
            "  beta_power = np.trapz(psd[(f >= 13) & (f <= 30)], f[(f >= 13) & (f <= 30)])\n"
          ]
        },
        {
          "name": "stdout",
          "output_type": "stream",
          "text": [
            "+++++++++++++++ 25/62 файл обработан +++++++++++++++\n",
            "Extracting EDF parameters from /content/drive/MyDrive/data/054051/001/neurovisor_2025-04-03_10-47-46.edf...\n",
            "EDF file detected\n",
            "Setting channel info structure...\n",
            "Creating raw.info structure...\n",
            "Reading 0 ... 3170999  =      0.000 ...  3170.999 secs...\n"
          ]
        },
        {
          "name": "stderr",
          "output_type": "stream",
          "text": [
            "/tmp/ipython-input-9-407938800.py:8: RuntimeWarning: Channels contain different highpass filters. Highest filter setting will be stored.\n",
            "  raw = mne.io.read_raw_edf(path, preload=True)\n",
            "/tmp/ipython-input-9-407938800.py:8: RuntimeWarning: Channels contain different lowpass filters. Lowest filter setting will be stored.\n",
            "  raw = mne.io.read_raw_edf(path, preload=True)\n"
          ]
        },
        {
          "name": "stdout",
          "output_type": "stream",
          "text": [
            "Filtering raw data in 1 contiguous segment\n",
            "Setting up band-pass filter from 0.5 - 40 Hz\n",
            "\n",
            "FIR filter parameters\n",
            "---------------------\n",
            "Designing a one-pass, zero-phase, non-causal bandpass filter:\n",
            "- Windowed time-domain design (firwin) method\n",
            "- Hamming window with 0.0194 passband ripple and 53 dB stopband attenuation\n",
            "- Lower passband edge: 0.50\n",
            "- Lower transition bandwidth: 0.50 Hz (-6 dB cutoff frequency: 0.25 Hz)\n",
            "- Upper passband edge: 40.00 Hz\n",
            "- Upper transition bandwidth: 10.00 Hz (-6 dB cutoff frequency: 45.00 Hz)\n",
            "- Filter length: 6601 samples (6.601 s)\n",
            "\n"
          ]
        },
        {
          "name": "stderr",
          "output_type": "stream",
          "text": [
            "[Parallel(n_jobs=1)]: Done  17 tasks      | elapsed:    0.6s\n"
          ]
        },
        {
          "name": "stdout",
          "output_type": "stream",
          "text": [
            "Not setting metadata\n",
            "120 matching events found\n",
            "No baseline correction applied\n",
            "0 projection items activated\n",
            "Using data from preloaded Raw for 120 events and 5000 original time points ...\n"
          ]
        },
        {
          "name": "stderr",
          "output_type": "stream",
          "text": [
            "[Parallel(n_jobs=1)]: Done  34 out of  34 | elapsed:    1.2s finished\n"
          ]
        },
        {
          "name": "stdout",
          "output_type": "stream",
          "text": [
            "0 bad epochs dropped\n"
          ]
        },
        {
          "name": "stderr",
          "output_type": "stream",
          "text": [
            "/tmp/ipython-input-9-407938800.py:34: DeprecationWarning: `trapz` is deprecated. Use `trapezoid` instead, or one of the numerical integration functions in `scipy.integrate`.\n",
            "  delta_power = np.trapz(psd[(f >= 0.5) & (f <= 4)], f[(f >= 0.5) & (f <= 4)])\n",
            "/tmp/ipython-input-9-407938800.py:35: DeprecationWarning: `trapz` is deprecated. Use `trapezoid` instead, or one of the numerical integration functions in `scipy.integrate`.\n",
            "  theta_power = np.trapz(psd[(f >= 4) & (f <= 8)], f[(f >= 4) & (f <= 8)])\n",
            "/tmp/ipython-input-9-407938800.py:36: DeprecationWarning: `trapz` is deprecated. Use `trapezoid` instead, or one of the numerical integration functions in `scipy.integrate`.\n",
            "  alpha_power = np.trapz(psd[(f >= 8) & (f <= 13)], f[(f >= 8) & (f <= 13)])\n",
            "/tmp/ipython-input-9-407938800.py:37: DeprecationWarning: `trapz` is deprecated. Use `trapezoid` instead, or one of the numerical integration functions in `scipy.integrate`.\n",
            "  beta_power = np.trapz(psd[(f >= 13) & (f <= 30)], f[(f >= 13) & (f <= 30)])\n"
          ]
        },
        {
          "name": "stdout",
          "output_type": "stream",
          "text": [
            "+++++++++++++++ 26/62 файл обработан +++++++++++++++\n",
            "Extracting EDF parameters from /content/drive/MyDrive/data/054051/002/neurovisor_2025-04-03_11-43-00.edf...\n",
            "EDF file detected\n",
            "Setting channel info structure...\n",
            "Creating raw.info structure...\n",
            "Reading 0 ... 779999  =      0.000 ...   779.999 secs...\n"
          ]
        },
        {
          "name": "stderr",
          "output_type": "stream",
          "text": [
            "/tmp/ipython-input-9-407938800.py:8: RuntimeWarning: Channels contain different highpass filters. Highest filter setting will be stored.\n",
            "  raw = mne.io.read_raw_edf(path, preload=True)\n",
            "/tmp/ipython-input-9-407938800.py:8: RuntimeWarning: Channels contain different lowpass filters. Lowest filter setting will be stored.\n",
            "  raw = mne.io.read_raw_edf(path, preload=True)\n"
          ]
        },
        {
          "name": "stdout",
          "output_type": "stream",
          "text": [
            "Filtering raw data in 1 contiguous segment\n",
            "Setting up band-pass filter from 0.5 - 40 Hz\n",
            "\n",
            "FIR filter parameters\n",
            "---------------------\n",
            "Designing a one-pass, zero-phase, non-causal bandpass filter:\n",
            "- Windowed time-domain design (firwin) method\n",
            "- Hamming window with 0.0194 passband ripple and 53 dB stopband attenuation\n",
            "- Lower passband edge: 0.50\n",
            "- Lower transition bandwidth: 0.50 Hz (-6 dB cutoff frequency: 0.25 Hz)\n",
            "- Upper passband edge: 40.00 Hz\n",
            "- Upper transition bandwidth: 10.00 Hz (-6 dB cutoff frequency: 45.00 Hz)\n",
            "- Filter length: 6601 samples (6.601 s)\n",
            "\n"
          ]
        },
        {
          "name": "stderr",
          "output_type": "stream",
          "text": [
            "[Parallel(n_jobs=1)]: Done  17 tasks      | elapsed:    0.4s\n"
          ]
        },
        {
          "name": "stdout",
          "output_type": "stream",
          "text": [
            "Not setting metadata\n",
            "120 matching events found\n",
            "No baseline correction applied\n",
            "0 projection items activated\n",
            "Using data from preloaded Raw for 120 events and 5000 original time points ...\n",
            "0 bad epochs dropped\n"
          ]
        },
        {
          "name": "stderr",
          "output_type": "stream",
          "text": [
            "[Parallel(n_jobs=1)]: Done  34 out of  34 | elapsed:    0.9s finished\n",
            "/tmp/ipython-input-9-407938800.py:34: DeprecationWarning: `trapz` is deprecated. Use `trapezoid` instead, or one of the numerical integration functions in `scipy.integrate`.\n",
            "  delta_power = np.trapz(psd[(f >= 0.5) & (f <= 4)], f[(f >= 0.5) & (f <= 4)])\n",
            "/tmp/ipython-input-9-407938800.py:35: DeprecationWarning: `trapz` is deprecated. Use `trapezoid` instead, or one of the numerical integration functions in `scipy.integrate`.\n",
            "  theta_power = np.trapz(psd[(f >= 4) & (f <= 8)], f[(f >= 4) & (f <= 8)])\n",
            "/tmp/ipython-input-9-407938800.py:36: DeprecationWarning: `trapz` is deprecated. Use `trapezoid` instead, or one of the numerical integration functions in `scipy.integrate`.\n",
            "  alpha_power = np.trapz(psd[(f >= 8) & (f <= 13)], f[(f >= 8) & (f <= 13)])\n",
            "/tmp/ipython-input-9-407938800.py:37: DeprecationWarning: `trapz` is deprecated. Use `trapezoid` instead, or one of the numerical integration functions in `scipy.integrate`.\n",
            "  beta_power = np.trapz(psd[(f >= 13) & (f <= 30)], f[(f >= 13) & (f <= 30)])\n"
          ]
        },
        {
          "name": "stdout",
          "output_type": "stream",
          "text": [
            "+++++++++++++++ 27/62 файл обработан +++++++++++++++\n",
            "Extracting EDF parameters from /content/drive/MyDrive/data/710022/001/neurovisor_2025-04-14_17-00-55.edf...\n",
            "EDF file detected\n",
            "Setting channel info structure...\n",
            "Creating raw.info structure...\n",
            "Reading 0 ... 951999  =      0.000 ...   951.999 secs...\n"
          ]
        },
        {
          "name": "stderr",
          "output_type": "stream",
          "text": [
            "/tmp/ipython-input-9-407938800.py:8: RuntimeWarning: Channels contain different highpass filters. Highest filter setting will be stored.\n",
            "  raw = mne.io.read_raw_edf(path, preload=True)\n",
            "/tmp/ipython-input-9-407938800.py:8: RuntimeWarning: Channels contain different lowpass filters. Lowest filter setting will be stored.\n",
            "  raw = mne.io.read_raw_edf(path, preload=True)\n"
          ]
        },
        {
          "name": "stdout",
          "output_type": "stream",
          "text": [
            "Filtering raw data in 1 contiguous segment\n",
            "Setting up band-pass filter from 0.5 - 40 Hz\n",
            "\n",
            "FIR filter parameters\n",
            "---------------------\n",
            "Designing a one-pass, zero-phase, non-causal bandpass filter:\n",
            "- Windowed time-domain design (firwin) method\n",
            "- Hamming window with 0.0194 passband ripple and 53 dB stopband attenuation\n",
            "- Lower passband edge: 0.50\n",
            "- Lower transition bandwidth: 0.50 Hz (-6 dB cutoff frequency: 0.25 Hz)\n",
            "- Upper passband edge: 40.00 Hz\n",
            "- Upper transition bandwidth: 10.00 Hz (-6 dB cutoff frequency: 45.00 Hz)\n",
            "- Filter length: 6601 samples (6.601 s)\n",
            "\n"
          ]
        },
        {
          "name": "stderr",
          "output_type": "stream",
          "text": [
            "[Parallel(n_jobs=1)]: Done  17 tasks      | elapsed:    0.4s\n"
          ]
        },
        {
          "name": "stdout",
          "output_type": "stream",
          "text": [
            "Not setting metadata\n",
            "120 matching events found\n",
            "No baseline correction applied\n",
            "0 projection items activated\n",
            "Using data from preloaded Raw for 120 events and 5000 original time points ...\n",
            "0 bad epochs dropped\n"
          ]
        },
        {
          "name": "stderr",
          "output_type": "stream",
          "text": [
            "[Parallel(n_jobs=1)]: Done  34 out of  34 | elapsed:    0.8s finished\n",
            "/tmp/ipython-input-9-407938800.py:34: DeprecationWarning: `trapz` is deprecated. Use `trapezoid` instead, or one of the numerical integration functions in `scipy.integrate`.\n",
            "  delta_power = np.trapz(psd[(f >= 0.5) & (f <= 4)], f[(f >= 0.5) & (f <= 4)])\n",
            "/tmp/ipython-input-9-407938800.py:35: DeprecationWarning: `trapz` is deprecated. Use `trapezoid` instead, or one of the numerical integration functions in `scipy.integrate`.\n",
            "  theta_power = np.trapz(psd[(f >= 4) & (f <= 8)], f[(f >= 4) & (f <= 8)])\n",
            "/tmp/ipython-input-9-407938800.py:36: DeprecationWarning: `trapz` is deprecated. Use `trapezoid` instead, or one of the numerical integration functions in `scipy.integrate`.\n",
            "  alpha_power = np.trapz(psd[(f >= 8) & (f <= 13)], f[(f >= 8) & (f <= 13)])\n",
            "/tmp/ipython-input-9-407938800.py:37: DeprecationWarning: `trapz` is deprecated. Use `trapezoid` instead, or one of the numerical integration functions in `scipy.integrate`.\n",
            "  beta_power = np.trapz(psd[(f >= 13) & (f <= 30)], f[(f >= 13) & (f <= 30)])\n"
          ]
        },
        {
          "name": "stdout",
          "output_type": "stream",
          "text": [
            "+++++++++++++++ 28/62 файл обработан +++++++++++++++\n",
            "Extracting EDF parameters from /content/drive/MyDrive/data/710022/002/neurovisor_2025-04-14_17-21-18.edf...\n",
            "EDF file detected\n",
            "Setting channel info structure...\n",
            "Creating raw.info structure...\n",
            "Reading 0 ... 2446999  =      0.000 ...  2446.999 secs...\n"
          ]
        },
        {
          "name": "stderr",
          "output_type": "stream",
          "text": [
            "/tmp/ipython-input-9-407938800.py:8: RuntimeWarning: Channels contain different highpass filters. Highest filter setting will be stored.\n",
            "  raw = mne.io.read_raw_edf(path, preload=True)\n",
            "/tmp/ipython-input-9-407938800.py:8: RuntimeWarning: Channels contain different lowpass filters. Lowest filter setting will be stored.\n",
            "  raw = mne.io.read_raw_edf(path, preload=True)\n"
          ]
        },
        {
          "name": "stdout",
          "output_type": "stream",
          "text": [
            "Filtering raw data in 1 contiguous segment\n",
            "Setting up band-pass filter from 0.5 - 40 Hz\n",
            "\n",
            "FIR filter parameters\n",
            "---------------------\n",
            "Designing a one-pass, zero-phase, non-causal bandpass filter:\n",
            "- Windowed time-domain design (firwin) method\n",
            "- Hamming window with 0.0194 passband ripple and 53 dB stopband attenuation\n",
            "- Lower passband edge: 0.50\n",
            "- Lower transition bandwidth: 0.50 Hz (-6 dB cutoff frequency: 0.25 Hz)\n",
            "- Upper passband edge: 40.00 Hz\n",
            "- Upper transition bandwidth: 10.00 Hz (-6 dB cutoff frequency: 45.00 Hz)\n",
            "- Filter length: 6601 samples (6.601 s)\n",
            "\n"
          ]
        },
        {
          "name": "stderr",
          "output_type": "stream",
          "text": [
            "[Parallel(n_jobs=1)]: Done  17 tasks      | elapsed:    0.5s\n"
          ]
        },
        {
          "name": "stdout",
          "output_type": "stream",
          "text": [
            "Not setting metadata\n",
            "120 matching events found\n",
            "No baseline correction applied\n",
            "0 projection items activated\n",
            "Using data from preloaded Raw for 120 events and 5000 original time points ...\n",
            "0 bad epochs dropped\n"
          ]
        },
        {
          "name": "stderr",
          "output_type": "stream",
          "text": [
            "[Parallel(n_jobs=1)]: Done  34 out of  34 | elapsed:    0.9s finished\n",
            "/tmp/ipython-input-9-407938800.py:34: DeprecationWarning: `trapz` is deprecated. Use `trapezoid` instead, or one of the numerical integration functions in `scipy.integrate`.\n",
            "  delta_power = np.trapz(psd[(f >= 0.5) & (f <= 4)], f[(f >= 0.5) & (f <= 4)])\n",
            "/tmp/ipython-input-9-407938800.py:35: DeprecationWarning: `trapz` is deprecated. Use `trapezoid` instead, or one of the numerical integration functions in `scipy.integrate`.\n",
            "  theta_power = np.trapz(psd[(f >= 4) & (f <= 8)], f[(f >= 4) & (f <= 8)])\n",
            "/tmp/ipython-input-9-407938800.py:36: DeprecationWarning: `trapz` is deprecated. Use `trapezoid` instead, or one of the numerical integration functions in `scipy.integrate`.\n",
            "  alpha_power = np.trapz(psd[(f >= 8) & (f <= 13)], f[(f >= 8) & (f <= 13)])\n",
            "/tmp/ipython-input-9-407938800.py:37: DeprecationWarning: `trapz` is deprecated. Use `trapezoid` instead, or one of the numerical integration functions in `scipy.integrate`.\n",
            "  beta_power = np.trapz(psd[(f >= 13) & (f <= 30)], f[(f >= 13) & (f <= 30)])\n"
          ]
        },
        {
          "name": "stdout",
          "output_type": "stream",
          "text": [
            "+++++++++++++++ 29/62 файл обработан +++++++++++++++\n",
            "Extracting EDF parameters from /content/drive/MyDrive/data/710022/003/neurovisor_2025-04-14_18-03-09.edf...\n",
            "EDF file detected\n",
            "Setting channel info structure...\n",
            "Creating raw.info structure...\n",
            "Reading 0 ... 739999  =      0.000 ...   739.999 secs...\n"
          ]
        },
        {
          "name": "stderr",
          "output_type": "stream",
          "text": [
            "/tmp/ipython-input-9-407938800.py:8: RuntimeWarning: Channels contain different highpass filters. Highest filter setting will be stored.\n",
            "  raw = mne.io.read_raw_edf(path, preload=True)\n",
            "/tmp/ipython-input-9-407938800.py:8: RuntimeWarning: Channels contain different lowpass filters. Lowest filter setting will be stored.\n",
            "  raw = mne.io.read_raw_edf(path, preload=True)\n"
          ]
        },
        {
          "name": "stdout",
          "output_type": "stream",
          "text": [
            "Filtering raw data in 1 contiguous segment\n",
            "Setting up band-pass filter from 0.5 - 40 Hz\n",
            "\n",
            "FIR filter parameters\n",
            "---------------------\n",
            "Designing a one-pass, zero-phase, non-causal bandpass filter:\n",
            "- Windowed time-domain design (firwin) method\n",
            "- Hamming window with 0.0194 passband ripple and 53 dB stopband attenuation\n",
            "- Lower passband edge: 0.50\n",
            "- Lower transition bandwidth: 0.50 Hz (-6 dB cutoff frequency: 0.25 Hz)\n",
            "- Upper passband edge: 40.00 Hz\n",
            "- Upper transition bandwidth: 10.00 Hz (-6 dB cutoff frequency: 45.00 Hz)\n",
            "- Filter length: 6601 samples (6.601 s)\n",
            "\n"
          ]
        },
        {
          "name": "stderr",
          "output_type": "stream",
          "text": [
            "[Parallel(n_jobs=1)]: Done  17 tasks      | elapsed:    0.4s\n"
          ]
        },
        {
          "name": "stdout",
          "output_type": "stream",
          "text": [
            "Not setting metadata\n",
            "120 matching events found\n",
            "No baseline correction applied\n",
            "0 projection items activated\n",
            "Using data from preloaded Raw for 120 events and 5000 original time points ...\n",
            "0 bad epochs dropped\n"
          ]
        },
        {
          "name": "stderr",
          "output_type": "stream",
          "text": [
            "[Parallel(n_jobs=1)]: Done  34 out of  34 | elapsed:    0.9s finished\n",
            "/tmp/ipython-input-9-407938800.py:34: DeprecationWarning: `trapz` is deprecated. Use `trapezoid` instead, or one of the numerical integration functions in `scipy.integrate`.\n",
            "  delta_power = np.trapz(psd[(f >= 0.5) & (f <= 4)], f[(f >= 0.5) & (f <= 4)])\n",
            "/tmp/ipython-input-9-407938800.py:35: DeprecationWarning: `trapz` is deprecated. Use `trapezoid` instead, or one of the numerical integration functions in `scipy.integrate`.\n",
            "  theta_power = np.trapz(psd[(f >= 4) & (f <= 8)], f[(f >= 4) & (f <= 8)])\n",
            "/tmp/ipython-input-9-407938800.py:36: DeprecationWarning: `trapz` is deprecated. Use `trapezoid` instead, or one of the numerical integration functions in `scipy.integrate`.\n",
            "  alpha_power = np.trapz(psd[(f >= 8) & (f <= 13)], f[(f >= 8) & (f <= 13)])\n",
            "/tmp/ipython-input-9-407938800.py:37: DeprecationWarning: `trapz` is deprecated. Use `trapezoid` instead, or one of the numerical integration functions in `scipy.integrate`.\n",
            "  beta_power = np.trapz(psd[(f >= 13) & (f <= 30)], f[(f >= 13) & (f <= 30)])\n"
          ]
        },
        {
          "name": "stdout",
          "output_type": "stream",
          "text": [
            "+++++++++++++++ 30/62 файл обработан +++++++++++++++\n",
            "Extracting EDF parameters from /content/drive/MyDrive/data/120125/001/neurovisor_2025-04-19_13-56-16.edf...\n",
            "EDF file detected\n",
            "Setting channel info structure...\n",
            "Creating raw.info structure...\n",
            "Reading 0 ... 3931999  =      0.000 ...  3931.999 secs...\n"
          ]
        },
        {
          "name": "stderr",
          "output_type": "stream",
          "text": [
            "/tmp/ipython-input-9-407938800.py:8: RuntimeWarning: Channels contain different highpass filters. Highest filter setting will be stored.\n",
            "  raw = mne.io.read_raw_edf(path, preload=True)\n",
            "/tmp/ipython-input-9-407938800.py:8: RuntimeWarning: Channels contain different lowpass filters. Lowest filter setting will be stored.\n",
            "  raw = mne.io.read_raw_edf(path, preload=True)\n"
          ]
        },
        {
          "name": "stdout",
          "output_type": "stream",
          "text": [
            "Filtering raw data in 1 contiguous segment\n",
            "Setting up band-pass filter from 0.5 - 40 Hz\n",
            "\n",
            "FIR filter parameters\n",
            "---------------------\n",
            "Designing a one-pass, zero-phase, non-causal bandpass filter:\n",
            "- Windowed time-domain design (firwin) method\n",
            "- Hamming window with 0.0194 passband ripple and 53 dB stopband attenuation\n",
            "- Lower passband edge: 0.50\n",
            "- Lower transition bandwidth: 0.50 Hz (-6 dB cutoff frequency: 0.25 Hz)\n",
            "- Upper passband edge: 40.00 Hz\n",
            "- Upper transition bandwidth: 10.00 Hz (-6 dB cutoff frequency: 45.00 Hz)\n",
            "- Filter length: 6601 samples (6.601 s)\n",
            "\n"
          ]
        },
        {
          "name": "stderr",
          "output_type": "stream",
          "text": [
            "[Parallel(n_jobs=1)]: Done  17 tasks      | elapsed:    2.7s\n",
            "[Parallel(n_jobs=1)]: Done  34 out of  34 | elapsed:    5.6s finished\n"
          ]
        },
        {
          "name": "stdout",
          "output_type": "stream",
          "text": [
            "Not setting metadata\n",
            "786 matching events found\n",
            "No baseline correction applied\n",
            "0 projection items activated\n",
            "Using data from preloaded Raw for 786 events and 5000 original time points ...\n",
            "0 bad epochs dropped\n"
          ]
        },
        {
          "name": "stderr",
          "output_type": "stream",
          "text": [
            "/tmp/ipython-input-9-407938800.py:34: DeprecationWarning: `trapz` is deprecated. Use `trapezoid` instead, or one of the numerical integration functions in `scipy.integrate`.\n",
            "  delta_power = np.trapz(psd[(f >= 0.5) & (f <= 4)], f[(f >= 0.5) & (f <= 4)])\n",
            "/tmp/ipython-input-9-407938800.py:35: DeprecationWarning: `trapz` is deprecated. Use `trapezoid` instead, or one of the numerical integration functions in `scipy.integrate`.\n",
            "  theta_power = np.trapz(psd[(f >= 4) & (f <= 8)], f[(f >= 4) & (f <= 8)])\n",
            "/tmp/ipython-input-9-407938800.py:36: DeprecationWarning: `trapz` is deprecated. Use `trapezoid` instead, or one of the numerical integration functions in `scipy.integrate`.\n",
            "  alpha_power = np.trapz(psd[(f >= 8) & (f <= 13)], f[(f >= 8) & (f <= 13)])\n",
            "/tmp/ipython-input-9-407938800.py:37: DeprecationWarning: `trapz` is deprecated. Use `trapezoid` instead, or one of the numerical integration functions in `scipy.integrate`.\n",
            "  beta_power = np.trapz(psd[(f >= 13) & (f <= 30)], f[(f >= 13) & (f <= 30)])\n"
          ]
        },
        {
          "name": "stdout",
          "output_type": "stream",
          "text": [
            "+++++++++++++++ 31/62 файл обработан +++++++++++++++\n",
            "Extracting EDF parameters from /content/drive/MyDrive/data/814770/001/neurovisor_2025-04-15_13-56-24.edf...\n",
            "EDF file detected\n",
            "Setting channel info structure...\n",
            "Creating raw.info structure...\n",
            "Reading 0 ... 3912999  =      0.000 ...  3912.999 secs...\n"
          ]
        },
        {
          "name": "stderr",
          "output_type": "stream",
          "text": [
            "/tmp/ipython-input-9-407938800.py:8: RuntimeWarning: Channels contain different highpass filters. Highest filter setting will be stored.\n",
            "  raw = mne.io.read_raw_edf(path, preload=True)\n",
            "/tmp/ipython-input-9-407938800.py:8: RuntimeWarning: Channels contain different lowpass filters. Lowest filter setting will be stored.\n",
            "  raw = mne.io.read_raw_edf(path, preload=True)\n"
          ]
        },
        {
          "name": "stdout",
          "output_type": "stream",
          "text": [
            "Filtering raw data in 1 contiguous segment\n",
            "Setting up band-pass filter from 0.5 - 40 Hz\n",
            "\n",
            "FIR filter parameters\n",
            "---------------------\n",
            "Designing a one-pass, zero-phase, non-causal bandpass filter:\n",
            "- Windowed time-domain design (firwin) method\n",
            "- Hamming window with 0.0194 passband ripple and 53 dB stopband attenuation\n",
            "- Lower passband edge: 0.50\n",
            "- Lower transition bandwidth: 0.50 Hz (-6 dB cutoff frequency: 0.25 Hz)\n",
            "- Upper passband edge: 40.00 Hz\n",
            "- Upper transition bandwidth: 10.00 Hz (-6 dB cutoff frequency: 45.00 Hz)\n",
            "- Filter length: 6601 samples (6.601 s)\n",
            "\n"
          ]
        },
        {
          "name": "stderr",
          "output_type": "stream",
          "text": [
            "[Parallel(n_jobs=1)]: Done  17 tasks      | elapsed:    0.4s\n"
          ]
        },
        {
          "name": "stdout",
          "output_type": "stream",
          "text": [
            "Not setting metadata\n",
            "120 matching events found\n",
            "No baseline correction applied\n",
            "0 projection items activated\n",
            "Using data from preloaded Raw for 120 events and 5000 original time points ...\n",
            "0 bad epochs dropped\n"
          ]
        },
        {
          "name": "stderr",
          "output_type": "stream",
          "text": [
            "[Parallel(n_jobs=1)]: Done  34 out of  34 | elapsed:    0.8s finished\n",
            "/tmp/ipython-input-9-407938800.py:34: DeprecationWarning: `trapz` is deprecated. Use `trapezoid` instead, or one of the numerical integration functions in `scipy.integrate`.\n",
            "  delta_power = np.trapz(psd[(f >= 0.5) & (f <= 4)], f[(f >= 0.5) & (f <= 4)])\n",
            "/tmp/ipython-input-9-407938800.py:35: DeprecationWarning: `trapz` is deprecated. Use `trapezoid` instead, or one of the numerical integration functions in `scipy.integrate`.\n",
            "  theta_power = np.trapz(psd[(f >= 4) & (f <= 8)], f[(f >= 4) & (f <= 8)])\n",
            "/tmp/ipython-input-9-407938800.py:36: DeprecationWarning: `trapz` is deprecated. Use `trapezoid` instead, or one of the numerical integration functions in `scipy.integrate`.\n",
            "  alpha_power = np.trapz(psd[(f >= 8) & (f <= 13)], f[(f >= 8) & (f <= 13)])\n",
            "/tmp/ipython-input-9-407938800.py:37: DeprecationWarning: `trapz` is deprecated. Use `trapezoid` instead, or one of the numerical integration functions in `scipy.integrate`.\n",
            "  beta_power = np.trapz(psd[(f >= 13) & (f <= 30)], f[(f >= 13) & (f <= 30)])\n"
          ]
        },
        {
          "name": "stdout",
          "output_type": "stream",
          "text": [
            "+++++++++++++++ 32/62 файл обработан +++++++++++++++\n",
            "Extracting EDF parameters from /content/drive/MyDrive/data/483009/001/neurovisor_2025-04-16_16-39-39.edf...\n",
            "EDF file detected\n",
            "Setting channel info structure...\n",
            "Creating raw.info structure...\n",
            "Reading 0 ... 3826999  =      0.000 ...  3826.999 secs...\n"
          ]
        },
        {
          "name": "stderr",
          "output_type": "stream",
          "text": [
            "/tmp/ipython-input-9-407938800.py:8: RuntimeWarning: Channels contain different highpass filters. Highest filter setting will be stored.\n",
            "  raw = mne.io.read_raw_edf(path, preload=True)\n",
            "/tmp/ipython-input-9-407938800.py:8: RuntimeWarning: Channels contain different lowpass filters. Lowest filter setting will be stored.\n",
            "  raw = mne.io.read_raw_edf(path, preload=True)\n"
          ]
        },
        {
          "name": "stdout",
          "output_type": "stream",
          "text": [
            "Filtering raw data in 1 contiguous segment\n",
            "Setting up band-pass filter from 0.5 - 40 Hz\n",
            "\n",
            "FIR filter parameters\n",
            "---------------------\n",
            "Designing a one-pass, zero-phase, non-causal bandpass filter:\n",
            "- Windowed time-domain design (firwin) method\n",
            "- Hamming window with 0.0194 passband ripple and 53 dB stopband attenuation\n",
            "- Lower passband edge: 0.50\n",
            "- Lower transition bandwidth: 0.50 Hz (-6 dB cutoff frequency: 0.25 Hz)\n",
            "- Upper passband edge: 40.00 Hz\n",
            "- Upper transition bandwidth: 10.00 Hz (-6 dB cutoff frequency: 45.00 Hz)\n",
            "- Filter length: 6601 samples (6.601 s)\n",
            "\n"
          ]
        },
        {
          "name": "stderr",
          "output_type": "stream",
          "text": [
            "[Parallel(n_jobs=1)]: Done  17 tasks      | elapsed:    0.4s\n"
          ]
        },
        {
          "name": "stdout",
          "output_type": "stream",
          "text": [
            "Not setting metadata\n",
            "120 matching events found\n",
            "No baseline correction applied\n",
            "0 projection items activated\n",
            "Using data from preloaded Raw for 120 events and 5000 original time points ...\n",
            "0 bad epochs dropped\n"
          ]
        },
        {
          "name": "stderr",
          "output_type": "stream",
          "text": [
            "[Parallel(n_jobs=1)]: Done  34 out of  34 | elapsed:    0.8s finished\n",
            "/tmp/ipython-input-9-407938800.py:34: DeprecationWarning: `trapz` is deprecated. Use `trapezoid` instead, or one of the numerical integration functions in `scipy.integrate`.\n",
            "  delta_power = np.trapz(psd[(f >= 0.5) & (f <= 4)], f[(f >= 0.5) & (f <= 4)])\n",
            "/tmp/ipython-input-9-407938800.py:35: DeprecationWarning: `trapz` is deprecated. Use `trapezoid` instead, or one of the numerical integration functions in `scipy.integrate`.\n",
            "  theta_power = np.trapz(psd[(f >= 4) & (f <= 8)], f[(f >= 4) & (f <= 8)])\n",
            "/tmp/ipython-input-9-407938800.py:36: DeprecationWarning: `trapz` is deprecated. Use `trapezoid` instead, or one of the numerical integration functions in `scipy.integrate`.\n",
            "  alpha_power = np.trapz(psd[(f >= 8) & (f <= 13)], f[(f >= 8) & (f <= 13)])\n",
            "/tmp/ipython-input-9-407938800.py:37: DeprecationWarning: `trapz` is deprecated. Use `trapezoid` instead, or one of the numerical integration functions in `scipy.integrate`.\n",
            "  beta_power = np.trapz(psd[(f >= 13) & (f <= 30)], f[(f >= 13) & (f <= 30)])\n"
          ]
        },
        {
          "name": "stdout",
          "output_type": "stream",
          "text": [
            "+++++++++++++++ 33/62 файл обработан +++++++++++++++\n",
            "Extracting EDF parameters from /content/drive/MyDrive/data/155121/001/neurovisor_2025-04-19_16-49-10.edf...\n",
            "EDF file detected\n",
            "Setting channel info structure...\n",
            "Creating raw.info structure...\n",
            "Reading 0 ... 3907999  =      0.000 ...  3907.999 secs...\n"
          ]
        },
        {
          "name": "stderr",
          "output_type": "stream",
          "text": [
            "/tmp/ipython-input-9-407938800.py:8: RuntimeWarning: Channels contain different highpass filters. Highest filter setting will be stored.\n",
            "  raw = mne.io.read_raw_edf(path, preload=True)\n",
            "/tmp/ipython-input-9-407938800.py:8: RuntimeWarning: Channels contain different lowpass filters. Lowest filter setting will be stored.\n",
            "  raw = mne.io.read_raw_edf(path, preload=True)\n"
          ]
        },
        {
          "name": "stdout",
          "output_type": "stream",
          "text": [
            "Filtering raw data in 1 contiguous segment\n",
            "Setting up band-pass filter from 0.5 - 40 Hz\n",
            "\n",
            "FIR filter parameters\n",
            "---------------------\n",
            "Designing a one-pass, zero-phase, non-causal bandpass filter:\n",
            "- Windowed time-domain design (firwin) method\n",
            "- Hamming window with 0.0194 passband ripple and 53 dB stopband attenuation\n",
            "- Lower passband edge: 0.50\n",
            "- Lower transition bandwidth: 0.50 Hz (-6 dB cutoff frequency: 0.25 Hz)\n",
            "- Upper passband edge: 40.00 Hz\n",
            "- Upper transition bandwidth: 10.00 Hz (-6 dB cutoff frequency: 45.00 Hz)\n",
            "- Filter length: 6601 samples (6.601 s)\n",
            "\n"
          ]
        },
        {
          "name": "stderr",
          "output_type": "stream",
          "text": [
            "[Parallel(n_jobs=1)]: Done  17 tasks      | elapsed:    0.4s\n"
          ]
        },
        {
          "name": "stdout",
          "output_type": "stream",
          "text": [
            "Not setting metadata\n",
            "120 matching events found\n",
            "No baseline correction applied\n",
            "0 projection items activated\n",
            "Using data from preloaded Raw for 120 events and 5000 original time points ...\n",
            "0 bad epochs dropped\n"
          ]
        },
        {
          "name": "stderr",
          "output_type": "stream",
          "text": [
            "[Parallel(n_jobs=1)]: Done  34 out of  34 | elapsed:    0.8s finished\n",
            "/tmp/ipython-input-9-407938800.py:34: DeprecationWarning: `trapz` is deprecated. Use `trapezoid` instead, or one of the numerical integration functions in `scipy.integrate`.\n",
            "  delta_power = np.trapz(psd[(f >= 0.5) & (f <= 4)], f[(f >= 0.5) & (f <= 4)])\n",
            "/tmp/ipython-input-9-407938800.py:35: DeprecationWarning: `trapz` is deprecated. Use `trapezoid` instead, or one of the numerical integration functions in `scipy.integrate`.\n",
            "  theta_power = np.trapz(psd[(f >= 4) & (f <= 8)], f[(f >= 4) & (f <= 8)])\n",
            "/tmp/ipython-input-9-407938800.py:36: DeprecationWarning: `trapz` is deprecated. Use `trapezoid` instead, or one of the numerical integration functions in `scipy.integrate`.\n",
            "  alpha_power = np.trapz(psd[(f >= 8) & (f <= 13)], f[(f >= 8) & (f <= 13)])\n",
            "/tmp/ipython-input-9-407938800.py:37: DeprecationWarning: `trapz` is deprecated. Use `trapezoid` instead, or one of the numerical integration functions in `scipy.integrate`.\n",
            "  beta_power = np.trapz(psd[(f >= 13) & (f <= 30)], f[(f >= 13) & (f <= 30)])\n"
          ]
        },
        {
          "name": "stdout",
          "output_type": "stream",
          "text": [
            "+++++++++++++++ 34/62 файл обработан +++++++++++++++\n",
            "Extracting EDF parameters from /content/drive/MyDrive/data/679594/001/neurovisor_2025-04-07_14-14-33.edf...\n",
            "EDF file detected\n",
            "Setting channel info structure...\n",
            "Creating raw.info structure...\n",
            "Reading 0 ... 3855999  =      0.000 ...  3855.999 secs...\n"
          ]
        },
        {
          "name": "stderr",
          "output_type": "stream",
          "text": [
            "/tmp/ipython-input-9-407938800.py:8: RuntimeWarning: Channels contain different highpass filters. Highest filter setting will be stored.\n",
            "  raw = mne.io.read_raw_edf(path, preload=True)\n",
            "/tmp/ipython-input-9-407938800.py:8: RuntimeWarning: Channels contain different lowpass filters. Lowest filter setting will be stored.\n",
            "  raw = mne.io.read_raw_edf(path, preload=True)\n"
          ]
        },
        {
          "name": "stdout",
          "output_type": "stream",
          "text": [
            "Filtering raw data in 1 contiguous segment\n",
            "Setting up band-pass filter from 0.5 - 40 Hz\n",
            "\n",
            "FIR filter parameters\n",
            "---------------------\n",
            "Designing a one-pass, zero-phase, non-causal bandpass filter:\n",
            "- Windowed time-domain design (firwin) method\n",
            "- Hamming window with 0.0194 passband ripple and 53 dB stopband attenuation\n",
            "- Lower passband edge: 0.50\n",
            "- Lower transition bandwidth: 0.50 Hz (-6 dB cutoff frequency: 0.25 Hz)\n",
            "- Upper passband edge: 40.00 Hz\n",
            "- Upper transition bandwidth: 10.00 Hz (-6 dB cutoff frequency: 45.00 Hz)\n",
            "- Filter length: 6601 samples (6.601 s)\n",
            "\n"
          ]
        },
        {
          "name": "stderr",
          "output_type": "stream",
          "text": [
            "[Parallel(n_jobs=1)]: Done  17 tasks      | elapsed:    0.4s\n"
          ]
        },
        {
          "name": "stdout",
          "output_type": "stream",
          "text": [
            "Not setting metadata\n",
            "120 matching events found\n",
            "No baseline correction applied\n",
            "0 projection items activated\n",
            "Using data from preloaded Raw for 120 events and 5000 original time points ...\n",
            "0 bad epochs dropped\n"
          ]
        },
        {
          "name": "stderr",
          "output_type": "stream",
          "text": [
            "[Parallel(n_jobs=1)]: Done  34 out of  34 | elapsed:    0.8s finished\n",
            "/tmp/ipython-input-9-407938800.py:34: DeprecationWarning: `trapz` is deprecated. Use `trapezoid` instead, or one of the numerical integration functions in `scipy.integrate`.\n",
            "  delta_power = np.trapz(psd[(f >= 0.5) & (f <= 4)], f[(f >= 0.5) & (f <= 4)])\n",
            "/tmp/ipython-input-9-407938800.py:35: DeprecationWarning: `trapz` is deprecated. Use `trapezoid` instead, or one of the numerical integration functions in `scipy.integrate`.\n",
            "  theta_power = np.trapz(psd[(f >= 4) & (f <= 8)], f[(f >= 4) & (f <= 8)])\n",
            "/tmp/ipython-input-9-407938800.py:36: DeprecationWarning: `trapz` is deprecated. Use `trapezoid` instead, or one of the numerical integration functions in `scipy.integrate`.\n",
            "  alpha_power = np.trapz(psd[(f >= 8) & (f <= 13)], f[(f >= 8) & (f <= 13)])\n",
            "/tmp/ipython-input-9-407938800.py:37: DeprecationWarning: `trapz` is deprecated. Use `trapezoid` instead, or one of the numerical integration functions in `scipy.integrate`.\n",
            "  beta_power = np.trapz(psd[(f >= 13) & (f <= 30)], f[(f >= 13) & (f <= 30)])\n"
          ]
        },
        {
          "name": "stdout",
          "output_type": "stream",
          "text": [
            "+++++++++++++++ 35/62 файл обработан +++++++++++++++\n",
            "Extracting EDF parameters from /content/drive/MyDrive/data/135304/001/neurovisor_2025-04-24_16-59-30.edf...\n",
            "EDF file detected\n",
            "Setting channel info structure...\n",
            "Creating raw.info structure...\n",
            "Reading 0 ... 3921999  =      0.000 ...  3921.999 secs...\n"
          ]
        },
        {
          "name": "stderr",
          "output_type": "stream",
          "text": [
            "/tmp/ipython-input-9-407938800.py:8: RuntimeWarning: Channels contain different highpass filters. Highest filter setting will be stored.\n",
            "  raw = mne.io.read_raw_edf(path, preload=True)\n",
            "/tmp/ipython-input-9-407938800.py:8: RuntimeWarning: Channels contain different lowpass filters. Lowest filter setting will be stored.\n",
            "  raw = mne.io.read_raw_edf(path, preload=True)\n"
          ]
        },
        {
          "name": "stdout",
          "output_type": "stream",
          "text": [
            "Filtering raw data in 1 contiguous segment\n",
            "Setting up band-pass filter from 0.5 - 40 Hz\n",
            "\n",
            "FIR filter parameters\n",
            "---------------------\n",
            "Designing a one-pass, zero-phase, non-causal bandpass filter:\n",
            "- Windowed time-domain design (firwin) method\n",
            "- Hamming window with 0.0194 passband ripple and 53 dB stopband attenuation\n",
            "- Lower passband edge: 0.50\n",
            "- Lower transition bandwidth: 0.50 Hz (-6 dB cutoff frequency: 0.25 Hz)\n",
            "- Upper passband edge: 40.00 Hz\n",
            "- Upper transition bandwidth: 10.00 Hz (-6 dB cutoff frequency: 45.00 Hz)\n",
            "- Filter length: 6601 samples (6.601 s)\n",
            "\n"
          ]
        },
        {
          "name": "stderr",
          "output_type": "stream",
          "text": [
            "[Parallel(n_jobs=1)]: Done  17 tasks      | elapsed:    2.7s\n",
            "[Parallel(n_jobs=1)]: Done  34 out of  34 | elapsed:    5.5s finished\n"
          ]
        },
        {
          "name": "stdout",
          "output_type": "stream",
          "text": [
            "Not setting metadata\n",
            "784 matching events found\n",
            "No baseline correction applied\n",
            "0 projection items activated\n",
            "Using data from preloaded Raw for 784 events and 5000 original time points ...\n",
            "0 bad epochs dropped\n"
          ]
        },
        {
          "name": "stderr",
          "output_type": "stream",
          "text": [
            "/tmp/ipython-input-9-407938800.py:34: DeprecationWarning: `trapz` is deprecated. Use `trapezoid` instead, or one of the numerical integration functions in `scipy.integrate`.\n",
            "  delta_power = np.trapz(psd[(f >= 0.5) & (f <= 4)], f[(f >= 0.5) & (f <= 4)])\n",
            "/tmp/ipython-input-9-407938800.py:35: DeprecationWarning: `trapz` is deprecated. Use `trapezoid` instead, or one of the numerical integration functions in `scipy.integrate`.\n",
            "  theta_power = np.trapz(psd[(f >= 4) & (f <= 8)], f[(f >= 4) & (f <= 8)])\n",
            "/tmp/ipython-input-9-407938800.py:36: DeprecationWarning: `trapz` is deprecated. Use `trapezoid` instead, or one of the numerical integration functions in `scipy.integrate`.\n",
            "  alpha_power = np.trapz(psd[(f >= 8) & (f <= 13)], f[(f >= 8) & (f <= 13)])\n",
            "/tmp/ipython-input-9-407938800.py:37: DeprecationWarning: `trapz` is deprecated. Use `trapezoid` instead, or one of the numerical integration functions in `scipy.integrate`.\n",
            "  beta_power = np.trapz(psd[(f >= 13) & (f <= 30)], f[(f >= 13) & (f <= 30)])\n"
          ]
        },
        {
          "name": "stdout",
          "output_type": "stream",
          "text": [
            "+++++++++++++++ 36/62 файл обработан +++++++++++++++\n",
            "Extracting EDF parameters from /content/drive/MyDrive/data/447885/001/neurovisor_2025-04-25_13-47-10.edf...\n",
            "EDF file detected\n",
            "Setting channel info structure...\n",
            "Creating raw.info structure...\n",
            "Reading 0 ... 3909999  =      0.000 ...  3909.999 secs...\n"
          ]
        },
        {
          "name": "stderr",
          "output_type": "stream",
          "text": [
            "/tmp/ipython-input-9-407938800.py:8: RuntimeWarning: Channels contain different highpass filters. Highest filter setting will be stored.\n",
            "  raw = mne.io.read_raw_edf(path, preload=True)\n",
            "/tmp/ipython-input-9-407938800.py:8: RuntimeWarning: Channels contain different lowpass filters. Lowest filter setting will be stored.\n",
            "  raw = mne.io.read_raw_edf(path, preload=True)\n"
          ]
        },
        {
          "name": "stdout",
          "output_type": "stream",
          "text": [
            "Filtering raw data in 1 contiguous segment\n",
            "Setting up band-pass filter from 0.5 - 40 Hz\n",
            "\n",
            "FIR filter parameters\n",
            "---------------------\n",
            "Designing a one-pass, zero-phase, non-causal bandpass filter:\n",
            "- Windowed time-domain design (firwin) method\n",
            "- Hamming window with 0.0194 passband ripple and 53 dB stopband attenuation\n",
            "- Lower passband edge: 0.50\n",
            "- Lower transition bandwidth: 0.50 Hz (-6 dB cutoff frequency: 0.25 Hz)\n",
            "- Upper passband edge: 40.00 Hz\n",
            "- Upper transition bandwidth: 10.00 Hz (-6 dB cutoff frequency: 45.00 Hz)\n",
            "- Filter length: 6601 samples (6.601 s)\n",
            "\n"
          ]
        },
        {
          "name": "stderr",
          "output_type": "stream",
          "text": [
            "[Parallel(n_jobs=1)]: Done  17 tasks      | elapsed:    0.4s\n"
          ]
        },
        {
          "name": "stdout",
          "output_type": "stream",
          "text": [
            "Not setting metadata\n",
            "120 matching events found\n",
            "No baseline correction applied\n",
            "0 projection items activated\n",
            "Using data from preloaded Raw for 120 events and 5000 original time points ...\n",
            "0 bad epochs dropped\n"
          ]
        },
        {
          "name": "stderr",
          "output_type": "stream",
          "text": [
            "[Parallel(n_jobs=1)]: Done  34 out of  34 | elapsed:    0.9s finished\n",
            "/tmp/ipython-input-9-407938800.py:34: DeprecationWarning: `trapz` is deprecated. Use `trapezoid` instead, or one of the numerical integration functions in `scipy.integrate`.\n",
            "  delta_power = np.trapz(psd[(f >= 0.5) & (f <= 4)], f[(f >= 0.5) & (f <= 4)])\n",
            "/tmp/ipython-input-9-407938800.py:35: DeprecationWarning: `trapz` is deprecated. Use `trapezoid` instead, or one of the numerical integration functions in `scipy.integrate`.\n",
            "  theta_power = np.trapz(psd[(f >= 4) & (f <= 8)], f[(f >= 4) & (f <= 8)])\n",
            "/tmp/ipython-input-9-407938800.py:36: DeprecationWarning: `trapz` is deprecated. Use `trapezoid` instead, or one of the numerical integration functions in `scipy.integrate`.\n",
            "  alpha_power = np.trapz(psd[(f >= 8) & (f <= 13)], f[(f >= 8) & (f <= 13)])\n",
            "/tmp/ipython-input-9-407938800.py:37: DeprecationWarning: `trapz` is deprecated. Use `trapezoid` instead, or one of the numerical integration functions in `scipy.integrate`.\n",
            "  beta_power = np.trapz(psd[(f >= 13) & (f <= 30)], f[(f >= 13) & (f <= 30)])\n"
          ]
        },
        {
          "name": "stdout",
          "output_type": "stream",
          "text": [
            "+++++++++++++++ 37/62 файл обработан +++++++++++++++\n",
            "Extracting EDF parameters from /content/drive/MyDrive/data/355835/002/neurovisor_2025-04-22_17-07-13.edf...\n",
            "EDF file detected\n",
            "Setting channel info structure...\n",
            "Creating raw.info structure...\n",
            "Reading 0 ... 2421999  =      0.000 ...  2421.999 secs...\n"
          ]
        },
        {
          "name": "stderr",
          "output_type": "stream",
          "text": [
            "/tmp/ipython-input-9-407938800.py:8: RuntimeWarning: Channels contain different highpass filters. Highest filter setting will be stored.\n",
            "  raw = mne.io.read_raw_edf(path, preload=True)\n",
            "/tmp/ipython-input-9-407938800.py:8: RuntimeWarning: Channels contain different lowpass filters. Lowest filter setting will be stored.\n",
            "  raw = mne.io.read_raw_edf(path, preload=True)\n"
          ]
        },
        {
          "name": "stdout",
          "output_type": "stream",
          "text": [
            "Filtering raw data in 1 contiguous segment\n",
            "Setting up band-pass filter from 0.5 - 40 Hz\n",
            "\n",
            "FIR filter parameters\n",
            "---------------------\n",
            "Designing a one-pass, zero-phase, non-causal bandpass filter:\n",
            "- Windowed time-domain design (firwin) method\n",
            "- Hamming window with 0.0194 passband ripple and 53 dB stopband attenuation\n",
            "- Lower passband edge: 0.50\n",
            "- Lower transition bandwidth: 0.50 Hz (-6 dB cutoff frequency: 0.25 Hz)\n",
            "- Upper passband edge: 40.00 Hz\n",
            "- Upper transition bandwidth: 10.00 Hz (-6 dB cutoff frequency: 45.00 Hz)\n",
            "- Filter length: 6601 samples (6.601 s)\n",
            "\n"
          ]
        },
        {
          "name": "stderr",
          "output_type": "stream",
          "text": [
            "[Parallel(n_jobs=1)]: Done  17 tasks      | elapsed:    2.1s\n"
          ]
        },
        {
          "name": "stdout",
          "output_type": "stream",
          "text": [
            "Not setting metadata\n",
            "484 matching events found\n",
            "No baseline correction applied\n",
            "0 projection items activated\n",
            "Using data from preloaded Raw for 484 events and 5000 original time points ...\n"
          ]
        },
        {
          "name": "stderr",
          "output_type": "stream",
          "text": [
            "[Parallel(n_jobs=1)]: Done  34 out of  34 | elapsed:    3.8s finished\n"
          ]
        },
        {
          "name": "stdout",
          "output_type": "stream",
          "text": [
            "0 bad epochs dropped\n"
          ]
        },
        {
          "name": "stderr",
          "output_type": "stream",
          "text": [
            "/tmp/ipython-input-9-407938800.py:34: DeprecationWarning: `trapz` is deprecated. Use `trapezoid` instead, or one of the numerical integration functions in `scipy.integrate`.\n",
            "  delta_power = np.trapz(psd[(f >= 0.5) & (f <= 4)], f[(f >= 0.5) & (f <= 4)])\n",
            "/tmp/ipython-input-9-407938800.py:35: DeprecationWarning: `trapz` is deprecated. Use `trapezoid` instead, or one of the numerical integration functions in `scipy.integrate`.\n",
            "  theta_power = np.trapz(psd[(f >= 4) & (f <= 8)], f[(f >= 4) & (f <= 8)])\n",
            "/tmp/ipython-input-9-407938800.py:36: DeprecationWarning: `trapz` is deprecated. Use `trapezoid` instead, or one of the numerical integration functions in `scipy.integrate`.\n",
            "  alpha_power = np.trapz(psd[(f >= 8) & (f <= 13)], f[(f >= 8) & (f <= 13)])\n",
            "/tmp/ipython-input-9-407938800.py:37: DeprecationWarning: `trapz` is deprecated. Use `trapezoid` instead, or one of the numerical integration functions in `scipy.integrate`.\n",
            "  beta_power = np.trapz(psd[(f >= 13) & (f <= 30)], f[(f >= 13) & (f <= 30)])\n"
          ]
        },
        {
          "name": "stdout",
          "output_type": "stream",
          "text": [
            "+++++++++++++++ 38/62 файл обработан +++++++++++++++\n",
            "Extracting EDF parameters from /content/drive/MyDrive/data/355835/001/neurovisor_2025-04-22_16-50-57.edf...\n",
            "EDF file detected\n",
            "Setting channel info structure...\n",
            "Creating raw.info structure...\n",
            "Reading 0 ... 799999  =      0.000 ...   799.999 secs...\n"
          ]
        },
        {
          "name": "stderr",
          "output_type": "stream",
          "text": [
            "/tmp/ipython-input-9-407938800.py:8: RuntimeWarning: Channels contain different highpass filters. Highest filter setting will be stored.\n",
            "  raw = mne.io.read_raw_edf(path, preload=True)\n",
            "/tmp/ipython-input-9-407938800.py:8: RuntimeWarning: Channels contain different lowpass filters. Lowest filter setting will be stored.\n",
            "  raw = mne.io.read_raw_edf(path, preload=True)\n"
          ]
        },
        {
          "name": "stdout",
          "output_type": "stream",
          "text": [
            "Filtering raw data in 1 contiguous segment\n",
            "Setting up band-pass filter from 0.5 - 40 Hz\n",
            "\n",
            "FIR filter parameters\n",
            "---------------------\n",
            "Designing a one-pass, zero-phase, non-causal bandpass filter:\n",
            "- Windowed time-domain design (firwin) method\n",
            "- Hamming window with 0.0194 passband ripple and 53 dB stopband attenuation\n",
            "- Lower passband edge: 0.50\n",
            "- Lower transition bandwidth: 0.50 Hz (-6 dB cutoff frequency: 0.25 Hz)\n",
            "- Upper passband edge: 40.00 Hz\n",
            "- Upper transition bandwidth: 10.00 Hz (-6 dB cutoff frequency: 45.00 Hz)\n",
            "- Filter length: 6601 samples (6.601 s)\n",
            "\n"
          ]
        },
        {
          "name": "stderr",
          "output_type": "stream",
          "text": [
            "[Parallel(n_jobs=1)]: Done  17 tasks      | elapsed:    0.6s\n"
          ]
        },
        {
          "name": "stdout",
          "output_type": "stream",
          "text": [
            "Not setting metadata\n",
            "160 matching events found\n",
            "No baseline correction applied\n",
            "0 projection items activated\n",
            "Using data from preloaded Raw for 160 events and 5000 original time points ...\n"
          ]
        },
        {
          "name": "stderr",
          "output_type": "stream",
          "text": [
            "[Parallel(n_jobs=1)]: Done  34 out of  34 | elapsed:    1.2s finished\n"
          ]
        },
        {
          "name": "stdout",
          "output_type": "stream",
          "text": [
            "0 bad epochs dropped\n"
          ]
        },
        {
          "name": "stderr",
          "output_type": "stream",
          "text": [
            "/tmp/ipython-input-9-407938800.py:34: DeprecationWarning: `trapz` is deprecated. Use `trapezoid` instead, or one of the numerical integration functions in `scipy.integrate`.\n",
            "  delta_power = np.trapz(psd[(f >= 0.5) & (f <= 4)], f[(f >= 0.5) & (f <= 4)])\n",
            "/tmp/ipython-input-9-407938800.py:35: DeprecationWarning: `trapz` is deprecated. Use `trapezoid` instead, or one of the numerical integration functions in `scipy.integrate`.\n",
            "  theta_power = np.trapz(psd[(f >= 4) & (f <= 8)], f[(f >= 4) & (f <= 8)])\n",
            "/tmp/ipython-input-9-407938800.py:36: DeprecationWarning: `trapz` is deprecated. Use `trapezoid` instead, or one of the numerical integration functions in `scipy.integrate`.\n",
            "  alpha_power = np.trapz(psd[(f >= 8) & (f <= 13)], f[(f >= 8) & (f <= 13)])\n",
            "/tmp/ipython-input-9-407938800.py:37: DeprecationWarning: `trapz` is deprecated. Use `trapezoid` instead, or one of the numerical integration functions in `scipy.integrate`.\n",
            "  beta_power = np.trapz(psd[(f >= 13) & (f <= 30)], f[(f >= 13) & (f <= 30)])\n"
          ]
        },
        {
          "name": "stdout",
          "output_type": "stream",
          "text": [
            "+++++++++++++++ 39/62 файл обработан +++++++++++++++\n",
            "Extracting EDF parameters from /content/drive/MyDrive/data/355835/003/neurovisor_2025-04-22_17-49-20.edf...\n",
            "EDF file detected\n",
            "Setting channel info structure...\n",
            "Creating raw.info structure...\n",
            "Reading 0 ... 739999  =      0.000 ...   739.999 secs...\n"
          ]
        },
        {
          "name": "stderr",
          "output_type": "stream",
          "text": [
            "/tmp/ipython-input-9-407938800.py:8: RuntimeWarning: Channels contain different highpass filters. Highest filter setting will be stored.\n",
            "  raw = mne.io.read_raw_edf(path, preload=True)\n",
            "/tmp/ipython-input-9-407938800.py:8: RuntimeWarning: Channels contain different lowpass filters. Lowest filter setting will be stored.\n",
            "  raw = mne.io.read_raw_edf(path, preload=True)\n"
          ]
        },
        {
          "name": "stdout",
          "output_type": "stream",
          "text": [
            "Filtering raw data in 1 contiguous segment\n",
            "Setting up band-pass filter from 0.5 - 40 Hz\n",
            "\n",
            "FIR filter parameters\n",
            "---------------------\n",
            "Designing a one-pass, zero-phase, non-causal bandpass filter:\n",
            "- Windowed time-domain design (firwin) method\n",
            "- Hamming window with 0.0194 passband ripple and 53 dB stopband attenuation\n",
            "- Lower passband edge: 0.50\n",
            "- Lower transition bandwidth: 0.50 Hz (-6 dB cutoff frequency: 0.25 Hz)\n",
            "- Upper passband edge: 40.00 Hz\n",
            "- Upper transition bandwidth: 10.00 Hz (-6 dB cutoff frequency: 45.00 Hz)\n",
            "- Filter length: 6601 samples (6.601 s)\n",
            "\n"
          ]
        },
        {
          "name": "stderr",
          "output_type": "stream",
          "text": [
            "[Parallel(n_jobs=1)]: Done  17 tasks      | elapsed:    0.5s\n"
          ]
        },
        {
          "name": "stdout",
          "output_type": "stream",
          "text": [
            "Not setting metadata\n",
            "148 matching events found\n",
            "No baseline correction applied\n",
            "0 projection items activated\n",
            "Using data from preloaded Raw for 148 events and 5000 original time points ...\n",
            "0 bad epochs dropped\n"
          ]
        },
        {
          "name": "stderr",
          "output_type": "stream",
          "text": [
            "[Parallel(n_jobs=1)]: Done  34 out of  34 | elapsed:    1.1s finished\n",
            "/tmp/ipython-input-9-407938800.py:34: DeprecationWarning: `trapz` is deprecated. Use `trapezoid` instead, or one of the numerical integration functions in `scipy.integrate`.\n",
            "  delta_power = np.trapz(psd[(f >= 0.5) & (f <= 4)], f[(f >= 0.5) & (f <= 4)])\n",
            "/tmp/ipython-input-9-407938800.py:35: DeprecationWarning: `trapz` is deprecated. Use `trapezoid` instead, or one of the numerical integration functions in `scipy.integrate`.\n",
            "  theta_power = np.trapz(psd[(f >= 4) & (f <= 8)], f[(f >= 4) & (f <= 8)])\n",
            "/tmp/ipython-input-9-407938800.py:36: DeprecationWarning: `trapz` is deprecated. Use `trapezoid` instead, or one of the numerical integration functions in `scipy.integrate`.\n",
            "  alpha_power = np.trapz(psd[(f >= 8) & (f <= 13)], f[(f >= 8) & (f <= 13)])\n",
            "/tmp/ipython-input-9-407938800.py:37: DeprecationWarning: `trapz` is deprecated. Use `trapezoid` instead, or one of the numerical integration functions in `scipy.integrate`.\n",
            "  beta_power = np.trapz(psd[(f >= 13) & (f <= 30)], f[(f >= 13) & (f <= 30)])\n"
          ]
        },
        {
          "name": "stdout",
          "output_type": "stream",
          "text": [
            "+++++++++++++++ 40/62 файл обработан +++++++++++++++\n",
            "Extracting EDF parameters from /content/drive/MyDrive/data/587707/001/neurovisor_2025-04-21_13-37-40.edf...\n",
            "EDF file detected\n",
            "Setting channel info structure...\n",
            "Creating raw.info structure...\n",
            "Reading 0 ... 3977999  =      0.000 ...  3977.999 secs...\n"
          ]
        },
        {
          "name": "stderr",
          "output_type": "stream",
          "text": [
            "/tmp/ipython-input-9-407938800.py:8: RuntimeWarning: Channels contain different highpass filters. Highest filter setting will be stored.\n",
            "  raw = mne.io.read_raw_edf(path, preload=True)\n",
            "/tmp/ipython-input-9-407938800.py:8: RuntimeWarning: Channels contain different lowpass filters. Lowest filter setting will be stored.\n",
            "  raw = mne.io.read_raw_edf(path, preload=True)\n"
          ]
        },
        {
          "name": "stdout",
          "output_type": "stream",
          "text": [
            "Filtering raw data in 1 contiguous segment\n",
            "Setting up band-pass filter from 0.5 - 40 Hz\n",
            "\n",
            "FIR filter parameters\n",
            "---------------------\n",
            "Designing a one-pass, zero-phase, non-causal bandpass filter:\n",
            "- Windowed time-domain design (firwin) method\n",
            "- Hamming window with 0.0194 passband ripple and 53 dB stopband attenuation\n",
            "- Lower passband edge: 0.50\n",
            "- Lower transition bandwidth: 0.50 Hz (-6 dB cutoff frequency: 0.25 Hz)\n",
            "- Upper passband edge: 40.00 Hz\n",
            "- Upper transition bandwidth: 10.00 Hz (-6 dB cutoff frequency: 45.00 Hz)\n",
            "- Filter length: 6601 samples (6.601 s)\n",
            "\n"
          ]
        },
        {
          "name": "stderr",
          "output_type": "stream",
          "text": [
            "[Parallel(n_jobs=1)]: Done  17 tasks      | elapsed:    0.4s\n"
          ]
        },
        {
          "name": "stdout",
          "output_type": "stream",
          "text": [
            "Not setting metadata\n",
            "120 matching events found\n",
            "No baseline correction applied\n",
            "0 projection items activated\n",
            "Using data from preloaded Raw for 120 events and 5000 original time points ...\n",
            "0 bad epochs dropped\n"
          ]
        },
        {
          "name": "stderr",
          "output_type": "stream",
          "text": [
            "[Parallel(n_jobs=1)]: Done  34 out of  34 | elapsed:    0.9s finished\n",
            "/tmp/ipython-input-9-407938800.py:34: DeprecationWarning: `trapz` is deprecated. Use `trapezoid` instead, or one of the numerical integration functions in `scipy.integrate`.\n",
            "  delta_power = np.trapz(psd[(f >= 0.5) & (f <= 4)], f[(f >= 0.5) & (f <= 4)])\n",
            "/tmp/ipython-input-9-407938800.py:35: DeprecationWarning: `trapz` is deprecated. Use `trapezoid` instead, or one of the numerical integration functions in `scipy.integrate`.\n",
            "  theta_power = np.trapz(psd[(f >= 4) & (f <= 8)], f[(f >= 4) & (f <= 8)])\n",
            "/tmp/ipython-input-9-407938800.py:36: DeprecationWarning: `trapz` is deprecated. Use `trapezoid` instead, or one of the numerical integration functions in `scipy.integrate`.\n",
            "  alpha_power = np.trapz(psd[(f >= 8) & (f <= 13)], f[(f >= 8) & (f <= 13)])\n",
            "/tmp/ipython-input-9-407938800.py:37: DeprecationWarning: `trapz` is deprecated. Use `trapezoid` instead, or one of the numerical integration functions in `scipy.integrate`.\n",
            "  beta_power = np.trapz(psd[(f >= 13) & (f <= 30)], f[(f >= 13) & (f <= 30)])\n"
          ]
        },
        {
          "name": "stdout",
          "output_type": "stream",
          "text": [
            "+++++++++++++++ 41/62 файл обработан +++++++++++++++\n",
            "Extracting EDF parameters from /content/drive/MyDrive/data/105832/neurovisor_2025-03-22_16-05-32.edf...\n",
            "EDF file detected\n",
            "Setting channel info structure...\n",
            "Creating raw.info structure...\n",
            "Reading 0 ... 3877999  =      0.000 ...  3877.999 secs...\n"
          ]
        },
        {
          "name": "stderr",
          "output_type": "stream",
          "text": [
            "/tmp/ipython-input-9-407938800.py:8: RuntimeWarning: Channels contain different highpass filters. Highest filter setting will be stored.\n",
            "  raw = mne.io.read_raw_edf(path, preload=True)\n",
            "/tmp/ipython-input-9-407938800.py:8: RuntimeWarning: Channels contain different lowpass filters. Lowest filter setting will be stored.\n",
            "  raw = mne.io.read_raw_edf(path, preload=True)\n"
          ]
        },
        {
          "name": "stdout",
          "output_type": "stream",
          "text": [
            "Filtering raw data in 1 contiguous segment\n",
            "Setting up band-pass filter from 0.5 - 40 Hz\n",
            "\n",
            "FIR filter parameters\n",
            "---------------------\n",
            "Designing a one-pass, zero-phase, non-causal bandpass filter:\n",
            "- Windowed time-domain design (firwin) method\n",
            "- Hamming window with 0.0194 passband ripple and 53 dB stopband attenuation\n",
            "- Lower passband edge: 0.50\n",
            "- Lower transition bandwidth: 0.50 Hz (-6 dB cutoff frequency: 0.25 Hz)\n",
            "- Upper passband edge: 40.00 Hz\n",
            "- Upper transition bandwidth: 10.00 Hz (-6 dB cutoff frequency: 45.00 Hz)\n",
            "- Filter length: 6601 samples (6.601 s)\n",
            "\n"
          ]
        },
        {
          "name": "stderr",
          "output_type": "stream",
          "text": [
            "[Parallel(n_jobs=1)]: Done  17 tasks      | elapsed:    0.4s\n"
          ]
        },
        {
          "name": "stdout",
          "output_type": "stream",
          "text": [
            "Not setting metadata\n",
            "120 matching events found\n",
            "No baseline correction applied\n",
            "0 projection items activated\n",
            "Using data from preloaded Raw for 120 events and 5000 original time points ...\n",
            "0 bad epochs dropped\n"
          ]
        },
        {
          "name": "stderr",
          "output_type": "stream",
          "text": [
            "[Parallel(n_jobs=1)]: Done  34 out of  34 | elapsed:    0.9s finished\n",
            "/tmp/ipython-input-9-407938800.py:34: DeprecationWarning: `trapz` is deprecated. Use `trapezoid` instead, or one of the numerical integration functions in `scipy.integrate`.\n",
            "  delta_power = np.trapz(psd[(f >= 0.5) & (f <= 4)], f[(f >= 0.5) & (f <= 4)])\n",
            "/tmp/ipython-input-9-407938800.py:35: DeprecationWarning: `trapz` is deprecated. Use `trapezoid` instead, or one of the numerical integration functions in `scipy.integrate`.\n",
            "  theta_power = np.trapz(psd[(f >= 4) & (f <= 8)], f[(f >= 4) & (f <= 8)])\n",
            "/tmp/ipython-input-9-407938800.py:36: DeprecationWarning: `trapz` is deprecated. Use `trapezoid` instead, or one of the numerical integration functions in `scipy.integrate`.\n",
            "  alpha_power = np.trapz(psd[(f >= 8) & (f <= 13)], f[(f >= 8) & (f <= 13)])\n",
            "/tmp/ipython-input-9-407938800.py:37: DeprecationWarning: `trapz` is deprecated. Use `trapezoid` instead, or one of the numerical integration functions in `scipy.integrate`.\n",
            "  beta_power = np.trapz(psd[(f >= 13) & (f <= 30)], f[(f >= 13) & (f <= 30)])\n"
          ]
        },
        {
          "name": "stdout",
          "output_type": "stream",
          "text": [
            "+++++++++++++++ 42/62 файл обработан +++++++++++++++\n",
            "Extracting EDF parameters from /content/drive/MyDrive/data/265094/001/neurovisor_2025-04-05_10-51-45.edf...\n",
            "EDF file detected\n",
            "Setting channel info structure...\n",
            "Creating raw.info structure...\n",
            "Reading 0 ... 3827999  =      0.000 ...  3827.999 secs...\n"
          ]
        },
        {
          "name": "stderr",
          "output_type": "stream",
          "text": [
            "/tmp/ipython-input-9-407938800.py:8: RuntimeWarning: Channels contain different highpass filters. Highest filter setting will be stored.\n",
            "  raw = mne.io.read_raw_edf(path, preload=True)\n",
            "/tmp/ipython-input-9-407938800.py:8: RuntimeWarning: Channels contain different lowpass filters. Lowest filter setting will be stored.\n",
            "  raw = mne.io.read_raw_edf(path, preload=True)\n"
          ]
        },
        {
          "name": "stdout",
          "output_type": "stream",
          "text": [
            "Filtering raw data in 1 contiguous segment\n",
            "Setting up band-pass filter from 0.5 - 40 Hz\n",
            "\n",
            "FIR filter parameters\n",
            "---------------------\n",
            "Designing a one-pass, zero-phase, non-causal bandpass filter:\n",
            "- Windowed time-domain design (firwin) method\n",
            "- Hamming window with 0.0194 passband ripple and 53 dB stopband attenuation\n",
            "- Lower passband edge: 0.50\n",
            "- Lower transition bandwidth: 0.50 Hz (-6 dB cutoff frequency: 0.25 Hz)\n",
            "- Upper passband edge: 40.00 Hz\n",
            "- Upper transition bandwidth: 10.00 Hz (-6 dB cutoff frequency: 45.00 Hz)\n",
            "- Filter length: 6601 samples (6.601 s)\n",
            "\n"
          ]
        },
        {
          "name": "stderr",
          "output_type": "stream",
          "text": [
            "[Parallel(n_jobs=1)]: Done  17 tasks      | elapsed:    2.7s\n",
            "[Parallel(n_jobs=1)]: Done  34 out of  34 | elapsed:    6.3s finished\n"
          ]
        },
        {
          "name": "stdout",
          "output_type": "stream",
          "text": [
            "Not setting metadata\n",
            "765 matching events found\n",
            "No baseline correction applied\n",
            "0 projection items activated\n",
            "Using data from preloaded Raw for 765 events and 5000 original time points ...\n",
            "0 bad epochs dropped\n"
          ]
        },
        {
          "name": "stderr",
          "output_type": "stream",
          "text": [
            "/tmp/ipython-input-9-407938800.py:34: DeprecationWarning: `trapz` is deprecated. Use `trapezoid` instead, or one of the numerical integration functions in `scipy.integrate`.\n",
            "  delta_power = np.trapz(psd[(f >= 0.5) & (f <= 4)], f[(f >= 0.5) & (f <= 4)])\n",
            "/tmp/ipython-input-9-407938800.py:35: DeprecationWarning: `trapz` is deprecated. Use `trapezoid` instead, or one of the numerical integration functions in `scipy.integrate`.\n",
            "  theta_power = np.trapz(psd[(f >= 4) & (f <= 8)], f[(f >= 4) & (f <= 8)])\n",
            "/tmp/ipython-input-9-407938800.py:36: DeprecationWarning: `trapz` is deprecated. Use `trapezoid` instead, or one of the numerical integration functions in `scipy.integrate`.\n",
            "  alpha_power = np.trapz(psd[(f >= 8) & (f <= 13)], f[(f >= 8) & (f <= 13)])\n",
            "/tmp/ipython-input-9-407938800.py:37: DeprecationWarning: `trapz` is deprecated. Use `trapezoid` instead, or one of the numerical integration functions in `scipy.integrate`.\n",
            "  beta_power = np.trapz(psd[(f >= 13) & (f <= 30)], f[(f >= 13) & (f <= 30)])\n"
          ]
        },
        {
          "name": "stdout",
          "output_type": "stream",
          "text": [
            "+++++++++++++++ 43/62 файл обработан +++++++++++++++\n",
            "Extracting EDF parameters from /content/drive/MyDrive/data/093056/001/neurovisor_2025-04-02_14-45-14.edf...\n",
            "EDF file detected\n",
            "Setting channel info structure...\n",
            "Creating raw.info structure...\n",
            "Reading 0 ... 3956999  =      0.000 ...  3956.999 secs...\n"
          ]
        },
        {
          "name": "stderr",
          "output_type": "stream",
          "text": [
            "/tmp/ipython-input-9-407938800.py:8: RuntimeWarning: Channels contain different highpass filters. Highest filter setting will be stored.\n",
            "  raw = mne.io.read_raw_edf(path, preload=True)\n",
            "/tmp/ipython-input-9-407938800.py:8: RuntimeWarning: Channels contain different lowpass filters. Lowest filter setting will be stored.\n",
            "  raw = mne.io.read_raw_edf(path, preload=True)\n"
          ]
        },
        {
          "name": "stdout",
          "output_type": "stream",
          "text": [
            "Filtering raw data in 1 contiguous segment\n",
            "Setting up band-pass filter from 0.5 - 40 Hz\n",
            "\n",
            "FIR filter parameters\n",
            "---------------------\n",
            "Designing a one-pass, zero-phase, non-causal bandpass filter:\n",
            "- Windowed time-domain design (firwin) method\n",
            "- Hamming window with 0.0194 passband ripple and 53 dB stopband attenuation\n",
            "- Lower passband edge: 0.50\n",
            "- Lower transition bandwidth: 0.50 Hz (-6 dB cutoff frequency: 0.25 Hz)\n",
            "- Upper passband edge: 40.00 Hz\n",
            "- Upper transition bandwidth: 10.00 Hz (-6 dB cutoff frequency: 45.00 Hz)\n",
            "- Filter length: 6601 samples (6.601 s)\n",
            "\n"
          ]
        },
        {
          "name": "stderr",
          "output_type": "stream",
          "text": [
            "[Parallel(n_jobs=1)]: Done  17 tasks      | elapsed:    0.4s\n"
          ]
        },
        {
          "name": "stdout",
          "output_type": "stream",
          "text": [
            "Not setting metadata\n",
            "120 matching events found\n",
            "No baseline correction applied\n",
            "0 projection items activated\n",
            "Using data from preloaded Raw for 120 events and 5000 original time points ...\n",
            "0 bad epochs dropped\n"
          ]
        },
        {
          "name": "stderr",
          "output_type": "stream",
          "text": [
            "[Parallel(n_jobs=1)]: Done  34 out of  34 | elapsed:    0.8s finished\n",
            "/tmp/ipython-input-9-407938800.py:34: DeprecationWarning: `trapz` is deprecated. Use `trapezoid` instead, or one of the numerical integration functions in `scipy.integrate`.\n",
            "  delta_power = np.trapz(psd[(f >= 0.5) & (f <= 4)], f[(f >= 0.5) & (f <= 4)])\n",
            "/tmp/ipython-input-9-407938800.py:35: DeprecationWarning: `trapz` is deprecated. Use `trapezoid` instead, or one of the numerical integration functions in `scipy.integrate`.\n",
            "  theta_power = np.trapz(psd[(f >= 4) & (f <= 8)], f[(f >= 4) & (f <= 8)])\n",
            "/tmp/ipython-input-9-407938800.py:36: DeprecationWarning: `trapz` is deprecated. Use `trapezoid` instead, or one of the numerical integration functions in `scipy.integrate`.\n",
            "  alpha_power = np.trapz(psd[(f >= 8) & (f <= 13)], f[(f >= 8) & (f <= 13)])\n",
            "/tmp/ipython-input-9-407938800.py:37: DeprecationWarning: `trapz` is deprecated. Use `trapezoid` instead, or one of the numerical integration functions in `scipy.integrate`.\n",
            "  beta_power = np.trapz(psd[(f >= 13) & (f <= 30)], f[(f >= 13) & (f <= 30)])\n"
          ]
        },
        {
          "name": "stdout",
          "output_type": "stream",
          "text": [
            "+++++++++++++++ 44/62 файл обработан +++++++++++++++\n",
            "Extracting EDF parameters from /content/drive/MyDrive/data/527415/001/neurovisor_2025-04-15_16-26-09.edf...\n",
            "EDF file detected\n",
            "Setting channel info structure...\n",
            "Creating raw.info structure...\n",
            "Reading 0 ... 3855999  =      0.000 ...  3855.999 secs...\n"
          ]
        },
        {
          "name": "stderr",
          "output_type": "stream",
          "text": [
            "/tmp/ipython-input-9-407938800.py:8: RuntimeWarning: Channels contain different highpass filters. Highest filter setting will be stored.\n",
            "  raw = mne.io.read_raw_edf(path, preload=True)\n",
            "/tmp/ipython-input-9-407938800.py:8: RuntimeWarning: Channels contain different lowpass filters. Lowest filter setting will be stored.\n",
            "  raw = mne.io.read_raw_edf(path, preload=True)\n"
          ]
        },
        {
          "name": "stdout",
          "output_type": "stream",
          "text": [
            "Filtering raw data in 1 contiguous segment\n",
            "Setting up band-pass filter from 0.5 - 40 Hz\n",
            "\n",
            "FIR filter parameters\n",
            "---------------------\n",
            "Designing a one-pass, zero-phase, non-causal bandpass filter:\n",
            "- Windowed time-domain design (firwin) method\n",
            "- Hamming window with 0.0194 passband ripple and 53 dB stopband attenuation\n",
            "- Lower passband edge: 0.50\n",
            "- Lower transition bandwidth: 0.50 Hz (-6 dB cutoff frequency: 0.25 Hz)\n",
            "- Upper passband edge: 40.00 Hz\n",
            "- Upper transition bandwidth: 10.00 Hz (-6 dB cutoff frequency: 45.00 Hz)\n",
            "- Filter length: 6601 samples (6.601 s)\n",
            "\n"
          ]
        },
        {
          "name": "stderr",
          "output_type": "stream",
          "text": [
            "[Parallel(n_jobs=1)]: Done  17 tasks      | elapsed:    2.4s\n",
            "[Parallel(n_jobs=1)]: Done  34 out of  34 | elapsed:    5.2s finished\n"
          ]
        },
        {
          "name": "stdout",
          "output_type": "stream",
          "text": [
            "Not setting metadata\n",
            "771 matching events found\n",
            "No baseline correction applied\n",
            "0 projection items activated\n",
            "Using data from preloaded Raw for 771 events and 5000 original time points ...\n",
            "0 bad epochs dropped\n"
          ]
        },
        {
          "name": "stderr",
          "output_type": "stream",
          "text": [
            "/tmp/ipython-input-9-407938800.py:34: DeprecationWarning: `trapz` is deprecated. Use `trapezoid` instead, or one of the numerical integration functions in `scipy.integrate`.\n",
            "  delta_power = np.trapz(psd[(f >= 0.5) & (f <= 4)], f[(f >= 0.5) & (f <= 4)])\n",
            "/tmp/ipython-input-9-407938800.py:35: DeprecationWarning: `trapz` is deprecated. Use `trapezoid` instead, or one of the numerical integration functions in `scipy.integrate`.\n",
            "  theta_power = np.trapz(psd[(f >= 4) & (f <= 8)], f[(f >= 4) & (f <= 8)])\n",
            "/tmp/ipython-input-9-407938800.py:36: DeprecationWarning: `trapz` is deprecated. Use `trapezoid` instead, or one of the numerical integration functions in `scipy.integrate`.\n",
            "  alpha_power = np.trapz(psd[(f >= 8) & (f <= 13)], f[(f >= 8) & (f <= 13)])\n",
            "/tmp/ipython-input-9-407938800.py:37: DeprecationWarning: `trapz` is deprecated. Use `trapezoid` instead, or one of the numerical integration functions in `scipy.integrate`.\n",
            "  beta_power = np.trapz(psd[(f >= 13) & (f <= 30)], f[(f >= 13) & (f <= 30)])\n"
          ]
        },
        {
          "name": "stdout",
          "output_type": "stream",
          "text": [
            "+++++++++++++++ 45/62 файл обработан +++++++++++++++\n",
            "Extracting EDF parameters from /content/drive/MyDrive/data/825526/001/neurovisor_2025-05-03_14-28-11.edf...\n",
            "EDF file detected\n",
            "Setting channel info structure...\n",
            "Creating raw.info structure...\n",
            "Reading 0 ... 3982999  =      0.000 ...  3982.999 secs...\n"
          ]
        },
        {
          "name": "stderr",
          "output_type": "stream",
          "text": [
            "/tmp/ipython-input-9-407938800.py:8: RuntimeWarning: Channels contain different highpass filters. Highest filter setting will be stored.\n",
            "  raw = mne.io.read_raw_edf(path, preload=True)\n",
            "/tmp/ipython-input-9-407938800.py:8: RuntimeWarning: Channels contain different lowpass filters. Lowest filter setting will be stored.\n",
            "  raw = mne.io.read_raw_edf(path, preload=True)\n"
          ]
        },
        {
          "name": "stdout",
          "output_type": "stream",
          "text": [
            "Filtering raw data in 1 contiguous segment\n",
            "Setting up band-pass filter from 0.5 - 40 Hz\n",
            "\n",
            "FIR filter parameters\n",
            "---------------------\n",
            "Designing a one-pass, zero-phase, non-causal bandpass filter:\n",
            "- Windowed time-domain design (firwin) method\n",
            "- Hamming window with 0.0194 passband ripple and 53 dB stopband attenuation\n",
            "- Lower passband edge: 0.50\n",
            "- Lower transition bandwidth: 0.50 Hz (-6 dB cutoff frequency: 0.25 Hz)\n",
            "- Upper passband edge: 40.00 Hz\n",
            "- Upper transition bandwidth: 10.00 Hz (-6 dB cutoff frequency: 45.00 Hz)\n",
            "- Filter length: 6601 samples (6.601 s)\n",
            "\n"
          ]
        },
        {
          "name": "stderr",
          "output_type": "stream",
          "text": [
            "[Parallel(n_jobs=1)]: Done  17 tasks      | elapsed:    0.4s\n"
          ]
        },
        {
          "name": "stdout",
          "output_type": "stream",
          "text": [
            "Not setting metadata\n",
            "120 matching events found\n",
            "No baseline correction applied\n",
            "0 projection items activated\n",
            "Using data from preloaded Raw for 120 events and 5000 original time points ...\n",
            "0 bad epochs dropped\n"
          ]
        },
        {
          "name": "stderr",
          "output_type": "stream",
          "text": [
            "[Parallel(n_jobs=1)]: Done  34 out of  34 | elapsed:    0.9s finished\n",
            "/tmp/ipython-input-9-407938800.py:34: DeprecationWarning: `trapz` is deprecated. Use `trapezoid` instead, or one of the numerical integration functions in `scipy.integrate`.\n",
            "  delta_power = np.trapz(psd[(f >= 0.5) & (f <= 4)], f[(f >= 0.5) & (f <= 4)])\n",
            "/tmp/ipython-input-9-407938800.py:35: DeprecationWarning: `trapz` is deprecated. Use `trapezoid` instead, or one of the numerical integration functions in `scipy.integrate`.\n",
            "  theta_power = np.trapz(psd[(f >= 4) & (f <= 8)], f[(f >= 4) & (f <= 8)])\n",
            "/tmp/ipython-input-9-407938800.py:36: DeprecationWarning: `trapz` is deprecated. Use `trapezoid` instead, or one of the numerical integration functions in `scipy.integrate`.\n",
            "  alpha_power = np.trapz(psd[(f >= 8) & (f <= 13)], f[(f >= 8) & (f <= 13)])\n",
            "/tmp/ipython-input-9-407938800.py:37: DeprecationWarning: `trapz` is deprecated. Use `trapezoid` instead, or one of the numerical integration functions in `scipy.integrate`.\n",
            "  beta_power = np.trapz(psd[(f >= 13) & (f <= 30)], f[(f >= 13) & (f <= 30)])\n"
          ]
        },
        {
          "name": "stdout",
          "output_type": "stream",
          "text": [
            "+++++++++++++++ 46/62 файл обработан +++++++++++++++\n",
            "Extracting EDF parameters from /content/drive/MyDrive/data/907623/001/neurovisor_2025-04-22_10-54-12.edf...\n",
            "EDF file detected\n",
            "Setting channel info structure...\n",
            "Creating raw.info structure...\n",
            "Reading 0 ... 3933999  =      0.000 ...  3933.999 secs...\n"
          ]
        },
        {
          "name": "stderr",
          "output_type": "stream",
          "text": [
            "/tmp/ipython-input-9-407938800.py:8: RuntimeWarning: Channels contain different highpass filters. Highest filter setting will be stored.\n",
            "  raw = mne.io.read_raw_edf(path, preload=True)\n",
            "/tmp/ipython-input-9-407938800.py:8: RuntimeWarning: Channels contain different lowpass filters. Lowest filter setting will be stored.\n",
            "  raw = mne.io.read_raw_edf(path, preload=True)\n"
          ]
        },
        {
          "name": "stdout",
          "output_type": "stream",
          "text": [
            "Filtering raw data in 1 contiguous segment\n",
            "Setting up band-pass filter from 0.5 - 40 Hz\n",
            "\n",
            "FIR filter parameters\n",
            "---------------------\n",
            "Designing a one-pass, zero-phase, non-causal bandpass filter:\n",
            "- Windowed time-domain design (firwin) method\n",
            "- Hamming window with 0.0194 passband ripple and 53 dB stopband attenuation\n",
            "- Lower passband edge: 0.50\n",
            "- Lower transition bandwidth: 0.50 Hz (-6 dB cutoff frequency: 0.25 Hz)\n",
            "- Upper passband edge: 40.00 Hz\n",
            "- Upper transition bandwidth: 10.00 Hz (-6 dB cutoff frequency: 45.00 Hz)\n",
            "- Filter length: 6601 samples (6.601 s)\n",
            "\n"
          ]
        },
        {
          "name": "stderr",
          "output_type": "stream",
          "text": [
            "[Parallel(n_jobs=1)]: Done  17 tasks      | elapsed:    0.6s\n"
          ]
        },
        {
          "name": "stdout",
          "output_type": "stream",
          "text": [
            "Not setting metadata\n",
            "120 matching events found\n",
            "No baseline correction applied\n",
            "0 projection items activated\n",
            "Using data from preloaded Raw for 120 events and 5000 original time points ...\n"
          ]
        },
        {
          "name": "stderr",
          "output_type": "stream",
          "text": [
            "[Parallel(n_jobs=1)]: Done  34 out of  34 | elapsed:    1.3s finished\n"
          ]
        },
        {
          "name": "stdout",
          "output_type": "stream",
          "text": [
            "0 bad epochs dropped\n"
          ]
        },
        {
          "name": "stderr",
          "output_type": "stream",
          "text": [
            "/tmp/ipython-input-9-407938800.py:34: DeprecationWarning: `trapz` is deprecated. Use `trapezoid` instead, or one of the numerical integration functions in `scipy.integrate`.\n",
            "  delta_power = np.trapz(psd[(f >= 0.5) & (f <= 4)], f[(f >= 0.5) & (f <= 4)])\n",
            "/tmp/ipython-input-9-407938800.py:35: DeprecationWarning: `trapz` is deprecated. Use `trapezoid` instead, or one of the numerical integration functions in `scipy.integrate`.\n",
            "  theta_power = np.trapz(psd[(f >= 4) & (f <= 8)], f[(f >= 4) & (f <= 8)])\n",
            "/tmp/ipython-input-9-407938800.py:36: DeprecationWarning: `trapz` is deprecated. Use `trapezoid` instead, or one of the numerical integration functions in `scipy.integrate`.\n",
            "  alpha_power = np.trapz(psd[(f >= 8) & (f <= 13)], f[(f >= 8) & (f <= 13)])\n",
            "/tmp/ipython-input-9-407938800.py:37: DeprecationWarning: `trapz` is deprecated. Use `trapezoid` instead, or one of the numerical integration functions in `scipy.integrate`.\n",
            "  beta_power = np.trapz(psd[(f >= 13) & (f <= 30)], f[(f >= 13) & (f <= 30)])\n"
          ]
        },
        {
          "name": "stdout",
          "output_type": "stream",
          "text": [
            "+++++++++++++++ 47/62 файл обработан +++++++++++++++\n",
            "Extracting EDF parameters from /content/drive/MyDrive/data/971006/001/neurovisor_2025-04-20_10-55-26.edf...\n",
            "EDF file detected\n",
            "Setting channel info structure...\n",
            "Creating raw.info structure...\n",
            "Reading 0 ... 3962999  =      0.000 ...  3962.999 secs...\n"
          ]
        },
        {
          "name": "stderr",
          "output_type": "stream",
          "text": [
            "/tmp/ipython-input-9-407938800.py:8: RuntimeWarning: Channels contain different highpass filters. Highest filter setting will be stored.\n",
            "  raw = mne.io.read_raw_edf(path, preload=True)\n",
            "/tmp/ipython-input-9-407938800.py:8: RuntimeWarning: Channels contain different lowpass filters. Lowest filter setting will be stored.\n",
            "  raw = mne.io.read_raw_edf(path, preload=True)\n"
          ]
        },
        {
          "name": "stdout",
          "output_type": "stream",
          "text": [
            "Filtering raw data in 1 contiguous segment\n",
            "Setting up band-pass filter from 0.5 - 40 Hz\n",
            "\n",
            "FIR filter parameters\n",
            "---------------------\n",
            "Designing a one-pass, zero-phase, non-causal bandpass filter:\n",
            "- Windowed time-domain design (firwin) method\n",
            "- Hamming window with 0.0194 passband ripple and 53 dB stopband attenuation\n",
            "- Lower passband edge: 0.50\n",
            "- Lower transition bandwidth: 0.50 Hz (-6 dB cutoff frequency: 0.25 Hz)\n",
            "- Upper passband edge: 40.00 Hz\n",
            "- Upper transition bandwidth: 10.00 Hz (-6 dB cutoff frequency: 45.00 Hz)\n",
            "- Filter length: 6601 samples (6.601 s)\n",
            "\n"
          ]
        },
        {
          "name": "stderr",
          "output_type": "stream",
          "text": [
            "[Parallel(n_jobs=1)]: Done  17 tasks      | elapsed:    0.4s\n"
          ]
        },
        {
          "name": "stdout",
          "output_type": "stream",
          "text": [
            "Not setting metadata\n",
            "120 matching events found\n",
            "No baseline correction applied\n",
            "0 projection items activated\n",
            "Using data from preloaded Raw for 120 events and 5000 original time points ...\n",
            "0 bad epochs dropped\n"
          ]
        },
        {
          "name": "stderr",
          "output_type": "stream",
          "text": [
            "[Parallel(n_jobs=1)]: Done  34 out of  34 | elapsed:    0.8s finished\n",
            "/tmp/ipython-input-9-407938800.py:34: DeprecationWarning: `trapz` is deprecated. Use `trapezoid` instead, or one of the numerical integration functions in `scipy.integrate`.\n",
            "  delta_power = np.trapz(psd[(f >= 0.5) & (f <= 4)], f[(f >= 0.5) & (f <= 4)])\n",
            "/tmp/ipython-input-9-407938800.py:35: DeprecationWarning: `trapz` is deprecated. Use `trapezoid` instead, or one of the numerical integration functions in `scipy.integrate`.\n",
            "  theta_power = np.trapz(psd[(f >= 4) & (f <= 8)], f[(f >= 4) & (f <= 8)])\n",
            "/tmp/ipython-input-9-407938800.py:36: DeprecationWarning: `trapz` is deprecated. Use `trapezoid` instead, or one of the numerical integration functions in `scipy.integrate`.\n",
            "  alpha_power = np.trapz(psd[(f >= 8) & (f <= 13)], f[(f >= 8) & (f <= 13)])\n",
            "/tmp/ipython-input-9-407938800.py:37: DeprecationWarning: `trapz` is deprecated. Use `trapezoid` instead, or one of the numerical integration functions in `scipy.integrate`.\n",
            "  beta_power = np.trapz(psd[(f >= 13) & (f <= 30)], f[(f >= 13) & (f <= 30)])\n"
          ]
        },
        {
          "name": "stdout",
          "output_type": "stream",
          "text": [
            "+++++++++++++++ 48/62 файл обработан +++++++++++++++\n",
            "Extracting EDF parameters from /content/drive/MyDrive/data/489107/001/neurovisor_2025-04-29_16-44-41.edf...\n",
            "EDF file detected\n",
            "Setting channel info structure...\n",
            "Creating raw.info structure...\n",
            "Reading 0 ... 3933999  =      0.000 ...  3933.999 secs...\n"
          ]
        },
        {
          "name": "stderr",
          "output_type": "stream",
          "text": [
            "/tmp/ipython-input-9-407938800.py:8: RuntimeWarning: Channels contain different highpass filters. Highest filter setting will be stored.\n",
            "  raw = mne.io.read_raw_edf(path, preload=True)\n",
            "/tmp/ipython-input-9-407938800.py:8: RuntimeWarning: Channels contain different lowpass filters. Lowest filter setting will be stored.\n",
            "  raw = mne.io.read_raw_edf(path, preload=True)\n"
          ]
        },
        {
          "name": "stdout",
          "output_type": "stream",
          "text": [
            "Filtering raw data in 1 contiguous segment\n",
            "Setting up band-pass filter from 0.5 - 40 Hz\n",
            "\n",
            "FIR filter parameters\n",
            "---------------------\n",
            "Designing a one-pass, zero-phase, non-causal bandpass filter:\n",
            "- Windowed time-domain design (firwin) method\n",
            "- Hamming window with 0.0194 passband ripple and 53 dB stopband attenuation\n",
            "- Lower passband edge: 0.50\n",
            "- Lower transition bandwidth: 0.50 Hz (-6 dB cutoff frequency: 0.25 Hz)\n",
            "- Upper passband edge: 40.00 Hz\n",
            "- Upper transition bandwidth: 10.00 Hz (-6 dB cutoff frequency: 45.00 Hz)\n",
            "- Filter length: 6601 samples (6.601 s)\n",
            "\n"
          ]
        },
        {
          "name": "stderr",
          "output_type": "stream",
          "text": [
            "[Parallel(n_jobs=1)]: Done  17 tasks      | elapsed:    0.4s\n"
          ]
        },
        {
          "name": "stdout",
          "output_type": "stream",
          "text": [
            "Not setting metadata\n",
            "120 matching events found\n",
            "No baseline correction applied\n",
            "0 projection items activated\n",
            "Using data from preloaded Raw for 120 events and 5000 original time points ...\n",
            "0 bad epochs dropped\n"
          ]
        },
        {
          "name": "stderr",
          "output_type": "stream",
          "text": [
            "[Parallel(n_jobs=1)]: Done  34 out of  34 | elapsed:    0.9s finished\n",
            "/tmp/ipython-input-9-407938800.py:34: DeprecationWarning: `trapz` is deprecated. Use `trapezoid` instead, or one of the numerical integration functions in `scipy.integrate`.\n",
            "  delta_power = np.trapz(psd[(f >= 0.5) & (f <= 4)], f[(f >= 0.5) & (f <= 4)])\n",
            "/tmp/ipython-input-9-407938800.py:35: DeprecationWarning: `trapz` is deprecated. Use `trapezoid` instead, or one of the numerical integration functions in `scipy.integrate`.\n",
            "  theta_power = np.trapz(psd[(f >= 4) & (f <= 8)], f[(f >= 4) & (f <= 8)])\n",
            "/tmp/ipython-input-9-407938800.py:36: DeprecationWarning: `trapz` is deprecated. Use `trapezoid` instead, or one of the numerical integration functions in `scipy.integrate`.\n",
            "  alpha_power = np.trapz(psd[(f >= 8) & (f <= 13)], f[(f >= 8) & (f <= 13)])\n",
            "/tmp/ipython-input-9-407938800.py:37: DeprecationWarning: `trapz` is deprecated. Use `trapezoid` instead, or one of the numerical integration functions in `scipy.integrate`.\n",
            "  beta_power = np.trapz(psd[(f >= 13) & (f <= 30)], f[(f >= 13) & (f <= 30)])\n"
          ]
        },
        {
          "name": "stdout",
          "output_type": "stream",
          "text": [
            "+++++++++++++++ 49/62 файл обработан +++++++++++++++\n",
            "Extracting EDF parameters from /content/drive/MyDrive/data/863463/003/neurovisor_2025-04-21_11-50-04.edf...\n",
            "EDF file detected\n",
            "Setting channel info structure...\n",
            "Creating raw.info structure...\n",
            "Reading 0 ... 745999  =      0.000 ...   745.999 secs...\n"
          ]
        },
        {
          "name": "stderr",
          "output_type": "stream",
          "text": [
            "/tmp/ipython-input-9-407938800.py:8: RuntimeWarning: Channels contain different highpass filters. Highest filter setting will be stored.\n",
            "  raw = mne.io.read_raw_edf(path, preload=True)\n",
            "/tmp/ipython-input-9-407938800.py:8: RuntimeWarning: Channels contain different lowpass filters. Lowest filter setting will be stored.\n",
            "  raw = mne.io.read_raw_edf(path, preload=True)\n"
          ]
        },
        {
          "name": "stdout",
          "output_type": "stream",
          "text": [
            "Filtering raw data in 1 contiguous segment\n",
            "Setting up band-pass filter from 0.5 - 40 Hz\n",
            "\n",
            "FIR filter parameters\n",
            "---------------------\n",
            "Designing a one-pass, zero-phase, non-causal bandpass filter:\n",
            "- Windowed time-domain design (firwin) method\n",
            "- Hamming window with 0.0194 passband ripple and 53 dB stopband attenuation\n",
            "- Lower passband edge: 0.50\n",
            "- Lower transition bandwidth: 0.50 Hz (-6 dB cutoff frequency: 0.25 Hz)\n",
            "- Upper passband edge: 40.00 Hz\n",
            "- Upper transition bandwidth: 10.00 Hz (-6 dB cutoff frequency: 45.00 Hz)\n",
            "- Filter length: 6601 samples (6.601 s)\n",
            "\n"
          ]
        },
        {
          "name": "stderr",
          "output_type": "stream",
          "text": [
            "[Parallel(n_jobs=1)]: Done  17 tasks      | elapsed:    0.6s\n"
          ]
        },
        {
          "name": "stdout",
          "output_type": "stream",
          "text": [
            "Not setting metadata\n",
            "120 matching events found\n",
            "No baseline correction applied\n",
            "0 projection items activated\n",
            "Using data from preloaded Raw for 120 events and 5000 original time points ...\n",
            "0 bad epochs dropped\n"
          ]
        },
        {
          "name": "stderr",
          "output_type": "stream",
          "text": [
            "[Parallel(n_jobs=1)]: Done  34 out of  34 | elapsed:    1.2s finished\n",
            "/tmp/ipython-input-9-407938800.py:34: DeprecationWarning: `trapz` is deprecated. Use `trapezoid` instead, or one of the numerical integration functions in `scipy.integrate`.\n",
            "  delta_power = np.trapz(psd[(f >= 0.5) & (f <= 4)], f[(f >= 0.5) & (f <= 4)])\n",
            "/tmp/ipython-input-9-407938800.py:35: DeprecationWarning: `trapz` is deprecated. Use `trapezoid` instead, or one of the numerical integration functions in `scipy.integrate`.\n",
            "  theta_power = np.trapz(psd[(f >= 4) & (f <= 8)], f[(f >= 4) & (f <= 8)])\n",
            "/tmp/ipython-input-9-407938800.py:36: DeprecationWarning: `trapz` is deprecated. Use `trapezoid` instead, or one of the numerical integration functions in `scipy.integrate`.\n",
            "  alpha_power = np.trapz(psd[(f >= 8) & (f <= 13)], f[(f >= 8) & (f <= 13)])\n",
            "/tmp/ipython-input-9-407938800.py:37: DeprecationWarning: `trapz` is deprecated. Use `trapezoid` instead, or one of the numerical integration functions in `scipy.integrate`.\n",
            "  beta_power = np.trapz(psd[(f >= 13) & (f <= 30)], f[(f >= 13) & (f <= 30)])\n"
          ]
        },
        {
          "name": "stdout",
          "output_type": "stream",
          "text": [
            "+++++++++++++++ 50/62 файл обработан +++++++++++++++\n",
            "Extracting EDF parameters from /content/drive/MyDrive/data/863463/002/neurovisor_2025-04-21_11-06-16.edf...\n",
            "EDF file detected\n",
            "Setting channel info structure...\n",
            "Creating raw.info structure...\n",
            "Reading 0 ... 2424999  =      0.000 ...  2424.999 secs...\n"
          ]
        },
        {
          "name": "stderr",
          "output_type": "stream",
          "text": [
            "/tmp/ipython-input-9-407938800.py:8: RuntimeWarning: Channels contain different highpass filters. Highest filter setting will be stored.\n",
            "  raw = mne.io.read_raw_edf(path, preload=True)\n",
            "/tmp/ipython-input-9-407938800.py:8: RuntimeWarning: Channels contain different lowpass filters. Lowest filter setting will be stored.\n",
            "  raw = mne.io.read_raw_edf(path, preload=True)\n"
          ]
        },
        {
          "name": "stdout",
          "output_type": "stream",
          "text": [
            "Filtering raw data in 1 contiguous segment\n",
            "Setting up band-pass filter from 0.5 - 40 Hz\n",
            "\n",
            "FIR filter parameters\n",
            "---------------------\n",
            "Designing a one-pass, zero-phase, non-causal bandpass filter:\n",
            "- Windowed time-domain design (firwin) method\n",
            "- Hamming window with 0.0194 passband ripple and 53 dB stopband attenuation\n",
            "- Lower passband edge: 0.50\n",
            "- Lower transition bandwidth: 0.50 Hz (-6 dB cutoff frequency: 0.25 Hz)\n",
            "- Upper passband edge: 40.00 Hz\n",
            "- Upper transition bandwidth: 10.00 Hz (-6 dB cutoff frequency: 45.00 Hz)\n",
            "- Filter length: 6601 samples (6.601 s)\n",
            "\n"
          ]
        },
        {
          "name": "stderr",
          "output_type": "stream",
          "text": [
            "[Parallel(n_jobs=1)]: Done  17 tasks      | elapsed:    0.4s\n"
          ]
        },
        {
          "name": "stdout",
          "output_type": "stream",
          "text": [
            "Not setting metadata\n",
            "120 matching events found\n",
            "No baseline correction applied\n",
            "0 projection items activated\n",
            "Using data from preloaded Raw for 120 events and 5000 original time points ...\n",
            "0 bad epochs dropped\n"
          ]
        },
        {
          "name": "stderr",
          "output_type": "stream",
          "text": [
            "[Parallel(n_jobs=1)]: Done  34 out of  34 | elapsed:    1.0s finished\n",
            "/tmp/ipython-input-9-407938800.py:34: DeprecationWarning: `trapz` is deprecated. Use `trapezoid` instead, or one of the numerical integration functions in `scipy.integrate`.\n",
            "  delta_power = np.trapz(psd[(f >= 0.5) & (f <= 4)], f[(f >= 0.5) & (f <= 4)])\n",
            "/tmp/ipython-input-9-407938800.py:35: DeprecationWarning: `trapz` is deprecated. Use `trapezoid` instead, or one of the numerical integration functions in `scipy.integrate`.\n",
            "  theta_power = np.trapz(psd[(f >= 4) & (f <= 8)], f[(f >= 4) & (f <= 8)])\n",
            "/tmp/ipython-input-9-407938800.py:36: DeprecationWarning: `trapz` is deprecated. Use `trapezoid` instead, or one of the numerical integration functions in `scipy.integrate`.\n",
            "  alpha_power = np.trapz(psd[(f >= 8) & (f <= 13)], f[(f >= 8) & (f <= 13)])\n",
            "/tmp/ipython-input-9-407938800.py:37: DeprecationWarning: `trapz` is deprecated. Use `trapezoid` instead, or one of the numerical integration functions in `scipy.integrate`.\n",
            "  beta_power = np.trapz(psd[(f >= 13) & (f <= 30)], f[(f >= 13) & (f <= 30)])\n"
          ]
        },
        {
          "name": "stdout",
          "output_type": "stream",
          "text": [
            "+++++++++++++++ 51/62 файл обработан +++++++++++++++\n",
            "Extracting EDF parameters from /content/drive/MyDrive/data/863463/001/neurovisor_1_2025-04-21_10-47-48.edf...\n",
            "EDF file detected\n",
            "Setting channel info structure...\n",
            "Creating raw.info structure...\n",
            "Reading 0 ... 816999  =      0.000 ...   816.999 secs...\n"
          ]
        },
        {
          "name": "stderr",
          "output_type": "stream",
          "text": [
            "/tmp/ipython-input-9-407938800.py:8: RuntimeWarning: Channels contain different highpass filters. Highest filter setting will be stored.\n",
            "  raw = mne.io.read_raw_edf(path, preload=True)\n",
            "/tmp/ipython-input-9-407938800.py:8: RuntimeWarning: Channels contain different lowpass filters. Lowest filter setting will be stored.\n",
            "  raw = mne.io.read_raw_edf(path, preload=True)\n"
          ]
        },
        {
          "name": "stdout",
          "output_type": "stream",
          "text": [
            "Filtering raw data in 1 contiguous segment\n",
            "Setting up band-pass filter from 0.5 - 40 Hz\n",
            "\n",
            "FIR filter parameters\n",
            "---------------------\n",
            "Designing a one-pass, zero-phase, non-causal bandpass filter:\n",
            "- Windowed time-domain design (firwin) method\n",
            "- Hamming window with 0.0194 passband ripple and 53 dB stopband attenuation\n",
            "- Lower passband edge: 0.50\n",
            "- Lower transition bandwidth: 0.50 Hz (-6 dB cutoff frequency: 0.25 Hz)\n",
            "- Upper passband edge: 40.00 Hz\n",
            "- Upper transition bandwidth: 10.00 Hz (-6 dB cutoff frequency: 45.00 Hz)\n",
            "- Filter length: 6601 samples (6.601 s)\n",
            "\n"
          ]
        },
        {
          "name": "stderr",
          "output_type": "stream",
          "text": [
            "[Parallel(n_jobs=1)]: Done  17 tasks      | elapsed:    0.4s\n"
          ]
        },
        {
          "name": "stdout",
          "output_type": "stream",
          "text": [
            "Not setting metadata\n",
            "120 matching events found\n",
            "No baseline correction applied\n",
            "0 projection items activated\n",
            "Using data from preloaded Raw for 120 events and 5000 original time points ...\n",
            "0 bad epochs dropped\n"
          ]
        },
        {
          "name": "stderr",
          "output_type": "stream",
          "text": [
            "[Parallel(n_jobs=1)]: Done  34 out of  34 | elapsed:    0.8s finished\n",
            "/tmp/ipython-input-9-407938800.py:34: DeprecationWarning: `trapz` is deprecated. Use `trapezoid` instead, or one of the numerical integration functions in `scipy.integrate`.\n",
            "  delta_power = np.trapz(psd[(f >= 0.5) & (f <= 4)], f[(f >= 0.5) & (f <= 4)])\n",
            "/tmp/ipython-input-9-407938800.py:35: DeprecationWarning: `trapz` is deprecated. Use `trapezoid` instead, or one of the numerical integration functions in `scipy.integrate`.\n",
            "  theta_power = np.trapz(psd[(f >= 4) & (f <= 8)], f[(f >= 4) & (f <= 8)])\n",
            "/tmp/ipython-input-9-407938800.py:36: DeprecationWarning: `trapz` is deprecated. Use `trapezoid` instead, or one of the numerical integration functions in `scipy.integrate`.\n",
            "  alpha_power = np.trapz(psd[(f >= 8) & (f <= 13)], f[(f >= 8) & (f <= 13)])\n",
            "/tmp/ipython-input-9-407938800.py:37: DeprecationWarning: `trapz` is deprecated. Use `trapezoid` instead, or one of the numerical integration functions in `scipy.integrate`.\n",
            "  beta_power = np.trapz(psd[(f >= 13) & (f <= 30)], f[(f >= 13) & (f <= 30)])\n"
          ]
        },
        {
          "name": "stdout",
          "output_type": "stream",
          "text": [
            "+++++++++++++++ 52/62 файл обработан +++++++++++++++\n",
            "Extracting EDF parameters from /content/drive/MyDrive/data/241446/001/neurovisor_2025-04-19_10-55-43.edf...\n",
            "EDF file detected\n",
            "Setting channel info structure...\n",
            "Creating raw.info structure...\n",
            "Reading 0 ... 3931999  =      0.000 ...  3931.999 secs...\n"
          ]
        },
        {
          "name": "stderr",
          "output_type": "stream",
          "text": [
            "/tmp/ipython-input-9-407938800.py:8: RuntimeWarning: Channels contain different highpass filters. Highest filter setting will be stored.\n",
            "  raw = mne.io.read_raw_edf(path, preload=True)\n",
            "/tmp/ipython-input-9-407938800.py:8: RuntimeWarning: Channels contain different lowpass filters. Lowest filter setting will be stored.\n",
            "  raw = mne.io.read_raw_edf(path, preload=True)\n"
          ]
        },
        {
          "name": "stdout",
          "output_type": "stream",
          "text": [
            "Filtering raw data in 1 contiguous segment\n",
            "Setting up band-pass filter from 0.5 - 40 Hz\n",
            "\n",
            "FIR filter parameters\n",
            "---------------------\n",
            "Designing a one-pass, zero-phase, non-causal bandpass filter:\n",
            "- Windowed time-domain design (firwin) method\n",
            "- Hamming window with 0.0194 passband ripple and 53 dB stopband attenuation\n",
            "- Lower passband edge: 0.50\n",
            "- Lower transition bandwidth: 0.50 Hz (-6 dB cutoff frequency: 0.25 Hz)\n",
            "- Upper passband edge: 40.00 Hz\n",
            "- Upper transition bandwidth: 10.00 Hz (-6 dB cutoff frequency: 45.00 Hz)\n",
            "- Filter length: 6601 samples (6.601 s)\n",
            "\n"
          ]
        },
        {
          "name": "stderr",
          "output_type": "stream",
          "text": [
            "[Parallel(n_jobs=1)]: Done  17 tasks      | elapsed:    0.4s\n"
          ]
        },
        {
          "name": "stdout",
          "output_type": "stream",
          "text": [
            "Not setting metadata\n",
            "120 matching events found\n",
            "No baseline correction applied\n",
            "0 projection items activated\n",
            "Using data from preloaded Raw for 120 events and 5000 original time points ...\n",
            "0 bad epochs dropped\n"
          ]
        },
        {
          "name": "stderr",
          "output_type": "stream",
          "text": [
            "[Parallel(n_jobs=1)]: Done  34 out of  34 | elapsed:    0.8s finished\n",
            "/tmp/ipython-input-9-407938800.py:34: DeprecationWarning: `trapz` is deprecated. Use `trapezoid` instead, or one of the numerical integration functions in `scipy.integrate`.\n",
            "  delta_power = np.trapz(psd[(f >= 0.5) & (f <= 4)], f[(f >= 0.5) & (f <= 4)])\n",
            "/tmp/ipython-input-9-407938800.py:35: DeprecationWarning: `trapz` is deprecated. Use `trapezoid` instead, or one of the numerical integration functions in `scipy.integrate`.\n",
            "  theta_power = np.trapz(psd[(f >= 4) & (f <= 8)], f[(f >= 4) & (f <= 8)])\n",
            "/tmp/ipython-input-9-407938800.py:36: DeprecationWarning: `trapz` is deprecated. Use `trapezoid` instead, or one of the numerical integration functions in `scipy.integrate`.\n",
            "  alpha_power = np.trapz(psd[(f >= 8) & (f <= 13)], f[(f >= 8) & (f <= 13)])\n",
            "/tmp/ipython-input-9-407938800.py:37: DeprecationWarning: `trapz` is deprecated. Use `trapezoid` instead, or one of the numerical integration functions in `scipy.integrate`.\n",
            "  beta_power = np.trapz(psd[(f >= 13) & (f <= 30)], f[(f >= 13) & (f <= 30)])\n"
          ]
        },
        {
          "name": "stdout",
          "output_type": "stream",
          "text": [
            "+++++++++++++++ 53/62 файл обработан +++++++++++++++\n",
            "Extracting EDF parameters from /content/drive/MyDrive/data/820694/002/neurovisor_2025-04-22_14-36-11.edf...\n",
            "EDF file detected\n",
            "Setting channel info structure...\n",
            "Creating raw.info structure...\n",
            "Reading 0 ... 758999  =      0.000 ...   758.999 secs...\n"
          ]
        },
        {
          "name": "stderr",
          "output_type": "stream",
          "text": [
            "/tmp/ipython-input-9-407938800.py:8: RuntimeWarning: Channels contain different highpass filters. Highest filter setting will be stored.\n",
            "  raw = mne.io.read_raw_edf(path, preload=True)\n",
            "/tmp/ipython-input-9-407938800.py:8: RuntimeWarning: Channels contain different lowpass filters. Lowest filter setting will be stored.\n",
            "  raw = mne.io.read_raw_edf(path, preload=True)\n"
          ]
        },
        {
          "name": "stdout",
          "output_type": "stream",
          "text": [
            "Filtering raw data in 1 contiguous segment\n",
            "Setting up band-pass filter from 0.5 - 40 Hz\n",
            "\n",
            "FIR filter parameters\n",
            "---------------------\n",
            "Designing a one-pass, zero-phase, non-causal bandpass filter:\n",
            "- Windowed time-domain design (firwin) method\n",
            "- Hamming window with 0.0194 passband ripple and 53 dB stopband attenuation\n",
            "- Lower passband edge: 0.50\n",
            "- Lower transition bandwidth: 0.50 Hz (-6 dB cutoff frequency: 0.25 Hz)\n",
            "- Upper passband edge: 40.00 Hz\n",
            "- Upper transition bandwidth: 10.00 Hz (-6 dB cutoff frequency: 45.00 Hz)\n",
            "- Filter length: 6601 samples (6.601 s)\n",
            "\n"
          ]
        },
        {
          "name": "stderr",
          "output_type": "stream",
          "text": [
            "[Parallel(n_jobs=1)]: Done  17 tasks      | elapsed:    0.4s\n"
          ]
        },
        {
          "name": "stdout",
          "output_type": "stream",
          "text": [
            "Not setting metadata\n",
            "120 matching events found\n",
            "No baseline correction applied\n",
            "0 projection items activated\n",
            "Using data from preloaded Raw for 120 events and 5000 original time points ...\n",
            "0 bad epochs dropped\n"
          ]
        },
        {
          "name": "stderr",
          "output_type": "stream",
          "text": [
            "[Parallel(n_jobs=1)]: Done  34 out of  34 | elapsed:    0.8s finished\n",
            "/tmp/ipython-input-9-407938800.py:34: DeprecationWarning: `trapz` is deprecated. Use `trapezoid` instead, or one of the numerical integration functions in `scipy.integrate`.\n",
            "  delta_power = np.trapz(psd[(f >= 0.5) & (f <= 4)], f[(f >= 0.5) & (f <= 4)])\n",
            "/tmp/ipython-input-9-407938800.py:35: DeprecationWarning: `trapz` is deprecated. Use `trapezoid` instead, or one of the numerical integration functions in `scipy.integrate`.\n",
            "  theta_power = np.trapz(psd[(f >= 4) & (f <= 8)], f[(f >= 4) & (f <= 8)])\n",
            "/tmp/ipython-input-9-407938800.py:36: DeprecationWarning: `trapz` is deprecated. Use `trapezoid` instead, or one of the numerical integration functions in `scipy.integrate`.\n",
            "  alpha_power = np.trapz(psd[(f >= 8) & (f <= 13)], f[(f >= 8) & (f <= 13)])\n",
            "/tmp/ipython-input-9-407938800.py:37: DeprecationWarning: `trapz` is deprecated. Use `trapezoid` instead, or one of the numerical integration functions in `scipy.integrate`.\n",
            "  beta_power = np.trapz(psd[(f >= 13) & (f <= 30)], f[(f >= 13) & (f <= 30)])\n"
          ]
        },
        {
          "name": "stdout",
          "output_type": "stream",
          "text": [
            "+++++++++++++++ 54/62 файл обработан +++++++++++++++\n",
            "Extracting EDF parameters from /content/drive/MyDrive/data/820694/001/neurovisor_2025-04-22_13-35-56.edf...\n",
            "EDF file detected\n",
            "Setting channel info structure...\n",
            "Creating raw.info structure...\n",
            "Reading 0 ... 3380999  =      0.000 ...  3380.999 secs...\n"
          ]
        },
        {
          "name": "stderr",
          "output_type": "stream",
          "text": [
            "/tmp/ipython-input-9-407938800.py:8: RuntimeWarning: Channels contain different highpass filters. Highest filter setting will be stored.\n",
            "  raw = mne.io.read_raw_edf(path, preload=True)\n",
            "/tmp/ipython-input-9-407938800.py:8: RuntimeWarning: Channels contain different lowpass filters. Lowest filter setting will be stored.\n",
            "  raw = mne.io.read_raw_edf(path, preload=True)\n"
          ]
        },
        {
          "name": "stdout",
          "output_type": "stream",
          "text": [
            "Filtering raw data in 1 contiguous segment\n",
            "Setting up band-pass filter from 0.5 - 40 Hz\n",
            "\n",
            "FIR filter parameters\n",
            "---------------------\n",
            "Designing a one-pass, zero-phase, non-causal bandpass filter:\n",
            "- Windowed time-domain design (firwin) method\n",
            "- Hamming window with 0.0194 passband ripple and 53 dB stopband attenuation\n",
            "- Lower passband edge: 0.50\n",
            "- Lower transition bandwidth: 0.50 Hz (-6 dB cutoff frequency: 0.25 Hz)\n",
            "- Upper passband edge: 40.00 Hz\n",
            "- Upper transition bandwidth: 10.00 Hz (-6 dB cutoff frequency: 45.00 Hz)\n",
            "- Filter length: 6601 samples (6.601 s)\n",
            "\n"
          ]
        },
        {
          "name": "stderr",
          "output_type": "stream",
          "text": [
            "[Parallel(n_jobs=1)]: Done  17 tasks      | elapsed:    0.4s\n"
          ]
        },
        {
          "name": "stdout",
          "output_type": "stream",
          "text": [
            "Not setting metadata\n",
            "120 matching events found\n",
            "No baseline correction applied\n",
            "0 projection items activated\n",
            "Using data from preloaded Raw for 120 events and 5000 original time points ...\n",
            "0 bad epochs dropped\n"
          ]
        },
        {
          "name": "stderr",
          "output_type": "stream",
          "text": [
            "[Parallel(n_jobs=1)]: Done  34 out of  34 | elapsed:    0.8s finished\n",
            "/tmp/ipython-input-9-407938800.py:34: DeprecationWarning: `trapz` is deprecated. Use `trapezoid` instead, or one of the numerical integration functions in `scipy.integrate`.\n",
            "  delta_power = np.trapz(psd[(f >= 0.5) & (f <= 4)], f[(f >= 0.5) & (f <= 4)])\n",
            "/tmp/ipython-input-9-407938800.py:35: DeprecationWarning: `trapz` is deprecated. Use `trapezoid` instead, or one of the numerical integration functions in `scipy.integrate`.\n",
            "  theta_power = np.trapz(psd[(f >= 4) & (f <= 8)], f[(f >= 4) & (f <= 8)])\n",
            "/tmp/ipython-input-9-407938800.py:36: DeprecationWarning: `trapz` is deprecated. Use `trapezoid` instead, or one of the numerical integration functions in `scipy.integrate`.\n",
            "  alpha_power = np.trapz(psd[(f >= 8) & (f <= 13)], f[(f >= 8) & (f <= 13)])\n",
            "/tmp/ipython-input-9-407938800.py:37: DeprecationWarning: `trapz` is deprecated. Use `trapezoid` instead, or one of the numerical integration functions in `scipy.integrate`.\n",
            "  beta_power = np.trapz(psd[(f >= 13) & (f <= 30)], f[(f >= 13) & (f <= 30)])\n"
          ]
        },
        {
          "name": "stdout",
          "output_type": "stream",
          "text": [
            "+++++++++++++++ 55/62 файл обработан +++++++++++++++\n",
            "Extracting EDF parameters from /content/drive/MyDrive/data/475645/001/neurovisor_2025-04-20_16-37-32.edf...\n",
            "EDF file detected\n",
            "Setting channel info structure...\n",
            "Creating raw.info structure...\n",
            "Reading 0 ... 3934999  =      0.000 ...  3934.999 secs...\n"
          ]
        },
        {
          "name": "stderr",
          "output_type": "stream",
          "text": [
            "/tmp/ipython-input-9-407938800.py:8: RuntimeWarning: Channels contain different highpass filters. Highest filter setting will be stored.\n",
            "  raw = mne.io.read_raw_edf(path, preload=True)\n",
            "/tmp/ipython-input-9-407938800.py:8: RuntimeWarning: Channels contain different lowpass filters. Lowest filter setting will be stored.\n",
            "  raw = mne.io.read_raw_edf(path, preload=True)\n"
          ]
        },
        {
          "name": "stdout",
          "output_type": "stream",
          "text": [
            "Filtering raw data in 1 contiguous segment\n",
            "Setting up band-pass filter from 0.5 - 40 Hz\n",
            "\n",
            "FIR filter parameters\n",
            "---------------------\n",
            "Designing a one-pass, zero-phase, non-causal bandpass filter:\n",
            "- Windowed time-domain design (firwin) method\n",
            "- Hamming window with 0.0194 passband ripple and 53 dB stopband attenuation\n",
            "- Lower passband edge: 0.50\n",
            "- Lower transition bandwidth: 0.50 Hz (-6 dB cutoff frequency: 0.25 Hz)\n",
            "- Upper passband edge: 40.00 Hz\n",
            "- Upper transition bandwidth: 10.00 Hz (-6 dB cutoff frequency: 45.00 Hz)\n",
            "- Filter length: 6601 samples (6.601 s)\n",
            "\n"
          ]
        },
        {
          "name": "stderr",
          "output_type": "stream",
          "text": [
            "[Parallel(n_jobs=1)]: Done  17 tasks      | elapsed:    0.4s\n"
          ]
        },
        {
          "name": "stdout",
          "output_type": "stream",
          "text": [
            "Not setting metadata\n",
            "120 matching events found\n",
            "No baseline correction applied\n",
            "0 projection items activated\n",
            "Using data from preloaded Raw for 120 events and 5000 original time points ...\n",
            "0 bad epochs dropped\n"
          ]
        },
        {
          "name": "stderr",
          "output_type": "stream",
          "text": [
            "[Parallel(n_jobs=1)]: Done  34 out of  34 | elapsed:    0.9s finished\n",
            "/tmp/ipython-input-9-407938800.py:34: DeprecationWarning: `trapz` is deprecated. Use `trapezoid` instead, or one of the numerical integration functions in `scipy.integrate`.\n",
            "  delta_power = np.trapz(psd[(f >= 0.5) & (f <= 4)], f[(f >= 0.5) & (f <= 4)])\n",
            "/tmp/ipython-input-9-407938800.py:35: DeprecationWarning: `trapz` is deprecated. Use `trapezoid` instead, or one of the numerical integration functions in `scipy.integrate`.\n",
            "  theta_power = np.trapz(psd[(f >= 4) & (f <= 8)], f[(f >= 4) & (f <= 8)])\n",
            "/tmp/ipython-input-9-407938800.py:36: DeprecationWarning: `trapz` is deprecated. Use `trapezoid` instead, or one of the numerical integration functions in `scipy.integrate`.\n",
            "  alpha_power = np.trapz(psd[(f >= 8) & (f <= 13)], f[(f >= 8) & (f <= 13)])\n",
            "/tmp/ipython-input-9-407938800.py:37: DeprecationWarning: `trapz` is deprecated. Use `trapezoid` instead, or one of the numerical integration functions in `scipy.integrate`.\n",
            "  beta_power = np.trapz(psd[(f >= 13) & (f <= 30)], f[(f >= 13) & (f <= 30)])\n"
          ]
        },
        {
          "name": "stdout",
          "output_type": "stream",
          "text": [
            "+++++++++++++++ 56/62 файл обработан +++++++++++++++\n",
            "Extracting EDF parameters from /content/drive/MyDrive/data/319924/001/neurovisor_2025-04-24_13-20-32.edf...\n",
            "EDF file detected\n",
            "Setting channel info structure...\n",
            "Creating raw.info structure...\n",
            "Reading 0 ... 3904999  =      0.000 ...  3904.999 secs...\n"
          ]
        },
        {
          "name": "stderr",
          "output_type": "stream",
          "text": [
            "/tmp/ipython-input-9-407938800.py:8: RuntimeWarning: Channels contain different highpass filters. Highest filter setting will be stored.\n",
            "  raw = mne.io.read_raw_edf(path, preload=True)\n",
            "/tmp/ipython-input-9-407938800.py:8: RuntimeWarning: Channels contain different lowpass filters. Lowest filter setting will be stored.\n",
            "  raw = mne.io.read_raw_edf(path, preload=True)\n"
          ]
        },
        {
          "name": "stdout",
          "output_type": "stream",
          "text": [
            "Filtering raw data in 1 contiguous segment\n",
            "Setting up band-pass filter from 0.5 - 40 Hz\n",
            "\n",
            "FIR filter parameters\n",
            "---------------------\n",
            "Designing a one-pass, zero-phase, non-causal bandpass filter:\n",
            "- Windowed time-domain design (firwin) method\n",
            "- Hamming window with 0.0194 passband ripple and 53 dB stopband attenuation\n",
            "- Lower passband edge: 0.50\n",
            "- Lower transition bandwidth: 0.50 Hz (-6 dB cutoff frequency: 0.25 Hz)\n",
            "- Upper passband edge: 40.00 Hz\n",
            "- Upper transition bandwidth: 10.00 Hz (-6 dB cutoff frequency: 45.00 Hz)\n",
            "- Filter length: 6601 samples (6.601 s)\n",
            "\n"
          ]
        },
        {
          "name": "stderr",
          "output_type": "stream",
          "text": [
            "[Parallel(n_jobs=1)]: Done  17 tasks      | elapsed:    0.4s\n"
          ]
        },
        {
          "name": "stdout",
          "output_type": "stream",
          "text": [
            "Not setting metadata\n",
            "120 matching events found\n",
            "No baseline correction applied\n",
            "0 projection items activated\n",
            "Using data from preloaded Raw for 120 events and 5000 original time points ...\n",
            "0 bad epochs dropped\n"
          ]
        },
        {
          "name": "stderr",
          "output_type": "stream",
          "text": [
            "[Parallel(n_jobs=1)]: Done  34 out of  34 | elapsed:    0.8s finished\n",
            "/tmp/ipython-input-9-407938800.py:34: DeprecationWarning: `trapz` is deprecated. Use `trapezoid` instead, or one of the numerical integration functions in `scipy.integrate`.\n",
            "  delta_power = np.trapz(psd[(f >= 0.5) & (f <= 4)], f[(f >= 0.5) & (f <= 4)])\n",
            "/tmp/ipython-input-9-407938800.py:35: DeprecationWarning: `trapz` is deprecated. Use `trapezoid` instead, or one of the numerical integration functions in `scipy.integrate`.\n",
            "  theta_power = np.trapz(psd[(f >= 4) & (f <= 8)], f[(f >= 4) & (f <= 8)])\n",
            "/tmp/ipython-input-9-407938800.py:36: DeprecationWarning: `trapz` is deprecated. Use `trapezoid` instead, or one of the numerical integration functions in `scipy.integrate`.\n",
            "  alpha_power = np.trapz(psd[(f >= 8) & (f <= 13)], f[(f >= 8) & (f <= 13)])\n",
            "/tmp/ipython-input-9-407938800.py:37: DeprecationWarning: `trapz` is deprecated. Use `trapezoid` instead, or one of the numerical integration functions in `scipy.integrate`.\n",
            "  beta_power = np.trapz(psd[(f >= 13) & (f <= 30)], f[(f >= 13) & (f <= 30)])\n"
          ]
        },
        {
          "name": "stdout",
          "output_type": "stream",
          "text": [
            "+++++++++++++++ 57/62 файл обработан +++++++++++++++\n",
            "Extracting EDF parameters from /content/drive/MyDrive/data/208114/001/neurovisor_2025-04-16_13-57-55.edf...\n",
            "EDF file detected\n",
            "Setting channel info structure...\n",
            "Creating raw.info structure...\n",
            "Reading 0 ... 3924999  =      0.000 ...  3924.999 secs...\n"
          ]
        },
        {
          "name": "stderr",
          "output_type": "stream",
          "text": [
            "/tmp/ipython-input-9-407938800.py:8: RuntimeWarning: Channels contain different highpass filters. Highest filter setting will be stored.\n",
            "  raw = mne.io.read_raw_edf(path, preload=True)\n",
            "/tmp/ipython-input-9-407938800.py:8: RuntimeWarning: Channels contain different lowpass filters. Lowest filter setting will be stored.\n",
            "  raw = mne.io.read_raw_edf(path, preload=True)\n"
          ]
        },
        {
          "name": "stdout",
          "output_type": "stream",
          "text": [
            "Filtering raw data in 1 contiguous segment\n",
            "Setting up band-pass filter from 0.5 - 40 Hz\n",
            "\n",
            "FIR filter parameters\n",
            "---------------------\n",
            "Designing a one-pass, zero-phase, non-causal bandpass filter:\n",
            "- Windowed time-domain design (firwin) method\n",
            "- Hamming window with 0.0194 passband ripple and 53 dB stopband attenuation\n",
            "- Lower passband edge: 0.50\n",
            "- Lower transition bandwidth: 0.50 Hz (-6 dB cutoff frequency: 0.25 Hz)\n",
            "- Upper passband edge: 40.00 Hz\n",
            "- Upper transition bandwidth: 10.00 Hz (-6 dB cutoff frequency: 45.00 Hz)\n",
            "- Filter length: 6601 samples (6.601 s)\n",
            "\n"
          ]
        },
        {
          "name": "stderr",
          "output_type": "stream",
          "text": [
            "[Parallel(n_jobs=1)]: Done  17 tasks      | elapsed:    0.4s\n"
          ]
        },
        {
          "name": "stdout",
          "output_type": "stream",
          "text": [
            "Not setting metadata\n",
            "120 matching events found\n",
            "No baseline correction applied\n",
            "0 projection items activated\n",
            "Using data from preloaded Raw for 120 events and 5000 original time points ...\n",
            "0 bad epochs dropped\n"
          ]
        },
        {
          "name": "stderr",
          "output_type": "stream",
          "text": [
            "[Parallel(n_jobs=1)]: Done  34 out of  34 | elapsed:    0.8s finished\n",
            "/tmp/ipython-input-9-407938800.py:34: DeprecationWarning: `trapz` is deprecated. Use `trapezoid` instead, or one of the numerical integration functions in `scipy.integrate`.\n",
            "  delta_power = np.trapz(psd[(f >= 0.5) & (f <= 4)], f[(f >= 0.5) & (f <= 4)])\n",
            "/tmp/ipython-input-9-407938800.py:35: DeprecationWarning: `trapz` is deprecated. Use `trapezoid` instead, or one of the numerical integration functions in `scipy.integrate`.\n",
            "  theta_power = np.trapz(psd[(f >= 4) & (f <= 8)], f[(f >= 4) & (f <= 8)])\n",
            "/tmp/ipython-input-9-407938800.py:36: DeprecationWarning: `trapz` is deprecated. Use `trapezoid` instead, or one of the numerical integration functions in `scipy.integrate`.\n",
            "  alpha_power = np.trapz(psd[(f >= 8) & (f <= 13)], f[(f >= 8) & (f <= 13)])\n",
            "/tmp/ipython-input-9-407938800.py:37: DeprecationWarning: `trapz` is deprecated. Use `trapezoid` instead, or one of the numerical integration functions in `scipy.integrate`.\n",
            "  beta_power = np.trapz(psd[(f >= 13) & (f <= 30)], f[(f >= 13) & (f <= 30)])\n"
          ]
        },
        {
          "name": "stdout",
          "output_type": "stream",
          "text": [
            "+++++++++++++++ 58/62 файл обработан +++++++++++++++\n",
            "Extracting EDF parameters from /content/drive/MyDrive/data/300279/001/neurovisor_2025-04-25_10-53-38.edf...\n",
            "EDF file detected\n",
            "Setting channel info structure...\n",
            "Creating raw.info structure...\n",
            "Reading 0 ... 3935999  =      0.000 ...  3935.999 secs...\n"
          ]
        },
        {
          "name": "stderr",
          "output_type": "stream",
          "text": [
            "/tmp/ipython-input-9-407938800.py:8: RuntimeWarning: Channels contain different highpass filters. Highest filter setting will be stored.\n",
            "  raw = mne.io.read_raw_edf(path, preload=True)\n",
            "/tmp/ipython-input-9-407938800.py:8: RuntimeWarning: Channels contain different lowpass filters. Lowest filter setting will be stored.\n",
            "  raw = mne.io.read_raw_edf(path, preload=True)\n"
          ]
        },
        {
          "name": "stdout",
          "output_type": "stream",
          "text": [
            "Filtering raw data in 1 contiguous segment\n",
            "Setting up band-pass filter from 0.5 - 40 Hz\n",
            "\n",
            "FIR filter parameters\n",
            "---------------------\n",
            "Designing a one-pass, zero-phase, non-causal bandpass filter:\n",
            "- Windowed time-domain design (firwin) method\n",
            "- Hamming window with 0.0194 passband ripple and 53 dB stopband attenuation\n",
            "- Lower passband edge: 0.50\n",
            "- Lower transition bandwidth: 0.50 Hz (-6 dB cutoff frequency: 0.25 Hz)\n",
            "- Upper passband edge: 40.00 Hz\n",
            "- Upper transition bandwidth: 10.00 Hz (-6 dB cutoff frequency: 45.00 Hz)\n",
            "- Filter length: 6601 samples (6.601 s)\n",
            "\n"
          ]
        },
        {
          "name": "stderr",
          "output_type": "stream",
          "text": [
            "[Parallel(n_jobs=1)]: Done  17 tasks      | elapsed:    0.4s\n"
          ]
        },
        {
          "name": "stdout",
          "output_type": "stream",
          "text": [
            "Not setting metadata\n",
            "120 matching events found\n",
            "No baseline correction applied\n",
            "0 projection items activated\n",
            "Using data from preloaded Raw for 120 events and 5000 original time points ...\n",
            "0 bad epochs dropped\n"
          ]
        },
        {
          "name": "stderr",
          "output_type": "stream",
          "text": [
            "[Parallel(n_jobs=1)]: Done  34 out of  34 | elapsed:    0.9s finished\n",
            "/tmp/ipython-input-9-407938800.py:34: DeprecationWarning: `trapz` is deprecated. Use `trapezoid` instead, or one of the numerical integration functions in `scipy.integrate`.\n",
            "  delta_power = np.trapz(psd[(f >= 0.5) & (f <= 4)], f[(f >= 0.5) & (f <= 4)])\n",
            "/tmp/ipython-input-9-407938800.py:35: DeprecationWarning: `trapz` is deprecated. Use `trapezoid` instead, or one of the numerical integration functions in `scipy.integrate`.\n",
            "  theta_power = np.trapz(psd[(f >= 4) & (f <= 8)], f[(f >= 4) & (f <= 8)])\n",
            "/tmp/ipython-input-9-407938800.py:36: DeprecationWarning: `trapz` is deprecated. Use `trapezoid` instead, or one of the numerical integration functions in `scipy.integrate`.\n",
            "  alpha_power = np.trapz(psd[(f >= 8) & (f <= 13)], f[(f >= 8) & (f <= 13)])\n",
            "/tmp/ipython-input-9-407938800.py:37: DeprecationWarning: `trapz` is deprecated. Use `trapezoid` instead, or one of the numerical integration functions in `scipy.integrate`.\n",
            "  beta_power = np.trapz(psd[(f >= 13) & (f <= 30)], f[(f >= 13) & (f <= 30)])\n"
          ]
        },
        {
          "name": "stdout",
          "output_type": "stream",
          "text": [
            "+++++++++++++++ 59/62 файл обработан +++++++++++++++\n",
            "Extracting EDF parameters from /content/drive/MyDrive/data/446415/001/neurovisor_2025-04-29_14-02-20.edf...\n",
            "EDF file detected\n",
            "Setting channel info structure...\n",
            "Creating raw.info structure...\n",
            "Reading 0 ... 3924999  =      0.000 ...  3924.999 secs...\n"
          ]
        },
        {
          "name": "stderr",
          "output_type": "stream",
          "text": [
            "/tmp/ipython-input-9-407938800.py:8: RuntimeWarning: Channels contain different highpass filters. Highest filter setting will be stored.\n",
            "  raw = mne.io.read_raw_edf(path, preload=True)\n",
            "/tmp/ipython-input-9-407938800.py:8: RuntimeWarning: Channels contain different lowpass filters. Lowest filter setting will be stored.\n",
            "  raw = mne.io.read_raw_edf(path, preload=True)\n"
          ]
        },
        {
          "name": "stdout",
          "output_type": "stream",
          "text": [
            "Filtering raw data in 1 contiguous segment\n",
            "Setting up band-pass filter from 0.5 - 40 Hz\n",
            "\n",
            "FIR filter parameters\n",
            "---------------------\n",
            "Designing a one-pass, zero-phase, non-causal bandpass filter:\n",
            "- Windowed time-domain design (firwin) method\n",
            "- Hamming window with 0.0194 passband ripple and 53 dB stopband attenuation\n",
            "- Lower passband edge: 0.50\n",
            "- Lower transition bandwidth: 0.50 Hz (-6 dB cutoff frequency: 0.25 Hz)\n",
            "- Upper passband edge: 40.00 Hz\n",
            "- Upper transition bandwidth: 10.00 Hz (-6 dB cutoff frequency: 45.00 Hz)\n",
            "- Filter length: 6601 samples (6.601 s)\n",
            "\n"
          ]
        },
        {
          "name": "stderr",
          "output_type": "stream",
          "text": [
            "[Parallel(n_jobs=1)]: Done  17 tasks      | elapsed:    1.5s\n"
          ]
        },
        {
          "name": "stdout",
          "output_type": "stream",
          "text": [
            "Not setting metadata\n",
            "120 matching events found\n",
            "No baseline correction applied\n",
            "0 projection items activated\n",
            "Using data from preloaded Raw for 120 events and 5000 original time points ...\n"
          ]
        },
        {
          "name": "stderr",
          "output_type": "stream",
          "text": [
            "[Parallel(n_jobs=1)]: Done  34 out of  34 | elapsed:    2.4s finished\n"
          ]
        },
        {
          "name": "stdout",
          "output_type": "stream",
          "text": [
            "0 bad epochs dropped\n"
          ]
        },
        {
          "name": "stderr",
          "output_type": "stream",
          "text": [
            "/tmp/ipython-input-9-407938800.py:34: DeprecationWarning: `trapz` is deprecated. Use `trapezoid` instead, or one of the numerical integration functions in `scipy.integrate`.\n",
            "  delta_power = np.trapz(psd[(f >= 0.5) & (f <= 4)], f[(f >= 0.5) & (f <= 4)])\n",
            "/tmp/ipython-input-9-407938800.py:35: DeprecationWarning: `trapz` is deprecated. Use `trapezoid` instead, or one of the numerical integration functions in `scipy.integrate`.\n",
            "  theta_power = np.trapz(psd[(f >= 4) & (f <= 8)], f[(f >= 4) & (f <= 8)])\n",
            "/tmp/ipython-input-9-407938800.py:36: DeprecationWarning: `trapz` is deprecated. Use `trapezoid` instead, or one of the numerical integration functions in `scipy.integrate`.\n",
            "  alpha_power = np.trapz(psd[(f >= 8) & (f <= 13)], f[(f >= 8) & (f <= 13)])\n",
            "/tmp/ipython-input-9-407938800.py:37: DeprecationWarning: `trapz` is deprecated. Use `trapezoid` instead, or one of the numerical integration functions in `scipy.integrate`.\n",
            "  beta_power = np.trapz(psd[(f >= 13) & (f <= 30)], f[(f >= 13) & (f <= 30)])\n"
          ]
        },
        {
          "name": "stdout",
          "output_type": "stream",
          "text": [
            "+++++++++++++++ 60/62 файл обработан +++++++++++++++\n",
            "Extracting EDF parameters from /content/drive/MyDrive/data/666522/001/neurovisor_2025-04-18_13-52-27.edf...\n",
            "EDF file detected\n",
            "Setting channel info structure...\n",
            "Creating raw.info structure...\n",
            "Reading 0 ... 3920999  =      0.000 ...  3920.999 secs...\n"
          ]
        },
        {
          "name": "stderr",
          "output_type": "stream",
          "text": [
            "/tmp/ipython-input-9-407938800.py:8: RuntimeWarning: Channels contain different highpass filters. Highest filter setting will be stored.\n",
            "  raw = mne.io.read_raw_edf(path, preload=True)\n",
            "/tmp/ipython-input-9-407938800.py:8: RuntimeWarning: Channels contain different lowpass filters. Lowest filter setting will be stored.\n",
            "  raw = mne.io.read_raw_edf(path, preload=True)\n"
          ]
        },
        {
          "name": "stdout",
          "output_type": "stream",
          "text": [
            "Filtering raw data in 1 contiguous segment\n",
            "Setting up band-pass filter from 0.5 - 40 Hz\n",
            "\n",
            "FIR filter parameters\n",
            "---------------------\n",
            "Designing a one-pass, zero-phase, non-causal bandpass filter:\n",
            "- Windowed time-domain design (firwin) method\n",
            "- Hamming window with 0.0194 passband ripple and 53 dB stopband attenuation\n",
            "- Lower passband edge: 0.50\n",
            "- Lower transition bandwidth: 0.50 Hz (-6 dB cutoff frequency: 0.25 Hz)\n",
            "- Upper passband edge: 40.00 Hz\n",
            "- Upper transition bandwidth: 10.00 Hz (-6 dB cutoff frequency: 45.00 Hz)\n",
            "- Filter length: 6601 samples (6.601 s)\n",
            "\n"
          ]
        },
        {
          "name": "stderr",
          "output_type": "stream",
          "text": [
            "[Parallel(n_jobs=1)]: Done  17 tasks      | elapsed:    0.4s\n"
          ]
        },
        {
          "name": "stdout",
          "output_type": "stream",
          "text": [
            "Not setting metadata\n",
            "120 matching events found\n",
            "No baseline correction applied\n",
            "0 projection items activated\n",
            "Using data from preloaded Raw for 120 events and 5000 original time points ...\n",
            "0 bad epochs dropped\n"
          ]
        },
        {
          "name": "stderr",
          "output_type": "stream",
          "text": [
            "[Parallel(n_jobs=1)]: Done  34 out of  34 | elapsed:    0.8s finished\n",
            "/tmp/ipython-input-9-407938800.py:34: DeprecationWarning: `trapz` is deprecated. Use `trapezoid` instead, or one of the numerical integration functions in `scipy.integrate`.\n",
            "  delta_power = np.trapz(psd[(f >= 0.5) & (f <= 4)], f[(f >= 0.5) & (f <= 4)])\n",
            "/tmp/ipython-input-9-407938800.py:35: DeprecationWarning: `trapz` is deprecated. Use `trapezoid` instead, or one of the numerical integration functions in `scipy.integrate`.\n",
            "  theta_power = np.trapz(psd[(f >= 4) & (f <= 8)], f[(f >= 4) & (f <= 8)])\n",
            "/tmp/ipython-input-9-407938800.py:36: DeprecationWarning: `trapz` is deprecated. Use `trapezoid` instead, or one of the numerical integration functions in `scipy.integrate`.\n",
            "  alpha_power = np.trapz(psd[(f >= 8) & (f <= 13)], f[(f >= 8) & (f <= 13)])\n",
            "/tmp/ipython-input-9-407938800.py:37: DeprecationWarning: `trapz` is deprecated. Use `trapezoid` instead, or one of the numerical integration functions in `scipy.integrate`.\n",
            "  beta_power = np.trapz(psd[(f >= 13) & (f <= 30)], f[(f >= 13) & (f <= 30)])\n"
          ]
        },
        {
          "name": "stdout",
          "output_type": "stream",
          "text": [
            "+++++++++++++++ 61/62 файл обработан +++++++++++++++\n",
            "Extracting EDF parameters from /content/drive/MyDrive/data/344772/001/neurovisor_2025-04-21_16-14-32.edf...\n",
            "EDF file detected\n",
            "Setting channel info structure...\n",
            "Creating raw.info structure...\n",
            "Reading 0 ... 3940999  =      0.000 ...  3940.999 secs...\n"
          ]
        },
        {
          "name": "stderr",
          "output_type": "stream",
          "text": [
            "/tmp/ipython-input-9-407938800.py:8: RuntimeWarning: Channels contain different highpass filters. Highest filter setting will be stored.\n",
            "  raw = mne.io.read_raw_edf(path, preload=True)\n",
            "/tmp/ipython-input-9-407938800.py:8: RuntimeWarning: Channels contain different lowpass filters. Lowest filter setting will be stored.\n",
            "  raw = mne.io.read_raw_edf(path, preload=True)\n"
          ]
        },
        {
          "name": "stdout",
          "output_type": "stream",
          "text": [
            "Filtering raw data in 1 contiguous segment\n",
            "Setting up band-pass filter from 0.5 - 40 Hz\n",
            "\n",
            "FIR filter parameters\n",
            "---------------------\n",
            "Designing a one-pass, zero-phase, non-causal bandpass filter:\n",
            "- Windowed time-domain design (firwin) method\n",
            "- Hamming window with 0.0194 passband ripple and 53 dB stopband attenuation\n",
            "- Lower passband edge: 0.50\n",
            "- Lower transition bandwidth: 0.50 Hz (-6 dB cutoff frequency: 0.25 Hz)\n",
            "- Upper passband edge: 40.00 Hz\n",
            "- Upper transition bandwidth: 10.00 Hz (-6 dB cutoff frequency: 45.00 Hz)\n",
            "- Filter length: 6601 samples (6.601 s)\n",
            "\n"
          ]
        },
        {
          "name": "stderr",
          "output_type": "stream",
          "text": [
            "[Parallel(n_jobs=1)]: Done  17 tasks      | elapsed:    0.4s\n"
          ]
        },
        {
          "name": "stdout",
          "output_type": "stream",
          "text": [
            "Not setting metadata\n",
            "120 matching events found\n",
            "No baseline correction applied\n",
            "0 projection items activated\n",
            "Using data from preloaded Raw for 120 events and 5000 original time points ...\n",
            "0 bad epochs dropped\n"
          ]
        },
        {
          "name": "stderr",
          "output_type": "stream",
          "text": [
            "[Parallel(n_jobs=1)]: Done  34 out of  34 | elapsed:    0.9s finished\n",
            "/tmp/ipython-input-9-407938800.py:34: DeprecationWarning: `trapz` is deprecated. Use `trapezoid` instead, or one of the numerical integration functions in `scipy.integrate`.\n",
            "  delta_power = np.trapz(psd[(f >= 0.5) & (f <= 4)], f[(f >= 0.5) & (f <= 4)])\n",
            "/tmp/ipython-input-9-407938800.py:35: DeprecationWarning: `trapz` is deprecated. Use `trapezoid` instead, or one of the numerical integration functions in `scipy.integrate`.\n",
            "  theta_power = np.trapz(psd[(f >= 4) & (f <= 8)], f[(f >= 4) & (f <= 8)])\n",
            "/tmp/ipython-input-9-407938800.py:36: DeprecationWarning: `trapz` is deprecated. Use `trapezoid` instead, or one of the numerical integration functions in `scipy.integrate`.\n",
            "  alpha_power = np.trapz(psd[(f >= 8) & (f <= 13)], f[(f >= 8) & (f <= 13)])\n",
            "/tmp/ipython-input-9-407938800.py:37: DeprecationWarning: `trapz` is deprecated. Use `trapezoid` instead, or one of the numerical integration functions in `scipy.integrate`.\n",
            "  beta_power = np.trapz(psd[(f >= 13) & (f <= 30)], f[(f >= 13) & (f <= 30)])\n"
          ]
        },
        {
          "name": "stdout",
          "output_type": "stream",
          "text": [
            "+++++++++++++++ 62/62 файл обработан +++++++++++++++\n"
          ]
        }
      ],
      "source": [
        "from scipy.stats import entropy\n",
        "from scipy.signal import welch\n",
        "\n",
        "all_data = []\n",
        "\n",
        "count = 0\n",
        "for sn, path in evaluation:\n",
        "  raw = mne.io.read_raw_edf(path, preload=True)\n",
        "  if (sn == 0):\n",
        "    epoch_data = get_epochs(raw, DURATION, MAX)\n",
        "  else:\n",
        "    epoch_data = get_epochs(raw, DURATION, -1)\n",
        "  # Визуализация первых 5 секунд данных (одна эпоха) для всех каналов\n",
        "\n",
        "  n_epochs, n_channels, n_samples = epoch_data.shape\n",
        "  data_normalized = np.zeros_like(epoch_data)\n",
        "\n",
        "  for i in range(epoch_data.shape[0]):  # По всем эпохам\n",
        "      mean = np.mean(epoch_data[i], axis=1, keepdims=True)  # Среднее по времени для каждого канала\n",
        "      std = np.std(epoch_data[i], axis=1, keepdims=True)    # Стандартное отклонение по времени\n",
        "      data_normalized[i] = (epoch_data[i] - mean) / std\n",
        "\n",
        "      epoch_features = []\n",
        "      for channel in data_normalized[i]:\n",
        "        mean_val = np.mean(channel)\n",
        "        std_val = np.std(channel)\n",
        "        peak_to_peak = np.max(channel) - np.min(channel)\n",
        "        hist, _ = np.histogram(channel, bins=10)\n",
        "        ent = entropy(hist)  # Энтропия\n",
        "\n",
        "        fs = raw.info['sfreq']  # Частота дискретизации из метаданных raw\n",
        "        f, psd = welch(channel, fs=fs, nperseg=int(fs))  # nperseg = частота дискретизации для 1 секунды\n",
        "        # Диапазоны частот: дельта (0.5-4 Гц), тета (4-8 Гц), альфа (8-13 Гц), бета (13-30 Гц)\n",
        "        delta_power = np.trapz(psd[(f >= 0.5) & (f <= 4)], f[(f >= 0.5) & (f <= 4)])\n",
        "        theta_power = np.trapz(psd[(f >= 4) & (f <= 8)], f[(f >= 4) & (f <= 8)])\n",
        "        alpha_power = np.trapz(psd[(f >= 8) & (f <= 13)], f[(f >= 8) & (f <= 13)])\n",
        "        beta_power = np.trapz(psd[(f >= 13) & (f <= 30)], f[(f >= 13) & (f <= 30)])\n",
        "\n",
        "        # Список признаков для канала (временные + частотные)\n",
        "        channel_features = [mean_val, std_val, peak_to_peak, ent, delta_power, theta_power, alpha_power, beta_power]\n",
        "        epoch_features.append(channel_features)\n",
        "\n",
        "      all_data.append([np.array(epoch_features).flatten(), sn])\n",
        "\n",
        "  count = count + 1\n",
        "  print(f\"+++++++++++++++ {count}/{len(evaluation)} файл обработан +++++++++++++++\")\n"
      ]
    },
    {
      "cell_type": "markdown",
      "metadata": {
        "id": "raFl-dZxfk5g"
      },
      "source": [
        "## Формирование выборок\n",
        "**Перемешиваем и формируем выборки: обучающая, валидационная, тестовая**"
      ]
    },
    {
      "cell_type": "code",
      "execution_count": 20,
      "metadata": {
        "colab": {
          "base_uri": "https://localhost:8080/"
        },
        "id": "TKX9q5OYfkR4",
        "outputId": "eb4b1003-8412-4e64-a551-9c9adedc1f05"
      },
      "outputs": [
        {
          "name": "stdout",
          "output_type": "stream",
          "text": [
            "Размер обучающей выборки: 2289696\n",
            "Размер валидационной выборки: 763504\n",
            "Размер тестовой выборки: 339456\n",
            "Число мужских дорожек: 4212\n",
            "Число женских дорожек: 4206\n"
          ]
        }
      ],
      "source": [
        "from sklearn.model_selection import train_test_split\n",
        "\n",
        "X = []\n",
        "Y = []\n",
        "\n",
        "for x, y in all_data:\n",
        "  X.append(x)\n",
        "  Y.append(y)\n",
        "\n",
        "# Разделение\n",
        "X_temp, X_test, y_temp, y_test = train_test_split(X, Y, test_size=0.1, stratify=Y, random_state=42)\n",
        "X_train, X_val, y_train, y_val = train_test_split(X_temp, y_temp, test_size=0.25, stratify=y_temp, random_state=42)\n",
        "\n",
        "X_train_np = np.array(X_train)\n",
        "y_train_np = np.array(y_train)\n",
        "X_val_np = np.array(X_val)\n",
        "y_val_np = np.array(y_val)\n",
        "X_test_np = np.array(X_test)\n",
        "y_test_np = np.array(y_test)\n",
        "\n",
        "\n",
        "print(f\"Размер обучающей выборки: {X_train_np.size}\")\n",
        "print(f\"Размер валидационной выборки: {X_val_np.size}\")\n",
        "print(f\"Размер тестовой выборки: {X_test_np.size}\")\n",
        "\n",
        "man = 0\n",
        "woman = 0\n",
        "for i in range(y_train_np.size):\n",
        "  if (y_train_np[i] == np.array(0)):\n",
        "    man += 1\n",
        "  else:\n",
        "    woman += 1\n",
        "\n",
        "print(f\"Число мужских дорожек: {man}\")\n",
        "print(f\"Число женских дорожек: {woman}\")"
      ]
    },
    {
      "cell_type": "markdown",
      "metadata": {
        "id": "Csu2066Pq6AB"
      },
      "source": [
        "## Построение модели"
      ]
    },
    {
      "cell_type": "code",
      "execution_count": 22,
      "metadata": {
        "colab": {
          "base_uri": "https://localhost:8080/",
          "height": 97
        },
        "id": "6-tATFbhmW1s",
        "outputId": "839fcdef-0719-4f5c-e37f-51efccb0b326"
      },
      "outputs": [
        {
          "data": {
            "text/html": [
              "<style>#sk-container-id-1 {\n",
              "  /* Definition of color scheme common for light and dark mode */\n",
              "  --sklearn-color-text: #000;\n",
              "  --sklearn-color-text-muted: #666;\n",
              "  --sklearn-color-line: gray;\n",
              "  /* Definition of color scheme for unfitted estimators */\n",
              "  --sklearn-color-unfitted-level-0: #fff5e6;\n",
              "  --sklearn-color-unfitted-level-1: #f6e4d2;\n",
              "  --sklearn-color-unfitted-level-2: #ffe0b3;\n",
              "  --sklearn-color-unfitted-level-3: chocolate;\n",
              "  /* Definition of color scheme for fitted estimators */\n",
              "  --sklearn-color-fitted-level-0: #f0f8ff;\n",
              "  --sklearn-color-fitted-level-1: #d4ebff;\n",
              "  --sklearn-color-fitted-level-2: #b3dbfd;\n",
              "  --sklearn-color-fitted-level-3: cornflowerblue;\n",
              "\n",
              "  /* Specific color for light theme */\n",
              "  --sklearn-color-text-on-default-background: var(--sg-text-color, var(--theme-code-foreground, var(--jp-content-font-color1, black)));\n",
              "  --sklearn-color-background: var(--sg-background-color, var(--theme-background, var(--jp-layout-color0, white)));\n",
              "  --sklearn-color-border-box: var(--sg-text-color, var(--theme-code-foreground, var(--jp-content-font-color1, black)));\n",
              "  --sklearn-color-icon: #696969;\n",
              "\n",
              "  @media (prefers-color-scheme: dark) {\n",
              "    /* Redefinition of color scheme for dark theme */\n",
              "    --sklearn-color-text-on-default-background: var(--sg-text-color, var(--theme-code-foreground, var(--jp-content-font-color1, white)));\n",
              "    --sklearn-color-background: var(--sg-background-color, var(--theme-background, var(--jp-layout-color0, #111)));\n",
              "    --sklearn-color-border-box: var(--sg-text-color, var(--theme-code-foreground, var(--jp-content-font-color1, white)));\n",
              "    --sklearn-color-icon: #878787;\n",
              "  }\n",
              "}\n",
              "\n",
              "#sk-container-id-1 {\n",
              "  color: var(--sklearn-color-text);\n",
              "}\n",
              "\n",
              "#sk-container-id-1 pre {\n",
              "  padding: 0;\n",
              "}\n",
              "\n",
              "#sk-container-id-1 input.sk-hidden--visually {\n",
              "  border: 0;\n",
              "  clip: rect(1px 1px 1px 1px);\n",
              "  clip: rect(1px, 1px, 1px, 1px);\n",
              "  height: 1px;\n",
              "  margin: -1px;\n",
              "  overflow: hidden;\n",
              "  padding: 0;\n",
              "  position: absolute;\n",
              "  width: 1px;\n",
              "}\n",
              "\n",
              "#sk-container-id-1 div.sk-dashed-wrapped {\n",
              "  border: 1px dashed var(--sklearn-color-line);\n",
              "  margin: 0 0.4em 0.5em 0.4em;\n",
              "  box-sizing: border-box;\n",
              "  padding-bottom: 0.4em;\n",
              "  background-color: var(--sklearn-color-background);\n",
              "}\n",
              "\n",
              "#sk-container-id-1 div.sk-container {\n",
              "  /* jupyter's `normalize.less` sets `[hidden] { display: none; }`\n",
              "     but bootstrap.min.css set `[hidden] { display: none !important; }`\n",
              "     so we also need the `!important` here to be able to override the\n",
              "     default hidden behavior on the sphinx rendered scikit-learn.org.\n",
              "     See: https://github.com/scikit-learn/scikit-learn/issues/21755 */\n",
              "  display: inline-block !important;\n",
              "  position: relative;\n",
              "}\n",
              "\n",
              "#sk-container-id-1 div.sk-text-repr-fallback {\n",
              "  display: none;\n",
              "}\n",
              "\n",
              "div.sk-parallel-item,\n",
              "div.sk-serial,\n",
              "div.sk-item {\n",
              "  /* draw centered vertical line to link estimators */\n",
              "  background-image: linear-gradient(var(--sklearn-color-text-on-default-background), var(--sklearn-color-text-on-default-background));\n",
              "  background-size: 2px 100%;\n",
              "  background-repeat: no-repeat;\n",
              "  background-position: center center;\n",
              "}\n",
              "\n",
              "/* Parallel-specific style estimator block */\n",
              "\n",
              "#sk-container-id-1 div.sk-parallel-item::after {\n",
              "  content: \"\";\n",
              "  width: 100%;\n",
              "  border-bottom: 2px solid var(--sklearn-color-text-on-default-background);\n",
              "  flex-grow: 1;\n",
              "}\n",
              "\n",
              "#sk-container-id-1 div.sk-parallel {\n",
              "  display: flex;\n",
              "  align-items: stretch;\n",
              "  justify-content: center;\n",
              "  background-color: var(--sklearn-color-background);\n",
              "  position: relative;\n",
              "}\n",
              "\n",
              "#sk-container-id-1 div.sk-parallel-item {\n",
              "  display: flex;\n",
              "  flex-direction: column;\n",
              "}\n",
              "\n",
              "#sk-container-id-1 div.sk-parallel-item:first-child::after {\n",
              "  align-self: flex-end;\n",
              "  width: 50%;\n",
              "}\n",
              "\n",
              "#sk-container-id-1 div.sk-parallel-item:last-child::after {\n",
              "  align-self: flex-start;\n",
              "  width: 50%;\n",
              "}\n",
              "\n",
              "#sk-container-id-1 div.sk-parallel-item:only-child::after {\n",
              "  width: 0;\n",
              "}\n",
              "\n",
              "/* Serial-specific style estimator block */\n",
              "\n",
              "#sk-container-id-1 div.sk-serial {\n",
              "  display: flex;\n",
              "  flex-direction: column;\n",
              "  align-items: center;\n",
              "  background-color: var(--sklearn-color-background);\n",
              "  padding-right: 1em;\n",
              "  padding-left: 1em;\n",
              "}\n",
              "\n",
              "\n",
              "/* Toggleable style: style used for estimator/Pipeline/ColumnTransformer box that is\n",
              "clickable and can be expanded/collapsed.\n",
              "- Pipeline and ColumnTransformer use this feature and define the default style\n",
              "- Estimators will overwrite some part of the style using the `sk-estimator` class\n",
              "*/\n",
              "\n",
              "/* Pipeline and ColumnTransformer style (default) */\n",
              "\n",
              "#sk-container-id-1 div.sk-toggleable {\n",
              "  /* Default theme specific background. It is overwritten whether we have a\n",
              "  specific estimator or a Pipeline/ColumnTransformer */\n",
              "  background-color: var(--sklearn-color-background);\n",
              "}\n",
              "\n",
              "/* Toggleable label */\n",
              "#sk-container-id-1 label.sk-toggleable__label {\n",
              "  cursor: pointer;\n",
              "  display: flex;\n",
              "  width: 100%;\n",
              "  margin-bottom: 0;\n",
              "  padding: 0.5em;\n",
              "  box-sizing: border-box;\n",
              "  text-align: center;\n",
              "  align-items: start;\n",
              "  justify-content: space-between;\n",
              "  gap: 0.5em;\n",
              "}\n",
              "\n",
              "#sk-container-id-1 label.sk-toggleable__label .caption {\n",
              "  font-size: 0.6rem;\n",
              "  font-weight: lighter;\n",
              "  color: var(--sklearn-color-text-muted);\n",
              "}\n",
              "\n",
              "#sk-container-id-1 label.sk-toggleable__label-arrow:before {\n",
              "  /* Arrow on the left of the label */\n",
              "  content: \"▸\";\n",
              "  float: left;\n",
              "  margin-right: 0.25em;\n",
              "  color: var(--sklearn-color-icon);\n",
              "}\n",
              "\n",
              "#sk-container-id-1 label.sk-toggleable__label-arrow:hover:before {\n",
              "  color: var(--sklearn-color-text);\n",
              "}\n",
              "\n",
              "/* Toggleable content - dropdown */\n",
              "\n",
              "#sk-container-id-1 div.sk-toggleable__content {\n",
              "  max-height: 0;\n",
              "  max-width: 0;\n",
              "  overflow: hidden;\n",
              "  text-align: left;\n",
              "  /* unfitted */\n",
              "  background-color: var(--sklearn-color-unfitted-level-0);\n",
              "}\n",
              "\n",
              "#sk-container-id-1 div.sk-toggleable__content.fitted {\n",
              "  /* fitted */\n",
              "  background-color: var(--sklearn-color-fitted-level-0);\n",
              "}\n",
              "\n",
              "#sk-container-id-1 div.sk-toggleable__content pre {\n",
              "  margin: 0.2em;\n",
              "  border-radius: 0.25em;\n",
              "  color: var(--sklearn-color-text);\n",
              "  /* unfitted */\n",
              "  background-color: var(--sklearn-color-unfitted-level-0);\n",
              "}\n",
              "\n",
              "#sk-container-id-1 div.sk-toggleable__content.fitted pre {\n",
              "  /* unfitted */\n",
              "  background-color: var(--sklearn-color-fitted-level-0);\n",
              "}\n",
              "\n",
              "#sk-container-id-1 input.sk-toggleable__control:checked~div.sk-toggleable__content {\n",
              "  /* Expand drop-down */\n",
              "  max-height: 200px;\n",
              "  max-width: 100%;\n",
              "  overflow: auto;\n",
              "}\n",
              "\n",
              "#sk-container-id-1 input.sk-toggleable__control:checked~label.sk-toggleable__label-arrow:before {\n",
              "  content: \"▾\";\n",
              "}\n",
              "\n",
              "/* Pipeline/ColumnTransformer-specific style */\n",
              "\n",
              "#sk-container-id-1 div.sk-label input.sk-toggleable__control:checked~label.sk-toggleable__label {\n",
              "  color: var(--sklearn-color-text);\n",
              "  background-color: var(--sklearn-color-unfitted-level-2);\n",
              "}\n",
              "\n",
              "#sk-container-id-1 div.sk-label.fitted input.sk-toggleable__control:checked~label.sk-toggleable__label {\n",
              "  background-color: var(--sklearn-color-fitted-level-2);\n",
              "}\n",
              "\n",
              "/* Estimator-specific style */\n",
              "\n",
              "/* Colorize estimator box */\n",
              "#sk-container-id-1 div.sk-estimator input.sk-toggleable__control:checked~label.sk-toggleable__label {\n",
              "  /* unfitted */\n",
              "  background-color: var(--sklearn-color-unfitted-level-2);\n",
              "}\n",
              "\n",
              "#sk-container-id-1 div.sk-estimator.fitted input.sk-toggleable__control:checked~label.sk-toggleable__label {\n",
              "  /* fitted */\n",
              "  background-color: var(--sklearn-color-fitted-level-2);\n",
              "}\n",
              "\n",
              "#sk-container-id-1 div.sk-label label.sk-toggleable__label,\n",
              "#sk-container-id-1 div.sk-label label {\n",
              "  /* The background is the default theme color */\n",
              "  color: var(--sklearn-color-text-on-default-background);\n",
              "}\n",
              "\n",
              "/* On hover, darken the color of the background */\n",
              "#sk-container-id-1 div.sk-label:hover label.sk-toggleable__label {\n",
              "  color: var(--sklearn-color-text);\n",
              "  background-color: var(--sklearn-color-unfitted-level-2);\n",
              "}\n",
              "\n",
              "/* Label box, darken color on hover, fitted */\n",
              "#sk-container-id-1 div.sk-label.fitted:hover label.sk-toggleable__label.fitted {\n",
              "  color: var(--sklearn-color-text);\n",
              "  background-color: var(--sklearn-color-fitted-level-2);\n",
              "}\n",
              "\n",
              "/* Estimator label */\n",
              "\n",
              "#sk-container-id-1 div.sk-label label {\n",
              "  font-family: monospace;\n",
              "  font-weight: bold;\n",
              "  display: inline-block;\n",
              "  line-height: 1.2em;\n",
              "}\n",
              "\n",
              "#sk-container-id-1 div.sk-label-container {\n",
              "  text-align: center;\n",
              "}\n",
              "\n",
              "/* Estimator-specific */\n",
              "#sk-container-id-1 div.sk-estimator {\n",
              "  font-family: monospace;\n",
              "  border: 1px dotted var(--sklearn-color-border-box);\n",
              "  border-radius: 0.25em;\n",
              "  box-sizing: border-box;\n",
              "  margin-bottom: 0.5em;\n",
              "  /* unfitted */\n",
              "  background-color: var(--sklearn-color-unfitted-level-0);\n",
              "}\n",
              "\n",
              "#sk-container-id-1 div.sk-estimator.fitted {\n",
              "  /* fitted */\n",
              "  background-color: var(--sklearn-color-fitted-level-0);\n",
              "}\n",
              "\n",
              "/* on hover */\n",
              "#sk-container-id-1 div.sk-estimator:hover {\n",
              "  /* unfitted */\n",
              "  background-color: var(--sklearn-color-unfitted-level-2);\n",
              "}\n",
              "\n",
              "#sk-container-id-1 div.sk-estimator.fitted:hover {\n",
              "  /* fitted */\n",
              "  background-color: var(--sklearn-color-fitted-level-2);\n",
              "}\n",
              "\n",
              "/* Specification for estimator info (e.g. \"i\" and \"?\") */\n",
              "\n",
              "/* Common style for \"i\" and \"?\" */\n",
              "\n",
              ".sk-estimator-doc-link,\n",
              "a:link.sk-estimator-doc-link,\n",
              "a:visited.sk-estimator-doc-link {\n",
              "  float: right;\n",
              "  font-size: smaller;\n",
              "  line-height: 1em;\n",
              "  font-family: monospace;\n",
              "  background-color: var(--sklearn-color-background);\n",
              "  border-radius: 1em;\n",
              "  height: 1em;\n",
              "  width: 1em;\n",
              "  text-decoration: none !important;\n",
              "  margin-left: 0.5em;\n",
              "  text-align: center;\n",
              "  /* unfitted */\n",
              "  border: var(--sklearn-color-unfitted-level-1) 1pt solid;\n",
              "  color: var(--sklearn-color-unfitted-level-1);\n",
              "}\n",
              "\n",
              ".sk-estimator-doc-link.fitted,\n",
              "a:link.sk-estimator-doc-link.fitted,\n",
              "a:visited.sk-estimator-doc-link.fitted {\n",
              "  /* fitted */\n",
              "  border: var(--sklearn-color-fitted-level-1) 1pt solid;\n",
              "  color: var(--sklearn-color-fitted-level-1);\n",
              "}\n",
              "\n",
              "/* On hover */\n",
              "div.sk-estimator:hover .sk-estimator-doc-link:hover,\n",
              ".sk-estimator-doc-link:hover,\n",
              "div.sk-label-container:hover .sk-estimator-doc-link:hover,\n",
              ".sk-estimator-doc-link:hover {\n",
              "  /* unfitted */\n",
              "  background-color: var(--sklearn-color-unfitted-level-3);\n",
              "  color: var(--sklearn-color-background);\n",
              "  text-decoration: none;\n",
              "}\n",
              "\n",
              "div.sk-estimator.fitted:hover .sk-estimator-doc-link.fitted:hover,\n",
              ".sk-estimator-doc-link.fitted:hover,\n",
              "div.sk-label-container:hover .sk-estimator-doc-link.fitted:hover,\n",
              ".sk-estimator-doc-link.fitted:hover {\n",
              "  /* fitted */\n",
              "  background-color: var(--sklearn-color-fitted-level-3);\n",
              "  color: var(--sklearn-color-background);\n",
              "  text-decoration: none;\n",
              "}\n",
              "\n",
              "/* Span, style for the box shown on hovering the info icon */\n",
              ".sk-estimator-doc-link span {\n",
              "  display: none;\n",
              "  z-index: 9999;\n",
              "  position: relative;\n",
              "  font-weight: normal;\n",
              "  right: .2ex;\n",
              "  padding: .5ex;\n",
              "  margin: .5ex;\n",
              "  width: min-content;\n",
              "  min-width: 20ex;\n",
              "  max-width: 50ex;\n",
              "  color: var(--sklearn-color-text);\n",
              "  box-shadow: 2pt 2pt 4pt #999;\n",
              "  /* unfitted */\n",
              "  background: var(--sklearn-color-unfitted-level-0);\n",
              "  border: .5pt solid var(--sklearn-color-unfitted-level-3);\n",
              "}\n",
              "\n",
              ".sk-estimator-doc-link.fitted span {\n",
              "  /* fitted */\n",
              "  background: var(--sklearn-color-fitted-level-0);\n",
              "  border: var(--sklearn-color-fitted-level-3);\n",
              "}\n",
              "\n",
              ".sk-estimator-doc-link:hover span {\n",
              "  display: block;\n",
              "}\n",
              "\n",
              "/* \"?\"-specific style due to the `<a>` HTML tag */\n",
              "\n",
              "#sk-container-id-1 a.estimator_doc_link {\n",
              "  float: right;\n",
              "  font-size: 1rem;\n",
              "  line-height: 1em;\n",
              "  font-family: monospace;\n",
              "  background-color: var(--sklearn-color-background);\n",
              "  border-radius: 1rem;\n",
              "  height: 1rem;\n",
              "  width: 1rem;\n",
              "  text-decoration: none;\n",
              "  /* unfitted */\n",
              "  color: var(--sklearn-color-unfitted-level-1);\n",
              "  border: var(--sklearn-color-unfitted-level-1) 1pt solid;\n",
              "}\n",
              "\n",
              "#sk-container-id-1 a.estimator_doc_link.fitted {\n",
              "  /* fitted */\n",
              "  border: var(--sklearn-color-fitted-level-1) 1pt solid;\n",
              "  color: var(--sklearn-color-fitted-level-1);\n",
              "}\n",
              "\n",
              "/* On hover */\n",
              "#sk-container-id-1 a.estimator_doc_link:hover {\n",
              "  /* unfitted */\n",
              "  background-color: var(--sklearn-color-unfitted-level-3);\n",
              "  color: var(--sklearn-color-background);\n",
              "  text-decoration: none;\n",
              "}\n",
              "\n",
              "#sk-container-id-1 a.estimator_doc_link.fitted:hover {\n",
              "  /* fitted */\n",
              "  background-color: var(--sklearn-color-fitted-level-3);\n",
              "}\n",
              "</style><div id=\"sk-container-id-1\" class=\"sk-top-container\"><div class=\"sk-text-repr-fallback\"><pre>RandomForestClassifier(max_depth=15, min_samples_leaf=4, min_samples_split=5,\n",
              "                       n_estimators=500, random_state=42)</pre><b>In a Jupyter environment, please rerun this cell to show the HTML representation or trust the notebook. <br />On GitHub, the HTML representation is unable to render, please try loading this page with nbviewer.org.</b></div><div class=\"sk-container\" hidden><div class=\"sk-item\"><div class=\"sk-estimator fitted sk-toggleable\"><input class=\"sk-toggleable__control sk-hidden--visually\" id=\"sk-estimator-id-1\" type=\"checkbox\" checked><label for=\"sk-estimator-id-1\" class=\"sk-toggleable__label fitted sk-toggleable__label-arrow\"><div><div>RandomForestClassifier</div></div><div><a class=\"sk-estimator-doc-link fitted\" rel=\"noreferrer\" target=\"_blank\" href=\"https://scikit-learn.org/1.6/modules/generated/sklearn.ensemble.RandomForestClassifier.html\">?<span>Documentation for RandomForestClassifier</span></a><span class=\"sk-estimator-doc-link fitted\">i<span>Fitted</span></span></div></label><div class=\"sk-toggleable__content fitted\"><pre>RandomForestClassifier(max_depth=15, min_samples_leaf=4, min_samples_split=5,\n",
              "                       n_estimators=500, random_state=42)</pre></div> </div></div></div></div>"
            ],
            "text/plain": [
              "RandomForestClassifier(max_depth=15, min_samples_leaf=4, min_samples_split=5,\n",
              "                       n_estimators=500, random_state=42)"
            ]
          },
          "execution_count": 22,
          "metadata": {},
          "output_type": "execute_result"
        }
      ],
      "source": [
        "from sklearn.ensemble import RandomForestClassifier\n",
        "from sklearn.model_selection import GridSearchCV, cross_val_score\n",
        "# Преобразование тензоров в numpy-массивы\n",
        "\n",
        "\n",
        "rf_model = RandomForestClassifier(\n",
        "    max_depth=15,\n",
        "    min_samples_leaf=4,\n",
        "    min_samples_split=5,\n",
        "    n_estimators=500,\n",
        "    random_state=42\n",
        ")\n",
        "\n",
        "# Обучение модели\n",
        "rf_model.fit(X_train_np, y_train_np)"
      ]
    },
    {
      "cell_type": "code",
      "execution_count": 23,
      "metadata": {
        "colab": {
          "base_uri": "https://localhost:8080/"
        },
        "id": "GdshlJBXxiT7",
        "outputId": "97e1d0dd-212f-4d1d-a3a2-f8e2983297be"
      },
      "outputs": [
        {
          "name": "stdout",
          "output_type": "stream",
          "text": [
            "Validation Accuracy: 91.45%\n",
            "Test Accuracy: 89.50%\n",
            "F1-score: 0.8968\n",
            "ROC-AUC: 0.9664\n"
          ]
        }
      ],
      "source": [
        "from sklearn.metrics import accuracy_score, confusion_matrix, roc_auc_score, f1_score\n",
        "# Предсказание на валидационной и тестовой выборках\n",
        "y_val_pred = rf_model.predict(X_val_np)\n",
        "val_accuracy = accuracy_score(y_val_np, y_val_pred)\n",
        "print(f'Validation Accuracy: {val_accuracy * 100:.2f}%')\n",
        "\n",
        "y_test_pred = rf_model.predict(X_test_np)\n",
        "y_proba = rf_model.predict_proba(X_test)[:, 1]\n",
        "\n",
        "test_accuracy = accuracy_score(y_test_np, y_test_pred)\n",
        "print(f'Test Accuracy: {test_accuracy * 100:.2f}%')\n",
        "\n",
        "f1 = f1_score(y_test_np, y_test_pred)\n",
        "print(f\"F1-score: {f1:.4f}\")\n",
        "\n",
        "roc_auc = roc_auc_score(y_test_np, y_proba)\n",
        "print(f\"ROC-AUC: {roc_auc:.4f}\")\n"
      ]
    },
    {
      "cell_type": "code",
      "execution_count": 24,
      "metadata": {
        "colab": {
          "base_uri": "https://localhost:8080/"
        },
        "id": "kEjfJgB-IEOt",
        "outputId": "0de42b22-0502-4b0e-ae52-4f9fb6cedddd"
      },
      "outputs": [
        {
          "name": "stdout",
          "output_type": "stream",
          "text": [
            "\n",
            "Проверка одного элемента:\n",
            "Истинная метка: 0 (0 = женщина, 1 = мужчина)\n",
            "Предсказанная метка: 0 (0 = женщина, 1 = мужчина)\n",
            "Предсказание: Правильно\n",
            "\n",
            "Проверка одного элемента:\n",
            "Истинная метка: 0 (0 = женщина, 1 = мужчина)\n",
            "Предсказанная метка: 0 (0 = женщина, 1 = мужчина)\n",
            "Предсказание: Правильно\n",
            "Верно - 84 Неверно - 16\n"
          ]
        }
      ],
      "source": [
        "# Проверка одного элемента из тестовой выборки\n",
        "sample_index = 0\n",
        "lose = 0\n",
        "win = 0\n",
        "while sample_index < 100:\n",
        "  single_X = X_test_np[sample_index].reshape(1, -1)\n",
        "  single_y = y_test_np[sample_index]\n",
        "  single_pred = rf_model.predict(single_X)\n",
        "\n",
        "  if (sample_index < 2):\n",
        "    print(f\"\\nПроверка одного элемента:\")\n",
        "    print(f\"Истинная метка: {single_y} (0 = женщина, 1 = мужчина)\")\n",
        "    print(f\"Предсказанная метка: {single_pred[0]} (0 = женщина, 1 = мужчина)\")\n",
        "    is_correct = \"Правильно\" if single_pred[0] == single_y else \"Неправильно\"\n",
        "    print(f\"Предсказание: {is_correct}\")\n",
        "\n",
        "  if single_pred[0] == single_y:\n",
        "    win = win + 1\n",
        "  else:\n",
        "    lose = lose + 1\n",
        "  sample_index = sample_index + 1\n",
        "print(f\"Верно - {win} Неверно - {lose}\")"
      ]
    }
  ],
  "metadata": {
    "colab": {
      "provenance": [],
      "toc_visible": true
    },
    "kernelspec": {
      "display_name": "Python 3",
      "name": "python3"
    },
    "language_info": {
      "name": "python"
    }
  },
  "nbformat": 4,
  "nbformat_minor": 0
}
